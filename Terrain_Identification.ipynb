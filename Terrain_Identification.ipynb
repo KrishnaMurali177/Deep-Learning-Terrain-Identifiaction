{
  "nbformat": 4,
  "nbformat_minor": 0,
  "metadata": {
    "colab": {
      "name": "Terrain_Identification.ipynb",
      "provenance": [],
      "collapsed_sections": []
    },
    "kernelspec": {
      "name": "python3",
      "display_name": "Python 3"
    }
  },
  "cells": [
    {
      "cell_type": "code",
      "metadata": {
        "id": "D5SToBaWyNH2",
        "outputId": "eb9e6b61-37c8-4e60-ffb0-6f327806d520",
        "colab": {
          "base_uri": "https://localhost:8080/"
        }
      },
      "source": [
        "pip install -U imbalanced-learn"
      ],
      "execution_count": 1,
      "outputs": [
        {
          "output_type": "stream",
          "text": [
            "Collecting imbalanced-learn\n",
            "\u001b[?25l  Downloading https://files.pythonhosted.org/packages/c8/81/8db4d87b03b998fda7c6f835d807c9ae4e3b141f978597b8d7f31600be15/imbalanced_learn-0.7.0-py3-none-any.whl (167kB)\n",
            "\u001b[K     |████████████████████████████████| 174kB 2.8MB/s \n",
            "\u001b[?25hCollecting scikit-learn>=0.23\n",
            "\u001b[?25l  Downloading https://files.pythonhosted.org/packages/5c/a1/273def87037a7fb010512bbc5901c31cfddfca8080bc63b42b26e3cc55b3/scikit_learn-0.23.2-cp36-cp36m-manylinux1_x86_64.whl (6.8MB)\n",
            "\u001b[K     |████████████████████████████████| 6.8MB 8.6MB/s \n",
            "\u001b[?25hRequirement already satisfied, skipping upgrade: scipy>=0.19.1 in /usr/local/lib/python3.6/dist-packages (from imbalanced-learn) (1.4.1)\n",
            "Requirement already satisfied, skipping upgrade: numpy>=1.13.3 in /usr/local/lib/python3.6/dist-packages (from imbalanced-learn) (1.18.5)\n",
            "Requirement already satisfied, skipping upgrade: joblib>=0.11 in /usr/local/lib/python3.6/dist-packages (from imbalanced-learn) (0.17.0)\n",
            "Collecting threadpoolctl>=2.0.0\n",
            "  Downloading https://files.pythonhosted.org/packages/f7/12/ec3f2e203afa394a149911729357aa48affc59c20e2c1c8297a60f33f133/threadpoolctl-2.1.0-py3-none-any.whl\n",
            "Installing collected packages: threadpoolctl, scikit-learn, imbalanced-learn\n",
            "  Found existing installation: scikit-learn 0.22.2.post1\n",
            "    Uninstalling scikit-learn-0.22.2.post1:\n",
            "      Successfully uninstalled scikit-learn-0.22.2.post1\n",
            "  Found existing installation: imbalanced-learn 0.4.3\n",
            "    Uninstalling imbalanced-learn-0.4.3:\n",
            "      Successfully uninstalled imbalanced-learn-0.4.3\n",
            "Successfully installed imbalanced-learn-0.7.0 scikit-learn-0.23.2 threadpoolctl-2.1.0\n"
          ],
          "name": "stdout"
        }
      ]
    },
    {
      "cell_type": "code",
      "metadata": {
        "id": "hqQPm1v6J750"
      },
      "source": [
        "# Required Imports\n",
        "import collections\n",
        "import tensorflow as tf\n",
        "import matplotlib.pyplot as plt\n",
        "from keras.models import Sequential, load_model\n",
        "from keras.layers import Dense, Activation, Embedding, BatchNormalization\n",
        "from keras.utils import to_categorical\n",
        "from keras.callbacks import ModelCheckpoint\n",
        "import numpy as np\n",
        "from tensorflow.keras import regularizers\n",
        "from keras.optimizers import SGD\n",
        "from keras.callbacks import Callback\n",
        "from sklearn.metrics import confusion_matrix, f1_score, precision_score, recall_score\n",
        "import glob\n",
        "import pandas as pd\n",
        "import math\n",
        "from imblearn.over_sampling import KMeansSMOTE\n",
        "from xgboost import XGBClassifier\n",
        "from sklearn.metrics import accuracy_score, f1_score"
      ],
      "execution_count": 2,
      "outputs": []
    },
    {
      "cell_type": "code",
      "metadata": {
        "id": "F2Gudi1vLEW9",
        "outputId": "fb2fd63d-fc9f-4e88-e9a1-2ece868a32d1",
        "colab": {
          "base_uri": "https://localhost:8080/"
        }
      },
      "source": [
        "from google.colab import drive\n",
        "drive.mount('/content/drive')"
      ],
      "execution_count": 3,
      "outputs": [
        {
          "output_type": "stream",
          "text": [
            "Drive already mounted at /content/drive; to attempt to forcibly remount, call drive.mount(\"/content/drive\", force_remount=True).\n"
          ],
          "name": "stdout"
        }
      ]
    },
    {
      "cell_type": "code",
      "metadata": {
        "id": "K_YHvYPTqdzm"
      },
      "source": [
        "from keras import backend as K\n",
        "# Computing Custom metrics\n",
        "\n",
        "def recall_m(y_true, y_pred):\n",
        "    true_positives = K.sum(K.round(K.clip(y_true * y_pred, 0, 1)))\n",
        "    possible_positives = K.sum(K.round(K.clip(y_true, 0, 1)))\n",
        "    recall = true_positives / (possible_positives + K.epsilon())\n",
        "    return recall\n",
        "\n",
        "def precision_m(y_true, y_pred):\n",
        "    true_positives = K.sum(K.round(K.clip(y_true * y_pred, 0, 1)))\n",
        "    predicted_positives = K.sum(K.round(K.clip(y_pred, 0, 1)))\n",
        "    precision = true_positives / (predicted_positives + K.epsilon())\n",
        "    return precision\n",
        "\n",
        "def f1_m(y_true, y_pred):\n",
        "    precision = precision_m(y_true, y_pred)\n",
        "    recall = recall_m(y_true, y_pred)\n",
        "    return 2*((precision*recall)/(precision+recall+K.epsilon()))"
      ],
      "execution_count": 4,
      "outputs": []
    },
    {
      "cell_type": "code",
      "metadata": {
        "id": "zi2g8IdWSMqL"
      },
      "source": [
        "# Loading the data into a DataFrame\n",
        "all_filenames = [i for i in glob.glob('/content/drive/My Drive/TrainingData/*.{}'.format('csv'))]\n",
        "df_x, df_x_time, df_y, df_y_time = [], [], [], []\n",
        "for f in all_filenames:\n",
        "    if f.endswith('x.csv'):\n",
        "      df = pd.read_csv(f, header=None)\n",
        "      df['subject'] = f.split('/')[-1].split('_')[1]\n",
        "      df['subject_ID'] = f.split('/')[-1].split('_')[2]\n",
        "      df_x.append(df)\n",
        "    if f.endswith('x_time.csv'):\n",
        "      df = pd.read_csv(f, header=None)\n",
        "      df_x_time.append(df)\n",
        "    if f.endswith('y.csv'):\n",
        "      df = pd.read_csv(f, header=None)\n",
        "      df['subject'] = f.split('/')[-1].split('_')[1]\n",
        "      df['subject_ID'] = f.split('/')[-1].split('_')[2]\n",
        "      df_y.append(df)\n",
        "    if f.endswith('y_time.csv'):\n",
        "      df = pd.read_csv(f, header=None)\n",
        "      df_y_time.append(df)\n",
        "    \n",
        "x = pd.concat(df_x, ignore_index=True)\n",
        "x.columns = ['x1', 'x2', 'x3', 'x4', 'x5', 'x6', 'subject', 'subject_ID']\n",
        "x_time = pd.concat(df_x_time, ignore_index=True)\n",
        "x_time.columns = ['x_time']\n",
        "y = pd.concat(df_y, ignore_index=True)\n",
        "y.columns = ['y', 'subject', 'subject_ID']\n",
        "y_time = pd.concat(df_y_time, ignore_index=True)\n",
        "y_time.columns = ['y_time']\n",
        "x['time'] = x_time['x_time']\n",
        "y['time'] = y_time['y_time']\n",
        "y['time'] = [round(x+0.005,3) for x in y['time']]"
      ],
      "execution_count": 5,
      "outputs": []
    },
    {
      "cell_type": "code",
      "metadata": {
        "id": "Cm7VVYa44PTI"
      },
      "source": [
        "# Merging X and Y and retaining all features\n",
        "full_df = pd.merge(x,y, on=['time','subject', 'subject_ID'], how='left')"
      ],
      "execution_count": 6,
      "outputs": []
    },
    {
      "cell_type": "code",
      "metadata": {
        "id": "DW5UFatPl4LP"
      },
      "source": [
        "full_df['y'] = full_df['y'].interpolate(method='nearest')\n",
        "# Dropping nulls\n",
        "full_df.dropna(inplace=True)"
      ],
      "execution_count": 7,
      "outputs": []
    },
    {
      "cell_type": "code",
      "metadata": {
        "id": "koMjAntvTdeN"
      },
      "source": [
        "from numpy import array\n",
        "# Function to split the data points into 40 timesteps\n",
        "def split_sequences(sequences, n_steps):\n",
        "\tX, y = list(), list()\n",
        "\tend_flag = True\n",
        "\tfor i in range(len(sequences)):\n",
        "\t\t# find the end of this pattern\n",
        "\t\tend_ix = i + n_steps\n",
        "\t\t# check if we are beyond the dataset\n",
        "\t\tif end_ix > len(sequences):\n",
        "\t\t\tend_flag = False\n",
        "\t\t\tfor j in range(i, len(sequences)):\n",
        "\t\t\t\tseq_x = sequences[j:, :-1]\n",
        "\t\t\t\tif seq_x.shape[0] < n_steps:\n",
        "\t\t\t\t\t#zero padding\n",
        "\t\t\t\t\tadd_x = np.zeros((n_steps-seq_x.shape[0],6))\n",
        "\t\t\t\t\t# add_x = sequences[-(n_steps-seq_x.shape[0]):,:-1]\n",
        "\t\t\t\t\tseq_x = np.r_[seq_x, add_x]\n",
        "\t\t\t\t\tseq_y = sequences[j, -1]\n",
        "\t\t\t\tX.append(seq_x)\n",
        "\t\t\t\ty.append(seq_y)\n",
        "\t\t\tbreak\n",
        "    # gather input and output parts of the pattern\n",
        "\t\tif (end_flag):\n",
        "\t\t\tseq_x, seq_y = sequences[i:end_ix, :-1], sequences[end_ix-1, -1]\n",
        "\t\t\tX.append(seq_x)\n",
        "\t\t\ty.append(seq_y)\n",
        "\treturn array(X), array(y)"
      ],
      "execution_count": 8,
      "outputs": []
    },
    {
      "cell_type": "code",
      "metadata": {
        "id": "0fvC2JFguw0Q"
      },
      "source": [
        "# Dividing the data into groups of Subject and Subject ID\n",
        "final_X, final_y = list(), list()\n",
        "for name, group in full_df.groupby(['subject', 'subject_ID']):\n",
        "  df = group\n",
        "  in_seq1 = df['x1'].to_numpy().reshape((len(df['x1']), 1))\n",
        "  in_seq2 = df['x2'].to_numpy().reshape((len(df['x2']), 1))\n",
        "  in_seq3 = df['x3'].to_numpy().reshape((len(df['x3']), 1))\n",
        "  in_seq4 = df['x4'].to_numpy().reshape((len(df['x4']), 1))\n",
        "  in_seq5 = df['x5'].to_numpy().reshape((len(df['x5']), 1))\n",
        "  in_seq6 = df['x6'].to_numpy().reshape((len(df['x6']), 1))\n",
        "  out_seq = df['y'].to_numpy().reshape((len(df['y']), 1))\n",
        "  dataset = np.hstack((in_seq1, in_seq2, in_seq3, in_seq4, in_seq5, in_seq6, out_seq))\n",
        "  X, y = split_sequences(dataset, 40)\n",
        "  final_X.extend(X)\n",
        "  final_y.extend(y)\n",
        "X = array(final_X)\n",
        "y = array(final_y)"
      ],
      "execution_count": 9,
      "outputs": []
    },
    {
      "cell_type": "code",
      "metadata": {
        "id": "LyP2W0F-xI59"
      },
      "source": [
        "ind = np.argwhere(np.isnan(y)).flatten()\n",
        "allrows = np.array(range(len(X)))\n",
        "X_n = X[np.setdiff1d(allrows,ind)]\n",
        "y = y[~np.isnan(y)]\n",
        "y = y.reshape(-1,1)"
      ],
      "execution_count": 10,
      "outputs": []
    },
    {
      "cell_type": "code",
      "metadata": {
        "id": "vQd1-7jq5z7E",
        "outputId": "887b6593-fd9b-40e0-8a02-4b978e814ff0",
        "colab": {
          "base_uri": "https://localhost:8080/"
        }
      },
      "source": [
        "unique, counts = np.unique(y, return_counts=True)\n",
        "print(unique)\n",
        "print(counts)"
      ],
      "execution_count": 11,
      "outputs": [
        {
          "output_type": "stream",
          "text": [
            "[0. 1. 2. 3.]\n",
            "[1017904   81578   60243  207358]\n"
          ],
          "name": "stdout"
        }
      ]
    },
    {
      "cell_type": "code",
      "metadata": {
        "id": "SEC89v4s6CDr"
      },
      "source": [
        "# Garbage collection to free memory\n",
        "lst = [[full_df, df, final_X, final_y, X, df_x, df_x_time, df_y, df_y_time, df, in_seq1, in_seq2, in_seq3, in_seq4, in_seq5, in_seq6, out_seq, dataset]]\n",
        "del lst\n",
        "full_df=pd.DataFrame()\n",
        "df=pd.DataFrame()\n",
        "final_X = []\n",
        "final_y = []\n",
        "X = []\n",
        "df_x, df_x_time, df_y, df_y_time = [], [], [], []\n",
        "df = []\n",
        "in_seq1, in_seq2, in_seq3, in_seq4, in_seq5, in_seq6, out_seq, dataset = [], [], [], [], [], [], [], []"
      ],
      "execution_count": 12,
      "outputs": []
    },
    {
      "cell_type": "code",
      "metadata": {
        "id": "VeD8KP-f4Moc",
        "outputId": "b4b8919c-06ae-4445-8384-2688bcbbcd27",
        "colab": {
          "base_uri": "https://localhost:8080/"
        }
      },
      "source": [
        "# CNN model\n",
        "model_CNN = Sequential()\n",
        "\n",
        "#Adding the input layer with an input shape of flattened timesteps\n",
        "model_CNN.add(Dense(256, activation= 'relu', input_shape=(1,240)))\n",
        "#Adding consequetive hidden layers with batch normalization layers with swish activation\n",
        "model_CNN.add(Dense(512, activation= 'swish'))\n",
        "model_CNN.add(BatchNormalization())\n",
        "model_CNN.add(Dense(512, activation= 'swish'))\n",
        "model_CNN.add(BatchNormalization())\n",
        "model_CNN.add(Dense(256, activation= 'swish'))\n",
        "model_CNN.add(BatchNormalization())\n",
        "model_CNN.add(Dense(128, activation= 'swish'))\n",
        "model_CNN.add(BatchNormalization())\n",
        "model_CNN.add(Dense(64, activation= 'swish'))\n",
        "model_CNN.add(BatchNormalization())\n",
        "model_CNN.add(Dense(32, activation= 'swish'))\n",
        "model_CNN.add(BatchNormalization())\n",
        "#Adding the Output Layer\n",
        "model_CNN.add(Dense(4, activation='softmax')) \n",
        "#Compiling with SGD optimizer having 0.9 momentum and nesterov momentum\n",
        "model_CNN.compile(optimizer=SGD(momentum=0.9, nesterov=True), loss='categorical_crossentropy', metrics=['categorical_accuracy', f1_m], sample_weight_mode=\"temporal\")\n",
        "model_CNN.summary()"
      ],
      "execution_count": 23,
      "outputs": [
        {
          "output_type": "stream",
          "text": [
            "Model: \"sequential_1\"\n",
            "_________________________________________________________________\n",
            "Layer (type)                 Output Shape              Param #   \n",
            "=================================================================\n",
            "dense_8 (Dense)              (None, 1, 256)            61696     \n",
            "_________________________________________________________________\n",
            "dense_9 (Dense)              (None, 1, 512)            131584    \n",
            "_________________________________________________________________\n",
            "batch_normalization_6 (Batch (None, 1, 512)            2048      \n",
            "_________________________________________________________________\n",
            "dense_10 (Dense)             (None, 1, 512)            262656    \n",
            "_________________________________________________________________\n",
            "batch_normalization_7 (Batch (None, 1, 512)            2048      \n",
            "_________________________________________________________________\n",
            "dense_11 (Dense)             (None, 1, 256)            131328    \n",
            "_________________________________________________________________\n",
            "batch_normalization_8 (Batch (None, 1, 256)            1024      \n",
            "_________________________________________________________________\n",
            "dense_12 (Dense)             (None, 1, 128)            32896     \n",
            "_________________________________________________________________\n",
            "batch_normalization_9 (Batch (None, 1, 128)            512       \n",
            "_________________________________________________________________\n",
            "dense_13 (Dense)             (None, 1, 64)             8256      \n",
            "_________________________________________________________________\n",
            "batch_normalization_10 (Batc (None, 1, 64)             256       \n",
            "_________________________________________________________________\n",
            "dense_14 (Dense)             (None, 1, 32)             2080      \n",
            "_________________________________________________________________\n",
            "batch_normalization_11 (Batc (None, 1, 32)             128       \n",
            "_________________________________________________________________\n",
            "dense_15 (Dense)             (None, 1, 4)              132       \n",
            "=================================================================\n",
            "Total params: 636,644\n",
            "Trainable params: 633,636\n",
            "Non-trainable params: 3,008\n",
            "_________________________________________________________________\n"
          ],
          "name": "stdout"
        }
      ]
    },
    {
      "cell_type": "code",
      "metadata": {
        "id": "wPfOk4CX9OfQ",
        "outputId": "8259349d-f020-4a66-8023-78e162fe4324",
        "colab": {
          "base_uri": "https://localhost:8080/"
        }
      },
      "source": [
        "model_CNN.input_shape"
      ],
      "execution_count": 14,
      "outputs": [
        {
          "output_type": "execute_result",
          "data": {
            "text/plain": [
              "(None, 1, 240)"
            ]
          },
          "metadata": {
            "tags": []
          },
          "execution_count": 14
        }
      ]
    },
    {
      "cell_type": "code",
      "metadata": {
        "id": "H16wV_2LJam1",
        "outputId": "2d91fee4-0716-4773-8d9d-c60dacb3ee4f",
        "colab": {
          "base_uri": "https://localhost:8080/"
        }
      },
      "source": [
        "model_CNN.output_shape"
      ],
      "execution_count": 15,
      "outputs": [
        {
          "output_type": "execute_result",
          "data": {
            "text/plain": [
              "(None, 1, 4)"
            ]
          },
          "metadata": {
            "tags": []
          },
          "execution_count": 15
        }
      ]
    },
    {
      "cell_type": "code",
      "metadata": {
        "id": "BEz9JD1mK_Bn"
      },
      "source": [
        "# Performing a 70:30 split of the data into training and validation sets\n",
        "from sklearn.model_selection import train_test_split\n",
        "X_train, X_test, y_train, y_test = train_test_split(X_n, y, test_size=0.3, random_state=177)"
      ],
      "execution_count": 16,
      "outputs": []
    },
    {
      "cell_type": "code",
      "metadata": {
        "id": "CpXFSnmHqfy4"
      },
      "source": [
        "# Scaling the data\n",
        "from sklearn.preprocessing import StandardScaler\n",
        "scaler = StandardScaler()\n",
        "X_train = scaler.fit_transform(X_train.reshape(-1,240))\n",
        "X_test = scaler.transform(X_test.reshape(-1,240))"
      ],
      "execution_count": 17,
      "outputs": []
    },
    {
      "cell_type": "code",
      "metadata": {
        "id": "1AwWSbEvNTGw"
      },
      "source": [
        "# Clearing out memory\n",
        "lst = [[X_n, y, x, x_time]]\n",
        "del lst\n",
        "X_n = []\n",
        "y = []\n",
        "x = []\n",
        "x_time = []"
      ],
      "execution_count": 18,
      "outputs": []
    },
    {
      "cell_type": "code",
      "metadata": {
        "id": "6NpNHWa_n3sw"
      },
      "source": [
        "# Over Sampling Classes 1 and 2 using kmeansSMOTE\n",
        "oversample = KMeansSMOTE(sampling_strategy={1:145000, 2:145000}, cluster_balance_threshold=0.03, k_neighbors=3)\n",
        "X_train = X_train.reshape(-1,240)\n",
        "X_train, y_train = oversample.fit_resample(X_train, y_train)"
      ],
      "execution_count": 22,
      "outputs": []
    },
    {
      "cell_type": "code",
      "metadata": {
        "id": "dMfZaqYlM8Cl",
        "outputId": "fbad597d-78f3-443d-b826-54cadf81eab1",
        "colab": {
          "base_uri": "https://localhost:8080/"
        }
      },
      "source": [
        "# Checking the count of classes after resampling\n",
        "unique, counts = np.unique(y_train, return_counts=True)\n",
        "print(unique)\n",
        "print(counts)"
      ],
      "execution_count": 24,
      "outputs": [
        {
          "output_type": "stream",
          "text": [
            "[0. 1. 2. 3.]\n",
            "[712382 145005 145003 145092]\n"
          ],
          "name": "stdout"
        }
      ]
    },
    {
      "cell_type": "code",
      "metadata": {
        "id": "lstU1DvBlSur"
      },
      "source": [
        "# Ading class weight parameter in CNN models\n",
        "class_weights = np.zeros((len(y_train), 4))\n",
        "class_weights[:, 0] += 1\n",
        "class_weights[:, 1] += 50\n",
        "class_weights[:, 2] += 45\n",
        "class_weights[:, 3] += 10"
      ],
      "execution_count": 25,
      "outputs": []
    },
    {
      "cell_type": "code",
      "metadata": {
        "id": "EQOV_lvNkBfx"
      },
      "source": [
        "# Reshape inputs according to input shape\n",
        "X_train = X_train.reshape(-1,1,240)\n",
        "X_test = X_test.reshape(-1,1,240)"
      ],
      "execution_count": 26,
      "outputs": []
    },
    {
      "cell_type": "code",
      "metadata": {
        "id": "N_HXHo03eaUN"
      },
      "source": [
        "# Reshape according to model output size\n",
        "y_train = to_categorical(y_train).reshape(-1,1,4)\n",
        "y_test = to_categorical(y_test).reshape(-1,1,4)"
      ],
      "execution_count": 27,
      "outputs": []
    },
    {
      "cell_type": "code",
      "metadata": {
        "id": "2iUjx1htEUVb"
      },
      "source": [
        "# Saving best model each time\n",
        "from keras.callbacks import ModelCheckpoint\n",
        "checkpoint = ModelCheckpoint('/content/drive/My Drive/CNN911{epoch:08d}.h5', save_best_only=True) "
      ],
      "execution_count": 28,
      "outputs": []
    },
    {
      "cell_type": "code",
      "metadata": {
        "id": "xINhHmrR1yA4",
        "outputId": "c5223a1b-afc5-4cc4-c546-d68367e8f64d",
        "colab": {
          "base_uri": "https://localhost:8080/"
        }
      },
      "source": [
        "# Fitting the model with a batch size of 400 and added class weights for 40 epochs\n",
        "CNN_history = model_CNN.fit(X_train, y_train, epochs = 40, validation_data= (X_test, y_test), callbacks=[checkpoint], batch_size=400, sample_weight=class_weights)"
      ],
      "execution_count": null,
      "outputs": [
        {
          "output_type": "stream",
          "text": [
            "Epoch 1/40\n",
            "2869/2869 [==============================] - 145s 50ms/step - loss: 20.1023 - categorical_accuracy: 0.7205 - f1_m: 0.7139 - val_loss: 0.7056 - val_categorical_accuracy: 0.7505 - val_f1_m: 0.7461\n",
            "Epoch 2/40\n",
            "2869/2869 [==============================] - 146s 51ms/step - loss: 16.7456 - categorical_accuracy: 0.7686 - f1_m: 0.7655 - val_loss: 0.6411 - val_categorical_accuracy: 0.7696 - val_f1_m: 0.7670\n",
            "Epoch 3/40\n",
            "2869/2869 [==============================] - 146s 51ms/step - loss: 15.0723 - categorical_accuracy: 0.7922 - f1_m: 0.7901 - val_loss: 0.6140 - val_categorical_accuracy: 0.7794 - val_f1_m: 0.7771\n",
            "Epoch 4/40\n",
            "2869/2869 [==============================] - 149s 52ms/step - loss: 13.9095 - categorical_accuracy: 0.8078 - f1_m: 0.8063 - val_loss: 0.5921 - val_categorical_accuracy: 0.7878 - val_f1_m: 0.7867\n",
            "Epoch 5/40\n",
            "2869/2869 [==============================] - 148s 51ms/step - loss: 13.0189 - categorical_accuracy: 0.8192 - f1_m: 0.8179 - val_loss: 0.5675 - val_categorical_accuracy: 0.7988 - val_f1_m: 0.7978\n",
            "Epoch 6/40\n",
            "2869/2869 [==============================] - 150s 52ms/step - loss: 12.2732 - categorical_accuracy: 0.8286 - f1_m: 0.8276 - val_loss: 0.5510 - val_categorical_accuracy: 0.8005 - val_f1_m: 0.7987\n",
            "Epoch 7/40\n",
            "2869/2869 [==============================] - 148s 51ms/step - loss: 11.6725 - categorical_accuracy: 0.8363 - f1_m: 0.8354 - val_loss: 0.5354 - val_categorical_accuracy: 0.8084 - val_f1_m: 0.8077\n",
            "Epoch 8/40\n",
            "2869/2869 [==============================] - 146s 51ms/step - loss: 11.1401 - categorical_accuracy: 0.8431 - f1_m: 0.8423 - val_loss: 0.5515 - val_categorical_accuracy: 0.7983 - val_f1_m: 0.7963\n",
            "Epoch 9/40\n",
            "2869/2869 [==============================] - 148s 51ms/step - loss: 10.6623 - categorical_accuracy: 0.8490 - f1_m: 0.8483 - val_loss: 0.5425 - val_categorical_accuracy: 0.8051 - val_f1_m: 0.8037\n",
            "Epoch 10/40\n",
            "2869/2869 [==============================] - 147s 51ms/step - loss: 10.2461 - categorical_accuracy: 0.8541 - f1_m: 0.8535 - val_loss: 0.5352 - val_categorical_accuracy: 0.8088 - val_f1_m: 0.8078\n",
            "Epoch 11/40\n",
            "2869/2869 [==============================] - 144s 50ms/step - loss: 9.8689 - categorical_accuracy: 0.8591 - f1_m: 0.8585 - val_loss: 0.5257 - val_categorical_accuracy: 0.8086 - val_f1_m: 0.8068\n",
            "Epoch 12/40\n",
            "2869/2869 [==============================] - 144s 50ms/step - loss: 9.5415 - categorical_accuracy: 0.8631 - f1_m: 0.8627 - val_loss: 0.5093 - val_categorical_accuracy: 0.8173 - val_f1_m: 0.8167\n",
            "Epoch 13/40\n",
            "2869/2869 [==============================] - 144s 50ms/step - loss: 9.2180 - categorical_accuracy: 0.8673 - f1_m: 0.8669 - val_loss: 0.5175 - val_categorical_accuracy: 0.8173 - val_f1_m: 0.8163\n",
            "Epoch 14/40\n",
            "2869/2869 [==============================] - 142s 50ms/step - loss: 8.9438 - categorical_accuracy: 0.8711 - f1_m: 0.8707 - val_loss: 0.5048 - val_categorical_accuracy: 0.8224 - val_f1_m: 0.8218\n",
            "Epoch 15/40\n",
            "2869/2869 [==============================] - 144s 50ms/step - loss: 8.6801 - categorical_accuracy: 0.8741 - f1_m: 0.8737 - val_loss: 0.5115 - val_categorical_accuracy: 0.8186 - val_f1_m: 0.8179\n",
            "Epoch 16/40\n",
            "2869/2869 [==============================] - 144s 50ms/step - loss: 8.4516 - categorical_accuracy: 0.8771 - f1_m: 0.8768 - val_loss: 0.5136 - val_categorical_accuracy: 0.8221 - val_f1_m: 0.8217\n",
            "Epoch 17/40\n",
            "2869/2869 [==============================] - 154s 54ms/step - loss: 8.2210 - categorical_accuracy: 0.8800 - f1_m: 0.8797 - val_loss: 0.4936 - val_categorical_accuracy: 0.8249 - val_f1_m: 0.8243\n",
            "Epoch 18/40\n",
            "2869/2869 [==============================] - 149s 52ms/step - loss: 7.9917 - categorical_accuracy: 0.8834 - f1_m: 0.8831 - val_loss: 0.5053 - val_categorical_accuracy: 0.8220 - val_f1_m: 0.8215\n",
            "Epoch 19/40\n",
            "2869/2869 [==============================] - 150s 52ms/step - loss: 7.7878 - categorical_accuracy: 0.8859 - f1_m: 0.8857 - val_loss: 0.5076 - val_categorical_accuracy: 0.8179 - val_f1_m: 0.8169\n",
            "Epoch 20/40\n",
            "2869/2869 [==============================] - 152s 53ms/step - loss: 7.6024 - categorical_accuracy: 0.8885 - f1_m: 0.8884 - val_loss: 0.5140 - val_categorical_accuracy: 0.8235 - val_f1_m: 0.8229\n",
            "Epoch 21/40\n",
            "2869/2869 [==============================] - 152s 53ms/step - loss: 7.4163 - categorical_accuracy: 0.8910 - f1_m: 0.8909 - val_loss: 0.5051 - val_categorical_accuracy: 0.8244 - val_f1_m: 0.8239\n",
            "Epoch 22/40\n",
            "2869/2869 [==============================] - 156s 54ms/step - loss: 7.2341 - categorical_accuracy: 0.8934 - f1_m: 0.8933 - val_loss: 0.5028 - val_categorical_accuracy: 0.8214 - val_f1_m: 0.8208\n",
            "Epoch 23/40\n",
            "2869/2869 [==============================] - 154s 54ms/step - loss: 7.0739 - categorical_accuracy: 0.8953 - f1_m: 0.8952 - val_loss: 0.5034 - val_categorical_accuracy: 0.8273 - val_f1_m: 0.8270\n",
            "Epoch 24/40\n",
            "2869/2869 [==============================] - 153s 53ms/step - loss: 6.9058 - categorical_accuracy: 0.8983 - f1_m: 0.8982 - val_loss: 0.5040 - val_categorical_accuracy: 0.8291 - val_f1_m: 0.8289\n",
            "Epoch 25/40\n",
            "2869/2869 [==============================] - 152s 53ms/step - loss: 6.7620 - categorical_accuracy: 0.8997 - f1_m: 0.8996 - val_loss: 0.5244 - val_categorical_accuracy: 0.8274 - val_f1_m: 0.8273\n",
            "Epoch 26/40\n",
            "2869/2869 [==============================] - 151s 53ms/step - loss: 6.6240 - categorical_accuracy: 0.9018 - f1_m: 0.9017 - val_loss: 0.5113 - val_categorical_accuracy: 0.8307 - val_f1_m: 0.8304\n",
            "Epoch 27/40\n",
            " 133/2869 [>.............................] - ETA: 2:08 - loss: 6.0665 - categorical_accuracy: 0.9104 - f1_m: 0.9104"
          ],
          "name": "stdout"
        }
      ]
    },
    {
      "cell_type": "code",
      "metadata": {
        "id": "0AO3Ltwhtjly"
      },
      "source": [
        "# Load model if needed\n",
        "from keras.models import load_model\n",
        "CNN_model = load_model('/content/drive/My Drive/CNNdnkmfull41100000023.h5', custom_objects={'f1_m': f1_m})"
      ],
      "execution_count": null,
      "outputs": []
    },
    {
      "cell_type": "code",
      "metadata": {
        "id": "rOxxTEorgtfe"
      },
      "source": [
        "# Function to split test data into proper inputs\n",
        "def split_test_sequences(sequences, n_steps):\n",
        "  X = list()\n",
        "  end_flag = True \n",
        "  for i in range(0,len(sequences)):\n",
        "    # find the end of this pattern\n",
        "    end_ix = i + n_steps\n",
        "    # check if we are beyond the dataset\n",
        "    if end_ix > len(sequences):\n",
        "      end_flag = False\n",
        "      for j in range(i, len(sequences)):  \n",
        "        seq_x = sequences[j:, :]\n",
        "        if seq_x.shape[0] < n_steps:\n",
        "          add_x = np.zeros((n_steps-seq_x.shape[0],6))\n",
        "          seq_x = np.r_[seq_x, add_x]\n",
        "        X.append(seq_x)\n",
        "      break\n",
        "    # gather input and output parts of the pattern\n",
        "    if (end_flag):\n",
        "      seq_x = sequences[i:end_ix, :]\n",
        "      X.append(seq_x)\n",
        "  return array(X)"
      ],
      "execution_count": null,
      "outputs": []
    },
    {
      "cell_type": "code",
      "metadata": {
        "id": "D8kd-3NmNoHG"
      },
      "source": [
        "# Code block to transform the test data into inputs and join with y_time to get the prediction at that specific y_time\n",
        "test_filenames = [i for i in glob.glob('/content/drive/My Drive/TestData/*.{}'.format('csv'))]\n",
        "df_x, df_x_time, df_y_time = [], [], []\n",
        "for f in test_filenames:\n",
        "  if '012' in f:\n",
        "    if f.endswith('x.csv'):\n",
        "      df = pd.read_csv(f, header=None)\n",
        "      df['subject'] = f.split('/')[-1].split('_')[1]\n",
        "      df['subject_ID'] = f.split('/')[-1].split('_')[2]\n",
        "      df_x.append(df)\n",
        "    if f.endswith('x_time.csv'):\n",
        "      df = pd.read_csv(f, header=None)\n",
        "      df_x_time.append(df)\n",
        "    if f.endswith('y_time.csv'):\n",
        "      df = pd.read_csv(f, header=None)\n",
        "      df['subject'] = f.split('/')[-1].split('_')[1]\n",
        "      df['subject_ID'] = f.split('/')[-1].split('_')[2]\n",
        "      df_y_time.append(df)\n",
        "    \n",
        "test_x = pd.concat(df_x, ignore_index=True)\n",
        "test_x.columns = ['x1', 'x2', 'x3', 'x4', 'x5', 'x6', 'subject', 'subject_ID']\n",
        "test_x_time = pd.concat(df_x_time, ignore_index=True)\n",
        "test_x_time.columns = ['x_time']\n",
        "test_y_time = pd.concat(df_y_time, ignore_index=True)\n",
        "test_y_time.columns = ['time', 'subject', 'subject_ID']\n",
        "test_x['time'] = test_x_time['x_time']\n",
        "test_y_time['time'] = [round(x + 0.005,3) for x in test_y_time['time']]\n",
        "final_test = pd.merge(test_x, test_y_time, on=['time', 'subject', 'subject_ID'], how='left')\n",
        "in_seq1 = final_test['x1'].to_numpy().reshape((len(final_test['x1']), 1))\n",
        "in_seq2 = final_test['x2'].to_numpy().reshape((len(final_test['x2']), 1))\n",
        "in_seq3 = final_test['x3'].to_numpy().reshape((len(final_test['x3']), 1))\n",
        "in_seq4 = final_test['x4'].to_numpy().reshape((len(final_test['x4']), 1))\n",
        "in_seq5 = final_test['x5'].to_numpy().reshape((len(final_test['x5']), 1))\n",
        "in_seq6 = final_test['x6'].to_numpy().reshape((len(final_test['x6']), 1))\n",
        "dataset = np.hstack((in_seq1, in_seq2, in_seq3, in_seq4, in_seq5, in_seq6))\n",
        "test_x = split_test_sequences(dataset, 40)\n",
        "test_x = scaler.transform(test_x.reshape(-1,240))\n",
        "test = test_x.reshape(-1,1,240)\n",
        "y_pred = CNN_model.predict(test)\n",
        "y_pred = np.argmax(y_pred.reshape(-1,4), axis=1)\n",
        "final_test['y_pred'] = y_pred\n",
        "pred = pd.merge(final_test, test_y_time, on=['time', 'subject', 'subject_ID'], how='inner')['y_pred']\n",
        "pred.to_csv(\"subject_012_01__y_prediction.csv\", index=False, header=False)"
      ],
      "execution_count": null,
      "outputs": []
    },
    {
      "cell_type": "code",
      "metadata": {
        "id": "Ktb40ZSNlP7B"
      },
      "source": [
        "import matplotlib.pyplot as plt\n",
        "\n",
        "# Function to plot accuracy and loss graphs\n",
        "def plot_history(history):\n",
        "\t  # plot loss\n",
        "    plt.title('Loss')\n",
        "    plt.plot(history.history['loss'], color='blue', label='train')\n",
        "    plt.plot(history.history['val_loss'], color='red', label='test')\n",
        "    plt.ylabel('Loss')\n",
        "    plt.xlabel('Epoch')\n",
        "    plt.legend(['Train', 'Validation'])\n",
        "    plt.show()\n",
        "    \n",
        "    # plot accuracy\n",
        "    plt.title('Accuracy')\n",
        "    plt.plot(history.history['categorical_accuracy'], color='blue', label='train')\n",
        "    plt.plot(history.history['val_categorical_accuracy'], color='red', label='test')\n",
        "    plt.ylabel('Accuracy')\n",
        "    plt.xlabel('Epoch')\n",
        "    plt.legend(['Train', 'Validation'])\n",
        "    plt.show()"
      ],
      "execution_count": null,
      "outputs": []
    },
    {
      "cell_type": "code",
      "metadata": {
        "id": "epqPE4byfxB6",
        "outputId": "0ee5f562-1e4b-4f52-dfeb-0ace793bd20a",
        "colab": {
          "base_uri": "https://localhost:8080/",
          "height": 573
        }
      },
      "source": [
        "# Plotting the Accuracy and Loss curves\n",
        "plot_history(RNN_ts40_weight)"
      ],
      "execution_count": null,
      "outputs": [
        {
          "output_type": "display_data",
          "data": {
            "image/png": "[encoded data removed]",
            "text/plain": [
              "<Figure size 432x288 with 1 Axes>"
            ]
          },
          "metadata": {
            "tags": [],
            "needs_background": "light"
          }
        },
        {
          "output_type": "display_data",
          "data": {
            "image/png": "[encoded data removed]",
            "text/plain": [
              "<Figure size 432x288 with 1 Axes>"
            ]
          },
          "metadata": {
            "tags": [],
            "needs_background": "light"
          }
        }
      ]
    },
    {
      "cell_type": "code",
      "metadata": {
        "id": "29w2NxAfp-vV",
        "outputId": "28900759-f8db-4b7b-9f64-a1eeeb86c11b",
        "colab": {
          "base_uri": "https://localhost:8080/",
          "height": 296
        }
      },
      "source": [
        "# Plotting f1 metric\n",
        "plt.plot(CNN_40ts_extra.history['f1_m'], color='blue', label='train')\n",
        "plt.plot(CNN_40ts_extra.history['val_f1_m'], color='red', label='test')\n",
        "plt.ylabel('F1 Scores')\n",
        "plt.xlabel('Epoch')\n",
        "plt.legend(['Train', 'Validation'])"
      ],
      "execution_count": null,
      "outputs": [
        {
          "output_type": "execute_result",
          "data": {
            "text/plain": [
              "<matplotlib.legend.Legend at 0x7fd23333a198>"
            ]
          },
          "metadata": {
            "tags": []
          },
          "execution_count": 79
        },
        {
          "output_type": "display_data",
          "data": {
            "image/png": "[encoded data removed]",
            "text/plain": [
              "<Figure size 432x288 with 1 Axes>"
            ]
          },
          "metadata": {
            "tags": [],
            "needs_background": "light"
          }
        }
      ]
    },
    {
      "cell_type": "code",
      "metadata": {
        "id": "ipYyBrJ5-UKT",
        "outputId": "8b51e799-bb72-489f-f913-2c15b2805ccd",
        "colab": {
          "base_uri": "https://localhost:8080/"
        }
      },
      "source": [
        "# Classification report for the model on the test data we split using test_train_split\n",
        "from sklearn.metrics import classification_report\n",
        "y_p = model_CNN.predict(X_test)\n",
        "y_p = np.argmax(y_p.reshape(-1,4), axis=1)\n",
        "y_test_n = np.argmax(y_test.reshape(-1,4), axis=1)\n",
        "print(classification_report(y_test_n, y_p))"
      ],
      "execution_count": null,
      "outputs": [
        {
          "output_type": "stream",
          "text": [
            "              precision    recall  f1-score   support\n",
            "\n",
            "           0       0.87      0.92      0.89    305522\n",
            "           1       0.62      0.55      0.58     24315\n",
            "           2       0.58      0.44      0.50     18022\n",
            "           3       0.71      0.61      0.66     62266\n",
            "\n",
            "    accuracy                           0.83    410125\n",
            "   macro avg       0.69      0.63      0.66    410125\n",
            "weighted avg       0.82      0.83      0.82    410125\n",
            "\n"
          ],
          "name": "stdout"
        }
      ]
    }
  ]
}