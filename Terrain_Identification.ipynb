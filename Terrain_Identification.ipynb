{
  "nbformat": 4,
  "nbformat_minor": 0,
  "metadata": {
    "colab": {
      "name": "Terrain_Identification.ipynb",
      "provenance": [],
      "authorship_tag": "ABX9TyMmpbGUOCtyA19Km+q77PHM",
      "include_colab_link": true
    },
    "kernelspec": {
      "name": "python3",
      "display_name": "Python 3"
    }
  },
  "cells": [
    {
      "cell_type": "markdown",
      "metadata": {
        "id": "view-in-github",
        "colab_type": "text"
      },
      "source": [
        "<a href=\"https://colab.research.google.com/github/KrishnaMurali177/Deep-Learning-Terrain-Identifiaction/blob/main/Terrain_Identification.ipynb\" target=\"_parent\"><img src=\"https://colab.research.google.com/assets/colab-badge.svg\" alt=\"Open In Colab\"/></a>"
      ]
    },
    {
      "cell_type": "code",
      "metadata": {
        "id": "hqQPm1v6J750"
      },
      "source": [
        "import collections\n",
        "import tensorflow as tf\n",
        "import matplotlib.pyplot as plt\n",
        "from keras.models import Sequential, load_model\n",
        "from keras.layers import Dense, Activation, Embedding, Dropout, TimeDistributed\n",
        "from keras.layers import LSTM, LSTM, SimpleRNN, GRU, Bidirectional\n",
        "from keras.optimizers import Adam\n",
        "from keras.utils import to_categorical\n",
        "from keras.callbacks import ModelCheckpoint\n",
        "import numpy as np"
      ],
      "execution_count": 2,
      "outputs": []
    },
    {
      "cell_type": "code",
      "metadata": {
        "id": "dus1jMgXRWS5"
      },
      "source": [
        "import glob\n",
        "import pandas as pd"
      ],
      "execution_count": 3,
      "outputs": []
    },
    {
      "cell_type": "code",
      "metadata": {
        "id": "F2Gudi1vLEW9",
        "outputId": "053da467-ed6a-4f7b-af3b-e52fdb922cdc",
        "colab": {
          "base_uri": "https://localhost:8080/",
          "height": 34
        }
      },
      "source": [
        "from google.colab import drive\n",
        "drive.mount('/content/drive')"
      ],
      "execution_count": 3,
      "outputs": [
        {
          "output_type": "stream",
          "text": [
            "Drive already mounted at /content/drive; to attempt to forcibly remount, call drive.mount(\"/content/drive\", force_remount=True).\n"
          ],
          "name": "stdout"
        }
      ]
    },
    {
      "cell_type": "code",
      "metadata": {
        "id": "9QjjoN8zRU8g"
      },
      "source": [
        "all_filenames = [i for i in glob.glob('/content/drive/My Drive/TrainingData/*.{}'.format('csv'))]"
      ],
      "execution_count": 4,
      "outputs": []
    },
    {
      "cell_type": "code",
      "metadata": {
        "id": "zi2g8IdWSMqL"
      },
      "source": [
        "df_x, df_x_time, df_y, df_y_time = [], [], [], []\n",
        "for f in all_filenames:\n",
        "    if f.endswith('x.csv'):\n",
        "      df = pd.read_csv(f, header=None)\n",
        "      df['subject'] = f.split('/')[-1].split('_')[1]\n",
        "      df['subject_ID'] = f.split('/')[-1].split('_')[2]\n",
        "      df_x.append(df)\n",
        "    if f.endswith('x_time.csv'):\n",
        "      df = pd.read_csv(f, header=None)\n",
        "      df_x_time.append(df)\n",
        "    if f.endswith('y.csv'):\n",
        "      df = pd.read_csv(f, header=None)\n",
        "      df['subject'] = f.split('/')[-1].split('_')[1]\n",
        "      df['subject_ID'] = f.split('/')[-1].split('_')[2]\n",
        "      df_y.append(df)\n",
        "    if f.endswith('y_time.csv'):\n",
        "      df = pd.read_csv(f, header=None)\n",
        "      df_y_time.append(df)\n",
        "    \n",
        "x = pd.concat(df_x, ignore_index=True)\n",
        "x.columns = ['x1', 'x2', 'x3', 'x4', 'x5', 'x6', 'subject', 'subject_ID']\n",
        "x_time = pd.concat(df_x_time, ignore_index=True)\n",
        "x_time.columns = ['x_time']\n",
        "y = pd.concat(df_y, ignore_index=True)\n",
        "y.columns = ['y', 'subject', 'subject_ID']\n",
        "y_time = pd.concat(df_y_time, ignore_index=True)\n",
        "y_time.columns = ['y_time']\n",
        "x['x_time'] = x_time['x_time']\n",
        "y['y_time'] = y_time['y_time']"
      ],
      "execution_count": 23,
      "outputs": []
    },
    {
      "cell_type": "code",
      "metadata": {
        "id": "HTutz-9lmgUa",
        "outputId": "c2b2ffb9-1aa6-4fe5-fca4-145bf8f2b856",
        "colab": {
          "base_uri": "https://localhost:8080/",
          "height": 204
        }
      },
      "source": [
        "x.head()"
      ],
      "execution_count": 24,
      "outputs": [
        {
          "output_type": "execute_result",
          "data": {
            "text/html": [
              "<div>\n",
              "<style scoped>\n",
              "    .dataframe tbody tr th:only-of-type {\n",
              "        vertical-align: middle;\n",
              "    }\n",
              "\n",
              "    .dataframe tbody tr th {\n",
              "        vertical-align: top;\n",
              "    }\n",
              "\n",
              "    .dataframe thead th {\n",
              "        text-align: right;\n",
              "    }\n",
              "</style>\n",
              "<table border=\"1\" class=\"dataframe\">\n",
              "  <thead>\n",
              "    <tr style=\"text-align: right;\">\n",
              "      <th></th>\n",
              "      <th>x1</th>\n",
              "      <th>x2</th>\n",
              "      <th>x3</th>\n",
              "      <th>x4</th>\n",
              "      <th>x5</th>\n",
              "      <th>x6</th>\n",
              "      <th>subject</th>\n",
              "      <th>subject_ID</th>\n",
              "      <th>x_time</th>\n",
              "    </tr>\n",
              "  </thead>\n",
              "  <tbody>\n",
              "    <tr>\n",
              "      <th>0</th>\n",
              "      <td>4.4353</td>\n",
              "      <td>8.1961</td>\n",
              "      <td>2.9745</td>\n",
              "      <td>0.014215</td>\n",
              "      <td>-0.039157</td>\n",
              "      <td>-0.016744</td>\n",
              "      <td>001</td>\n",
              "      <td>01</td>\n",
              "      <td>0.000</td>\n",
              "    </tr>\n",
              "    <tr>\n",
              "      <th>1</th>\n",
              "      <td>4.1869</td>\n",
              "      <td>8.3445</td>\n",
              "      <td>2.9081</td>\n",
              "      <td>0.005771</td>\n",
              "      <td>-0.004479</td>\n",
              "      <td>-0.003345</td>\n",
              "      <td>001</td>\n",
              "      <td>01</td>\n",
              "      <td>0.025</td>\n",
              "    </tr>\n",
              "    <tr>\n",
              "      <th>2</th>\n",
              "      <td>4.5446</td>\n",
              "      <td>8.4087</td>\n",
              "      <td>2.8900</td>\n",
              "      <td>0.007967</td>\n",
              "      <td>0.022412</td>\n",
              "      <td>0.001159</td>\n",
              "      <td>001</td>\n",
              "      <td>01</td>\n",
              "      <td>0.050</td>\n",
              "    </tr>\n",
              "    <tr>\n",
              "      <th>3</th>\n",
              "      <td>4.8493</td>\n",
              "      <td>8.4116</td>\n",
              "      <td>2.9007</td>\n",
              "      <td>0.027778</td>\n",
              "      <td>-0.010670</td>\n",
              "      <td>-0.014223</td>\n",
              "      <td>001</td>\n",
              "      <td>01</td>\n",
              "      <td>0.075</td>\n",
              "    </tr>\n",
              "    <tr>\n",
              "      <th>4</th>\n",
              "      <td>4.5092</td>\n",
              "      <td>8.1186</td>\n",
              "      <td>2.8473</td>\n",
              "      <td>0.021577</td>\n",
              "      <td>-0.045498</td>\n",
              "      <td>-0.021111</td>\n",
              "      <td>001</td>\n",
              "      <td>01</td>\n",
              "      <td>0.100</td>\n",
              "    </tr>\n",
              "  </tbody>\n",
              "</table>\n",
              "</div>"
            ],
            "text/plain": [
              "       x1      x2      x3        x4  ...        x6  subject subject_ID x_time\n",
              "0  4.4353  8.1961  2.9745  0.014215  ... -0.016744      001         01  0.000\n",
              "1  4.1869  8.3445  2.9081  0.005771  ... -0.003345      001         01  0.025\n",
              "2  4.5446  8.4087  2.8900  0.007967  ...  0.001159      001         01  0.050\n",
              "3  4.8493  8.4116  2.9007  0.027778  ... -0.014223      001         01  0.075\n",
              "4  4.5092  8.1186  2.8473  0.021577  ... -0.021111      001         01  0.100\n",
              "\n",
              "[5 rows x 9 columns]"
            ]
          },
          "metadata": {
            "tags": []
          },
          "execution_count": 24
        }
      ]
    },
    {
      "cell_type": "code",
      "metadata": {
        "id": "ujGsuqWOtW_e",
        "outputId": "a95ebf51-52cd-4ed3-fe41-c23dd66bc3c5",
        "colab": {
          "base_uri": "https://localhost:8080/",
          "height": 204
        }
      },
      "source": [
        "y.groupby('y').nunique()"
      ],
      "execution_count": 34,
      "outputs": [
        {
          "output_type": "execute_result",
          "data": {
            "text/html": [
              "<div>\n",
              "<style scoped>\n",
              "    .dataframe tbody tr th:only-of-type {\n",
              "        vertical-align: middle;\n",
              "    }\n",
              "\n",
              "    .dataframe tbody tr th {\n",
              "        vertical-align: top;\n",
              "    }\n",
              "\n",
              "    .dataframe thead th {\n",
              "        text-align: right;\n",
              "    }\n",
              "</style>\n",
              "<table border=\"1\" class=\"dataframe\">\n",
              "  <thead>\n",
              "    <tr style=\"text-align: right;\">\n",
              "      <th></th>\n",
              "      <th>subject</th>\n",
              "      <th>subject_ID</th>\n",
              "      <th>y_time</th>\n",
              "    </tr>\n",
              "    <tr>\n",
              "      <th>y</th>\n",
              "      <th></th>\n",
              "      <th></th>\n",
              "      <th></th>\n",
              "    </tr>\n",
              "  </thead>\n",
              "  <tbody>\n",
              "    <tr>\n",
              "      <th>0</th>\n",
              "      <td>8</td>\n",
              "      <td>8</td>\n",
              "      <td>17230</td>\n",
              "    </tr>\n",
              "    <tr>\n",
              "      <th>1</th>\n",
              "      <td>8</td>\n",
              "      <td>7</td>\n",
              "      <td>7198</td>\n",
              "    </tr>\n",
              "    <tr>\n",
              "      <th>2</th>\n",
              "      <td>8</td>\n",
              "      <td>8</td>\n",
              "      <td>10562</td>\n",
              "    </tr>\n",
              "    <tr>\n",
              "      <th>3</th>\n",
              "      <td>8</td>\n",
              "      <td>8</td>\n",
              "      <td>12501</td>\n",
              "    </tr>\n",
              "  </tbody>\n",
              "</table>\n",
              "</div>"
            ],
            "text/plain": [
              "   subject  subject_ID  y_time\n",
              "y                             \n",
              "0        8           8   17230\n",
              "1        8           7    7198\n",
              "2        8           8   10562\n",
              "3        8           8   12501"
            ]
          },
          "metadata": {
            "tags": []
          },
          "execution_count": 34
        }
      ]
    }
  ]
}