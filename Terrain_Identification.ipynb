{
  "nbformat": 4,
  "nbformat_minor": 0,
  "metadata": {
    "colab": {
      "name": "Terrain_Identification.ipynb",
      "provenance": []
    },
    "kernelspec": {
      "name": "python3",
      "display_name": "Python 3"
    }
  },
  "cells": [
    {
      "cell_type": "code",
      "metadata": {
        "id": "hqQPm1v6J750"
      },
      "source": [
        "import collections\n",
        "import tensorflow as tf\n",
        "import matplotlib.pyplot as plt\n",
        "from keras.models import Sequential, load_model\n",
        "from keras.layers import Dense, Activation, Embedding, Dropout, TimeDistributed\n",
        "from keras.layers import LSTM, LSTM, SimpleRNN, GRU, Bidirectional\n",
        "from keras.optimizers import Adam\n",
        "from keras.utils import to_categorical\n",
        "from keras.callbacks import ModelCheckpoint\n",
        "import numpy as np\n",
        "from keras.layers import Conv2D, MaxPooling2D, Flatten, Dense, Activation, BatchNormalization, Dropout\n",
        "\n",
        "from tensorflow.keras import regularizers\n",
        "\n",
        "from keras.optimizers import SGD, Adam, RMSprop\n",
        "from keras.callbacks import Callback\n",
        "from sklearn.metrics import confusion_matrix, f1_score, precision_score, recall_score"
      ],
      "execution_count": 1,
      "outputs": []
    },
    {
      "cell_type": "code",
      "metadata": {
        "id": "dus1jMgXRWS5"
      },
      "source": [
        "import glob\n",
        "import pandas as pd\n",
        "import math\n",
        "from imblearn.over_sampling import SMOTE, KMeansSMOTE\n",
        "from sklearn.model_selection import KFold\n",
        "from xgboost import XGBClassifier\n",
        "from sklearn.metrics import accuracy_score, f1_score"
      ],
      "execution_count": 2,
      "outputs": []
    },
    {
      "cell_type": "code",
      "metadata": {
        "id": "D5SToBaWyNH2",
        "outputId": "feac0d80-6296-42a6-d519-563e7eb009e5",
        "colab": {
          "base_uri": "https://localhost:8080/",
          "height": 421
        }
      },
      "source": [
        "pip install -U imbalanced-learn"
      ],
      "execution_count": 3,
      "outputs": [
        {
          "output_type": "stream",
          "text": [
            "Collecting imbalanced-learn\n",
            "\u001b[?25l  Downloading https://files.pythonhosted.org/packages/c8/81/8db4d87b03b998fda7c6f835d807c9ae4e3b141f978597b8d7f31600be15/imbalanced_learn-0.7.0-py3-none-any.whl (167kB)\n",
            "\r\u001b[K     |██                              | 10kB 14.7MB/s eta 0:00:01\r\u001b[K     |████                            | 20kB 6.1MB/s eta 0:00:01\r\u001b[K     |█████▉                          | 30kB 6.2MB/s eta 0:00:01\r\u001b[K     |███████▉                        | 40kB 5.5MB/s eta 0:00:01\r\u001b[K     |█████████▉                      | 51kB 4.7MB/s eta 0:00:01\r\u001b[K     |███████████▊                    | 61kB 4.5MB/s eta 0:00:01\r\u001b[K     |█████████████▊                  | 71kB 4.6MB/s eta 0:00:01\r\u001b[K     |███████████████▊                | 81kB 4.7MB/s eta 0:00:01\r\u001b[K     |█████████████████▋              | 92kB 4.6MB/s eta 0:00:01\r\u001b[K     |███████████████████▋            | 102kB 4.7MB/s eta 0:00:01\r\u001b[K     |█████████████████████▋          | 112kB 4.7MB/s eta 0:00:01\r\u001b[K     |███████████████████████▌        | 122kB 4.7MB/s eta 0:00:01\r\u001b[K     |█████████████████████████▌      | 133kB 4.7MB/s eta 0:00:01\r\u001b[K     |███████████████████████████▌    | 143kB 4.7MB/s eta 0:00:01\r\u001b[K     |█████████████████████████████▍  | 153kB 4.7MB/s eta 0:00:01\r\u001b[K     |███████████████████████████████▍| 163kB 4.7MB/s eta 0:00:01\r\u001b[K     |████████████████████████████████| 174kB 4.7MB/s \n",
            "\u001b[?25hRequirement already satisfied, skipping upgrade: scipy>=0.19.1 in /usr/local/lib/python3.6/dist-packages (from imbalanced-learn) (1.4.1)\n",
            "Requirement already satisfied, skipping upgrade: joblib>=0.11 in /usr/local/lib/python3.6/dist-packages (from imbalanced-learn) (0.17.0)\n",
            "Collecting scikit-learn>=0.23\n",
            "\u001b[?25l  Downloading https://files.pythonhosted.org/packages/5c/a1/273def87037a7fb010512bbc5901c31cfddfca8080bc63b42b26e3cc55b3/scikit_learn-0.23.2-cp36-cp36m-manylinux1_x86_64.whl (6.8MB)\n",
            "\u001b[K     |████████████████████████████████| 6.8MB 7.8MB/s \n",
            "\u001b[?25hRequirement already satisfied, skipping upgrade: numpy>=1.13.3 in /usr/local/lib/python3.6/dist-packages (from imbalanced-learn) (1.18.5)\n",
            "Collecting threadpoolctl>=2.0.0\n",
            "  Downloading https://files.pythonhosted.org/packages/f7/12/ec3f2e203afa394a149911729357aa48affc59c20e2c1c8297a60f33f133/threadpoolctl-2.1.0-py3-none-any.whl\n",
            "Installing collected packages: threadpoolctl, scikit-learn, imbalanced-learn\n",
            "  Found existing installation: scikit-learn 0.22.2.post1\n",
            "    Uninstalling scikit-learn-0.22.2.post1:\n",
            "      Successfully uninstalled scikit-learn-0.22.2.post1\n",
            "  Found existing installation: imbalanced-learn 0.4.3\n",
            "    Uninstalling imbalanced-learn-0.4.3:\n",
            "      Successfully uninstalled imbalanced-learn-0.4.3\n",
            "Successfully installed imbalanced-learn-0.7.0 scikit-learn-0.23.2 threadpoolctl-2.1.0\n"
          ],
          "name": "stdout"
        },
        {
          "output_type": "display_data",
          "data": {
            "application/vnd.colab-display-data+json": {
              "pip_warning": {
                "packages": [
                  "imblearn",
                  "sklearn"
                ]
              }
            }
          },
          "metadata": {
            "tags": []
          }
        }
      ]
    },
    {
      "cell_type": "code",
      "metadata": {
        "id": "F2Gudi1vLEW9",
        "outputId": "5a167667-e112-4849-a70f-70c99e29aa43",
        "colab": {
          "base_uri": "https://localhost:8080/"
        }
      },
      "source": [
        "from google.colab import drive\n",
        "drive.mount('/content/drive')"
      ],
      "execution_count": 3,
      "outputs": [
        {
          "output_type": "stream",
          "text": [
            "Drive already mounted at /content/drive; to attempt to forcibly remount, call drive.mount(\"/content/drive\", force_remount=True).\n"
          ],
          "name": "stdout"
        }
      ]
    },
    {
      "cell_type": "code",
      "metadata": {
        "id": "K_YHvYPTqdzm"
      },
      "source": [
        "from keras import backend as K\n",
        "\n",
        "def recall_m(y_true, y_pred):\n",
        "    true_positives = K.sum(K.round(K.clip(y_true * y_pred, 0, 1)))\n",
        "    possible_positives = K.sum(K.round(K.clip(y_true, 0, 1)))\n",
        "    recall = true_positives / (possible_positives + K.epsilon())\n",
        "    return recall\n",
        "\n",
        "def precision_m(y_true, y_pred):\n",
        "    true_positives = K.sum(K.round(K.clip(y_true * y_pred, 0, 1)))\n",
        "    predicted_positives = K.sum(K.round(K.clip(y_pred, 0, 1)))\n",
        "    precision = true_positives / (predicted_positives + K.epsilon())\n",
        "    return precision\n",
        "\n",
        "def f1_m(y_true, y_pred):\n",
        "    precision = precision_m(y_true, y_pred)\n",
        "    recall = recall_m(y_true, y_pred)\n",
        "    return 2*((precision*recall)/(precision+recall+K.epsilon()))"
      ],
      "execution_count": 4,
      "outputs": []
    },
    {
      "cell_type": "code",
      "metadata": {
        "id": "9QjjoN8zRU8g"
      },
      "source": [
        "all_filenames = [i for i in glob.glob('/content/drive/My Drive/TrainingData/*.{}'.format('csv'))]"
      ],
      "execution_count": 5,
      "outputs": []
    },
    {
      "cell_type": "code",
      "metadata": {
        "id": "zi2g8IdWSMqL"
      },
      "source": [
        "df_x, df_x_time, df_y, df_y_time = [], [], [], []\n",
        "for f in all_filenames:\n",
        "    if f.endswith('x.csv'):\n",
        "      df = pd.read_csv(f, header=None)\n",
        "      df['subject'] = f.split('/')[-1].split('_')[1]\n",
        "      df['subject_ID'] = f.split('/')[-1].split('_')[2]\n",
        "      df_x.append(df)\n",
        "    if f.endswith('x_time.csv'):\n",
        "      df = pd.read_csv(f, header=None)\n",
        "      df_x_time.append(df)\n",
        "    if f.endswith('y.csv'):\n",
        "      df = pd.read_csv(f, header=None)\n",
        "      df['subject'] = f.split('/')[-1].split('_')[1]\n",
        "      df['subject_ID'] = f.split('/')[-1].split('_')[2]\n",
        "      df_y.append(df)\n",
        "    if f.endswith('y_time.csv'):\n",
        "      df = pd.read_csv(f, header=None)\n",
        "      df_y_time.append(df)\n",
        "    \n",
        "x = pd.concat(df_x, ignore_index=True)\n",
        "x.columns = ['x1', 'x2', 'x3', 'x4', 'x5', 'x6', 'subject', 'subject_ID']\n",
        "x_time = pd.concat(df_x_time, ignore_index=True)\n",
        "x_time.columns = ['x_time']\n",
        "y = pd.concat(df_y, ignore_index=True)\n",
        "y.columns = ['y', 'subject', 'subject_ID']\n",
        "y_time = pd.concat(df_y_time, ignore_index=True)\n",
        "y_time.columns = ['y_time']\n",
        "x['time'] = x_time['x_time']\n",
        "y['time'] = y_time['y_time']\n",
        "y['time'] = [round(x+0.005,3) for x in y['time']]"
      ],
      "execution_count": 66,
      "outputs": []
    },
    {
      "cell_type": "code",
      "metadata": {
        "id": "HTutz-9lmgUa"
      },
      "source": [
        "x.head(20)"
      ],
      "execution_count": null,
      "outputs": []
    },
    {
      "cell_type": "code",
      "metadata": {
        "id": "2NEa4u1Cr7Ga"
      },
      "source": [
        "y.head(20)"
      ],
      "execution_count": null,
      "outputs": []
    },
    {
      "cell_type": "code",
      "metadata": {
        "id": "bvAvjkShp06Y"
      },
      "source": [
        "x.drop(x[x['time'] == 0].index, inplace = True)"
      ],
      "execution_count": 68,
      "outputs": []
    },
    {
      "cell_type": "code",
      "metadata": {
        "id": "c-SCWYF5TQnj"
      },
      "source": [
        "x.drop(x[x['time'] == 0.025].index, inplace = True)"
      ],
      "execution_count": 69,
      "outputs": []
    },
    {
      "cell_type": "code",
      "metadata": {
        "id": "Cm7VVYa44PTI"
      },
      "source": [
        "full_df = pd.merge(x,y, on=['time','subject', 'subject_ID'], how='left')"
      ],
      "execution_count": 70,
      "outputs": []
    },
    {
      "cell_type": "code",
      "metadata": {
        "id": "HkYm-_3V49M0",
        "outputId": "049bee04-4bb2-4b7a-c2ce-cef33e565a10",
        "colab": {
          "base_uri": "https://localhost:8080/",
          "height": 639
        }
      },
      "source": [
        "full_df.head(20)"
      ],
      "execution_count": 10,
      "outputs": [
        {
          "output_type": "execute_result",
          "data": {
            "text/html": [
              "<div>\n",
              "<style scoped>\n",
              "    .dataframe tbody tr th:only-of-type {\n",
              "        vertical-align: middle;\n",
              "    }\n",
              "\n",
              "    .dataframe tbody tr th {\n",
              "        vertical-align: top;\n",
              "    }\n",
              "\n",
              "    .dataframe thead th {\n",
              "        text-align: right;\n",
              "    }\n",
              "</style>\n",
              "<table border=\"1\" class=\"dataframe\">\n",
              "  <thead>\n",
              "    <tr style=\"text-align: right;\">\n",
              "      <th></th>\n",
              "      <th>x1</th>\n",
              "      <th>x2</th>\n",
              "      <th>x3</th>\n",
              "      <th>x4</th>\n",
              "      <th>x5</th>\n",
              "      <th>x6</th>\n",
              "      <th>subject</th>\n",
              "      <th>subject_ID</th>\n",
              "      <th>time</th>\n",
              "      <th>y</th>\n",
              "    </tr>\n",
              "  </thead>\n",
              "  <tbody>\n",
              "    <tr>\n",
              "      <th>0</th>\n",
              "      <td>4.435275</td>\n",
              "      <td>8.196063</td>\n",
              "      <td>2.974488</td>\n",
              "      <td>0.014215</td>\n",
              "      <td>-0.039157</td>\n",
              "      <td>-0.016744</td>\n",
              "      <td>001</td>\n",
              "      <td>01</td>\n",
              "      <td>0.000</td>\n",
              "      <td>NaN</td>\n",
              "    </tr>\n",
              "    <tr>\n",
              "      <th>1</th>\n",
              "      <td>4.186920</td>\n",
              "      <td>8.344455</td>\n",
              "      <td>2.908057</td>\n",
              "      <td>0.005771</td>\n",
              "      <td>-0.004480</td>\n",
              "      <td>-0.003345</td>\n",
              "      <td>001</td>\n",
              "      <td>01</td>\n",
              "      <td>0.025</td>\n",
              "      <td>0.0</td>\n",
              "    </tr>\n",
              "    <tr>\n",
              "      <th>2</th>\n",
              "      <td>4.544637</td>\n",
              "      <td>8.408659</td>\n",
              "      <td>2.890000</td>\n",
              "      <td>0.007967</td>\n",
              "      <td>0.022412</td>\n",
              "      <td>0.001159</td>\n",
              "      <td>001</td>\n",
              "      <td>01</td>\n",
              "      <td>0.050</td>\n",
              "      <td>NaN</td>\n",
              "    </tr>\n",
              "    <tr>\n",
              "      <th>3</th>\n",
              "      <td>4.849308</td>\n",
              "      <td>8.411614</td>\n",
              "      <td>2.900692</td>\n",
              "      <td>0.027778</td>\n",
              "      <td>-0.010670</td>\n",
              "      <td>-0.014223</td>\n",
              "      <td>001</td>\n",
              "      <td>01</td>\n",
              "      <td>0.075</td>\n",
              "      <td>NaN</td>\n",
              "    </tr>\n",
              "    <tr>\n",
              "      <th>4</th>\n",
              "      <td>4.509190</td>\n",
              "      <td>8.118649</td>\n",
              "      <td>2.847298</td>\n",
              "      <td>0.021577</td>\n",
              "      <td>-0.045498</td>\n",
              "      <td>-0.021111</td>\n",
              "      <td>001</td>\n",
              "      <td>01</td>\n",
              "      <td>0.100</td>\n",
              "      <td>NaN</td>\n",
              "    </tr>\n",
              "    <tr>\n",
              "      <th>5</th>\n",
              "      <td>4.226515</td>\n",
              "      <td>8.273807</td>\n",
              "      <td>2.851742</td>\n",
              "      <td>0.012534</td>\n",
              "      <td>0.000445</td>\n",
              "      <td>-0.016830</td>\n",
              "      <td>001</td>\n",
              "      <td>01</td>\n",
              "      <td>0.125</td>\n",
              "      <td>0.0</td>\n",
              "    </tr>\n",
              "    <tr>\n",
              "      <th>6</th>\n",
              "      <td>4.532063</td>\n",
              "      <td>8.398341</td>\n",
              "      <td>2.856682</td>\n",
              "      <td>0.014484</td>\n",
              "      <td>0.028769</td>\n",
              "      <td>-0.011091</td>\n",
              "      <td>001</td>\n",
              "      <td>01</td>\n",
              "      <td>0.150</td>\n",
              "      <td>NaN</td>\n",
              "    </tr>\n",
              "    <tr>\n",
              "      <th>7</th>\n",
              "      <td>4.433669</td>\n",
              "      <td>8.294719</td>\n",
              "      <td>2.823521</td>\n",
              "      <td>0.016340</td>\n",
              "      <td>-0.029434</td>\n",
              "      <td>-0.008998</td>\n",
              "      <td>001</td>\n",
              "      <td>01</td>\n",
              "      <td>0.175</td>\n",
              "      <td>NaN</td>\n",
              "    </tr>\n",
              "    <tr>\n",
              "      <th>8</th>\n",
              "      <td>4.160676</td>\n",
              "      <td>8.260676</td>\n",
              "      <td>2.827568</td>\n",
              "      <td>0.011222</td>\n",
              "      <td>-0.016748</td>\n",
              "      <td>-0.006027</td>\n",
              "      <td>001</td>\n",
              "      <td>01</td>\n",
              "      <td>0.200</td>\n",
              "      <td>NaN</td>\n",
              "    </tr>\n",
              "    <tr>\n",
              "      <th>9</th>\n",
              "      <td>4.432763</td>\n",
              "      <td>8.272613</td>\n",
              "      <td>2.790050</td>\n",
              "      <td>-0.002715</td>\n",
              "      <td>0.023094</td>\n",
              "      <td>0.012222</td>\n",
              "      <td>001</td>\n",
              "      <td>01</td>\n",
              "      <td>0.225</td>\n",
              "      <td>0.0</td>\n",
              "    </tr>\n",
              "    <tr>\n",
              "      <th>10</th>\n",
              "      <td>4.511362</td>\n",
              "      <td>8.256774</td>\n",
              "      <td>2.820538</td>\n",
              "      <td>-0.002248</td>\n",
              "      <td>0.001547</td>\n",
              "      <td>0.011137</td>\n",
              "      <td>001</td>\n",
              "      <td>01</td>\n",
              "      <td>0.250</td>\n",
              "      <td>NaN</td>\n",
              "    </tr>\n",
              "    <tr>\n",
              "      <th>11</th>\n",
              "      <td>4.098018</td>\n",
              "      <td>8.154184</td>\n",
              "      <td>2.901101</td>\n",
              "      <td>-0.010418</td>\n",
              "      <td>-0.042853</td>\n",
              "      <td>0.005031</td>\n",
              "      <td>001</td>\n",
              "      <td>01</td>\n",
              "      <td>0.275</td>\n",
              "      <td>NaN</td>\n",
              "    </tr>\n",
              "    <tr>\n",
              "      <th>12</th>\n",
              "      <td>3.931769</td>\n",
              "      <td>8.203628</td>\n",
              "      <td>2.958186</td>\n",
              "      <td>-0.015232</td>\n",
              "      <td>-0.006177</td>\n",
              "      <td>0.016877</td>\n",
              "      <td>001</td>\n",
              "      <td>01</td>\n",
              "      <td>0.300</td>\n",
              "      <td>NaN</td>\n",
              "    </tr>\n",
              "    <tr>\n",
              "      <th>13</th>\n",
              "      <td>4.524325</td>\n",
              "      <td>8.446963</td>\n",
              "      <td>2.874356</td>\n",
              "      <td>-0.003438</td>\n",
              "      <td>0.036310</td>\n",
              "      <td>0.045451</td>\n",
              "      <td>001</td>\n",
              "      <td>01</td>\n",
              "      <td>0.325</td>\n",
              "      <td>0.0</td>\n",
              "    </tr>\n",
              "    <tr>\n",
              "      <th>14</th>\n",
              "      <td>4.615744</td>\n",
              "      <td>8.385348</td>\n",
              "      <td>2.782674</td>\n",
              "      <td>-0.002790</td>\n",
              "      <td>0.012677</td>\n",
              "      <td>0.054444</td>\n",
              "      <td>001</td>\n",
              "      <td>01</td>\n",
              "      <td>0.350</td>\n",
              "      <td>NaN</td>\n",
              "    </tr>\n",
              "    <tr>\n",
              "      <th>15</th>\n",
              "      <td>4.392814</td>\n",
              "      <td>8.239121</td>\n",
              "      <td>2.830176</td>\n",
              "      <td>0.001527</td>\n",
              "      <td>0.015576</td>\n",
              "      <td>0.052817</td>\n",
              "      <td>001</td>\n",
              "      <td>01</td>\n",
              "      <td>0.375</td>\n",
              "      <td>NaN</td>\n",
              "    </tr>\n",
              "    <tr>\n",
              "      <th>16</th>\n",
              "      <td>4.633221</td>\n",
              "      <td>8.197211</td>\n",
              "      <td>2.872404</td>\n",
              "      <td>-0.006495</td>\n",
              "      <td>0.039828</td>\n",
              "      <td>0.040343</td>\n",
              "      <td>001</td>\n",
              "      <td>01</td>\n",
              "      <td>0.400</td>\n",
              "      <td>NaN</td>\n",
              "    </tr>\n",
              "    <tr>\n",
              "      <th>17</th>\n",
              "      <td>4.788242</td>\n",
              "      <td>8.201208</td>\n",
              "      <td>2.805275</td>\n",
              "      <td>-0.009608</td>\n",
              "      <td>0.032156</td>\n",
              "      <td>0.025749</td>\n",
              "      <td>001</td>\n",
              "      <td>01</td>\n",
              "      <td>0.425</td>\n",
              "      <td>0.0</td>\n",
              "    </tr>\n",
              "    <tr>\n",
              "      <th>18</th>\n",
              "      <td>4.751849</td>\n",
              "      <td>8.220000</td>\n",
              "      <td>2.847035</td>\n",
              "      <td>-0.012330</td>\n",
              "      <td>0.018727</td>\n",
              "      <td>0.017562</td>\n",
              "      <td>001</td>\n",
              "      <td>01</td>\n",
              "      <td>0.450</td>\n",
              "      <td>NaN</td>\n",
              "    </tr>\n",
              "    <tr>\n",
              "      <th>19</th>\n",
              "      <td>4.612801</td>\n",
              "      <td>8.290000</td>\n",
              "      <td>2.845603</td>\n",
              "      <td>-0.004444</td>\n",
              "      <td>0.005675</td>\n",
              "      <td>0.003214</td>\n",
              "      <td>001</td>\n",
              "      <td>01</td>\n",
              "      <td>0.475</td>\n",
              "      <td>NaN</td>\n",
              "    </tr>\n",
              "  </tbody>\n",
              "</table>\n",
              "</div>"
            ],
            "text/plain": [
              "          x1        x2        x3        x4  ...  subject  subject_ID   time    y\n",
              "0   4.435275  8.196063  2.974488  0.014215  ...      001          01  0.000  NaN\n",
              "1   4.186920  8.344455  2.908057  0.005771  ...      001          01  0.025  0.0\n",
              "2   4.544637  8.408659  2.890000  0.007967  ...      001          01  0.050  NaN\n",
              "3   4.849308  8.411614  2.900692  0.027778  ...      001          01  0.075  NaN\n",
              "4   4.509190  8.118649  2.847298  0.021577  ...      001          01  0.100  NaN\n",
              "5   4.226515  8.273807  2.851742  0.012534  ...      001          01  0.125  0.0\n",
              "6   4.532063  8.398341  2.856682  0.014484  ...      001          01  0.150  NaN\n",
              "7   4.433669  8.294719  2.823521  0.016340  ...      001          01  0.175  NaN\n",
              "8   4.160676  8.260676  2.827568  0.011222  ...      001          01  0.200  NaN\n",
              "9   4.432763  8.272613  2.790050 -0.002715  ...      001          01  0.225  0.0\n",
              "10  4.511362  8.256774  2.820538 -0.002248  ...      001          01  0.250  NaN\n",
              "11  4.098018  8.154184  2.901101 -0.010418  ...      001          01  0.275  NaN\n",
              "12  3.931769  8.203628  2.958186 -0.015232  ...      001          01  0.300  NaN\n",
              "13  4.524325  8.446963  2.874356 -0.003438  ...      001          01  0.325  0.0\n",
              "14  4.615744  8.385348  2.782674 -0.002790  ...      001          01  0.350  NaN\n",
              "15  4.392814  8.239121  2.830176  0.001527  ...      001          01  0.375  NaN\n",
              "16  4.633221  8.197211  2.872404 -0.006495  ...      001          01  0.400  NaN\n",
              "17  4.788242  8.201208  2.805275 -0.009608  ...      001          01  0.425  0.0\n",
              "18  4.751849  8.220000  2.847035 -0.012330  ...      001          01  0.450  NaN\n",
              "19  4.612801  8.290000  2.845603 -0.004444  ...      001          01  0.475  NaN\n",
              "\n",
              "[20 rows x 10 columns]"
            ]
          },
          "metadata": {
            "tags": []
          },
          "execution_count": 10
        }
      ]
    },
    {
      "cell_type": "code",
      "metadata": {
        "id": "PXIsn0KU6bn1"
      },
      "source": [
        "# full_df['y'] = full_df['y'].fillna(method='backfill')\n",
        "# full_df.dropna(inplace=True)"
      ],
      "execution_count": 11,
      "outputs": []
    },
    {
      "cell_type": "code",
      "metadata": {
        "id": "ADhPCpP767Gt",
        "outputId": "4cffe5cd-1222-4aed-a48c-8635bded1bd0",
        "colab": {
          "base_uri": "https://localhost:8080/"
        }
      },
      "source": [
        "full_df.shape"
      ],
      "execution_count": 14,
      "outputs": [
        {
          "output_type": "execute_result",
          "data": {
            "text/plain": [
              "(1367084, 10)"
            ]
          },
          "metadata": {
            "tags": []
          },
          "execution_count": 14
        }
      ]
    },
    {
      "cell_type": "code",
      "metadata": {
        "id": "koMjAntvTdeN"
      },
      "source": [
        "from numpy import array\n",
        "def split_sequences(sequences, n_steps):\n",
        "\tX, y = list(), list()\n",
        "\tfor i in range(len(sequences)):\n",
        "\t\t# find the end of this pattern\n",
        "\t\tend_ix = i + n_steps\n",
        "\t\t# check if we are beyond the dataset\n",
        "\t\tif end_ix > len(sequences):\n",
        "\t\t\tbreak\n",
        "\t\t# gather input and output parts of the pattern\n",
        "\t\tseq_x, seq_y = sequences[i:end_ix, :-1], sequences[end_ix-1, -1]\n",
        "\t\tX.append(seq_x)\n",
        "\t\ty.append(seq_y)\n",
        "\treturn array(X), array(y)"
      ],
      "execution_count": 71,
      "outputs": []
    },
    {
      "cell_type": "code",
      "metadata": {
        "id": "Dn0kLkd-TfWM"
      },
      "source": [
        "in_seq1 = full_df['x1'].to_numpy().reshape((len(full_df['x1']), 1))\n",
        "in_seq2 = full_df['x2'].to_numpy().reshape((len(full_df['x2']), 1))\n",
        "in_seq3 = full_df['x3'].to_numpy().reshape((len(full_df['x3']), 1))\n",
        "in_seq4 = full_df['x4'].to_numpy().reshape((len(full_df['x4']), 1))\n",
        "in_seq5 = full_df['x5'].to_numpy().reshape((len(full_df['x5']), 1))\n",
        "in_seq6 = full_df['x6'].to_numpy().reshape((len(full_df['x6']), 1))"
      ],
      "execution_count": 72,
      "outputs": []
    },
    {
      "cell_type": "code",
      "metadata": {
        "id": "at5jCKUcUz5t"
      },
      "source": [
        "out_seq = full_df['y'].to_numpy().reshape((len(full_df['y']), 1))"
      ],
      "execution_count": 73,
      "outputs": []
    },
    {
      "cell_type": "code",
      "metadata": {
        "id": "J7BTjeUEVzvb"
      },
      "source": [
        "dataset = np.hstack((in_seq1, in_seq2, in_seq3, in_seq4, in_seq5, in_seq6, out_seq))"
      ],
      "execution_count": 74,
      "outputs": []
    },
    {
      "cell_type": "code",
      "metadata": {
        "id": "HkFyHrxRWsaI"
      },
      "source": [
        "X, y = split_sequences(dataset, 4)"
      ],
      "execution_count": 75,
      "outputs": []
    },
    {
      "cell_type": "code",
      "metadata": {
        "id": "wsPEeVprVJNa"
      },
      "source": [
        "ind = np.argwhere(np.isnan(y)).flatten()"
      ],
      "execution_count": 76,
      "outputs": []
    },
    {
      "cell_type": "code",
      "metadata": {
        "id": "fxJtVDvGEp_G"
      },
      "source": [
        "allrows = np.array(range(len(X)))\n",
        "X_n = X[np.setdiff1d(allrows,ind)]"
      ],
      "execution_count": 77,
      "outputs": []
    },
    {
      "cell_type": "code",
      "metadata": {
        "id": "Phvbs3Vcf3qe"
      },
      "source": [
        "y = y[~np.isnan(y)]"
      ],
      "execution_count": 78,
      "outputs": []
    },
    {
      "cell_type": "code",
      "metadata": {
        "id": "0EkPhlRzf_aA"
      },
      "source": [
        "X_n = X_n.reshape(-1,24)"
      ],
      "execution_count": 79,
      "outputs": []
    },
    {
      "cell_type": "code",
      "metadata": {
        "id": "f7sF38aBsnMr",
        "outputId": "543c47e5-eeb3-4a76-f1b7-b9b34e1460f0",
        "colab": {
          "base_uri": "https://localhost:8080/"
        }
      },
      "source": [
        "X_n.shape"
      ],
      "execution_count": 80,
      "outputs": [
        {
          "output_type": "execute_result",
          "data": {
            "text/plain": [
              "(302228, 24)"
            ]
          },
          "metadata": {
            "tags": []
          },
          "execution_count": 80
        }
      ]
    },
    {
      "cell_type": "code",
      "metadata": {
        "id": "pPYK9wxIgB8i"
      },
      "source": [
        "y = y.reshape(-1,1)"
      ],
      "execution_count": 27,
      "outputs": []
    },
    {
      "cell_type": "code",
      "metadata": {
        "id": "ML021Z0_lEJL",
        "outputId": "00ad541b-8afc-40b5-db10-a28a44d741cd",
        "colab": {
          "base_uri": "https://localhost:8080/"
        }
      },
      "source": [
        "y.shape"
      ],
      "execution_count": 28,
      "outputs": [
        {
          "output_type": "execute_result",
          "data": {
            "text/plain": [
              "(1367081, 1)"
            ]
          },
          "metadata": {
            "tags": []
          },
          "execution_count": 28
        }
      ]
    },
    {
      "cell_type": "code",
      "metadata": {
        "id": "vQd1-7jq5z7E"
      },
      "source": [
        "unique, counts = np.unique(y, return_counts=True)"
      ],
      "execution_count": 29,
      "outputs": []
    },
    {
      "cell_type": "code",
      "metadata": {
        "id": "4Lku4MAA6A9y",
        "outputId": "3a7785a5-9c87-47c0-df1d-117661e25bb8",
        "colab": {
          "base_uri": "https://localhost:8080/"
        }
      },
      "source": [
        "print(unique)\n",
        "print(counts)"
      ],
      "execution_count": 30,
      "outputs": [
        {
          "output_type": "stream",
          "text": [
            "[0. 1. 2. 3.]\n",
            "[1016328   91483   50966  208304]\n"
          ],
          "name": "stdout"
        }
      ]
    },
    {
      "cell_type": "code",
      "metadata": {
        "id": "8ZiFVKN3YqsE",
        "outputId": "67dfa943-afe7-4b3a-abed-c9b28a1cb3cd",
        "colab": {
          "base_uri": "https://localhost:8080/"
        }
      },
      "source": [
        "# RNN Model with LSTM\n",
        "model = Sequential()\n",
        "# model.add(Embedding(130, 128, input_length=num_steps))\n",
        "# model.add(Dropout(0.7))\n",
        "model.add(LSTM(128, input_shape=(1,24), recurrent_activation='swish', return_sequences=True))\n",
        "model.add(BatchNormalization())\n",
        "model.add(Bidirectional(LSTM(64, recurrent_activation='swish', return_sequences=True)))\n",
        "model.add(BatchNormalization())\n",
        "model.add(LSTM(128, recurrent_activation='swish'))\n",
        "model.add(BatchNormalization())\n",
        "model.add(Dense(4, activation='softmax'))\n",
        "model.compile(loss='categorical_crossentropy', optimizer=Adam(), metrics=['categorical_accuracy', f1_m], sample_weight_mode=\"temporal\")\n",
        "model.summary()"
      ],
      "execution_count": 98,
      "outputs": [
        {
          "output_type": "stream",
          "text": [
            "Model: \"sequential_6\"\n",
            "_________________________________________________________________\n",
            "Layer (type)                 Output Shape              Param #   \n",
            "=================================================================\n",
            "lstm_18 (LSTM)               (None, 1, 128)            78336     \n",
            "_________________________________________________________________\n",
            "batch_normalization_18 (Batc (None, 1, 128)            512       \n",
            "_________________________________________________________________\n",
            "bidirectional_6 (Bidirection (None, 1, 128)            98816     \n",
            "_________________________________________________________________\n",
            "batch_normalization_19 (Batc (None, 1, 128)            512       \n",
            "_________________________________________________________________\n",
            "lstm_20 (LSTM)               (None, 128)               131584    \n",
            "_________________________________________________________________\n",
            "batch_normalization_20 (Batc (None, 128)               512       \n",
            "_________________________________________________________________\n",
            "dense_6 (Dense)              (None, 4)                 516       \n",
            "=================================================================\n",
            "Total params: 310,788\n",
            "Trainable params: 310,020\n",
            "Non-trainable params: 768\n",
            "_________________________________________________________________\n"
          ],
          "name": "stdout"
        }
      ]
    },
    {
      "cell_type": "code",
      "metadata": {
        "id": "QMg7dg71tMwf",
        "outputId": "6d6e65ec-0275-43fa-eec8-181e9baa422a",
        "colab": {
          "base_uri": "https://localhost:8080/"
        }
      },
      "source": [
        "model.output_shape"
      ],
      "execution_count": 83,
      "outputs": [
        {
          "output_type": "execute_result",
          "data": {
            "text/plain": [
              "(None, 4)"
            ]
          },
          "metadata": {
            "tags": []
          },
          "execution_count": 83
        }
      ]
    },
    {
      "cell_type": "code",
      "metadata": {
        "id": "3OboSWStbr8l",
        "outputId": "8398890f-ddf4-46c1-f706-9a79a73eb9ba",
        "colab": {
          "base_uri": "https://localhost:8080/"
        }
      },
      "source": [
        "model.input_shape"
      ],
      "execution_count": 84,
      "outputs": [
        {
          "output_type": "execute_result",
          "data": {
            "text/plain": [
              "(None, 1, 24)"
            ]
          },
          "metadata": {
            "tags": []
          },
          "execution_count": 84
        }
      ]
    },
    {
      "cell_type": "code",
      "metadata": {
        "id": "uAdF-WvtGiU1",
        "outputId": "383f5adc-86de-470c-cc6f-686fd0a91237",
        "colab": {
          "base_uri": "https://localhost:8080/"
        }
      },
      "source": [
        "# CNN model\n",
        "model_CNN1 = Sequential()\n",
        "\n",
        "#Adding the input layer and first hidden layer\n",
        "model_CNN1.add(Dense(256, activation= 'swish', input_shape=(1,24)))\n",
        "# model_CNN1.add(Dropout(0.25))\n",
        "#Adding second hidden layer\n",
        "model_CNN1.add(Dense(512, activation= 'swish'))\n",
        "model_CNN1.add(BatchNormalization())\n",
        "# model_CNN1.add(Dropout(0.25))\n",
        "model_CNN1.add(Dense(256, activation= 'swish'))\n",
        "model_CNN1.add(BatchNormalization())\n",
        "model_CNN1.add(Dense(128, activation= 'swish'))\n",
        "model_CNN1.add(BatchNormalization())\n",
        "model_CNN1.add(Dense(64, activation= 'swish'))\n",
        "model_CNN1.add(BatchNormalization())\n",
        "#Adding the Output Layer\n",
        "model_CNN1.add(Dense(4, activation='softmax')) \n",
        "#Compiling\n",
        "model_CNN1.compile(optimizer='adam', loss='categorical_crossentropy', metrics=[f1_m, 'categorical_accuracy'])\n",
        "model_CNN1.summary()"
      ],
      "execution_count": 45,
      "outputs": [
        {
          "output_type": "stream",
          "text": [
            "Model: \"sequential_4\"\n",
            "_________________________________________________________________\n",
            "Layer (type)                 Output Shape              Param #   \n",
            "=================================================================\n",
            "dense_26 (Dense)             (None, 1, 256)            6400      \n",
            "_________________________________________________________________\n",
            "dense_27 (Dense)             (None, 1, 512)            131584    \n",
            "_________________________________________________________________\n",
            "batch_normalization_18 (Batc (None, 1, 512)            2048      \n",
            "_________________________________________________________________\n",
            "dense_28 (Dense)             (None, 1, 256)            131328    \n",
            "_________________________________________________________________\n",
            "batch_normalization_19 (Batc (None, 1, 256)            1024      \n",
            "_________________________________________________________________\n",
            "dense_29 (Dense)             (None, 1, 128)            32896     \n",
            "_________________________________________________________________\n",
            "batch_normalization_20 (Batc (None, 1, 128)            512       \n",
            "_________________________________________________________________\n",
            "dense_30 (Dense)             (None, 1, 64)             8256      \n",
            "_________________________________________________________________\n",
            "batch_normalization_21 (Batc (None, 1, 64)             256       \n",
            "_________________________________________________________________\n",
            "dense_31 (Dense)             (None, 1, 4)              260       \n",
            "=================================================================\n",
            "Total params: 314,564\n",
            "Trainable params: 312,644\n",
            "Non-trainable params: 1,920\n",
            "_________________________________________________________________\n"
          ],
          "name": "stdout"
        }
      ]
    },
    {
      "cell_type": "code",
      "metadata": {
        "id": "VeD8KP-f4Moc",
        "outputId": "e532068f-7115-43e5-eeea-fc4c72012aee",
        "colab": {
          "base_uri": "https://localhost:8080/"
        }
      },
      "source": [
        "# CNN model\n",
        "model_CNN = Sequential()\n",
        "\n",
        "#Adding the input layer and first hidden layer\n",
        "model_CNN.add(Dense(256, activation= 'swish', input_shape=(1,24)))\n",
        "#Adding second hidden layer\n",
        "model_CNN.add(Dense(512, activation= 'swish'))\n",
        "model_CNN.add(BatchNormalization())\n",
        "model_CNN.add(Dense(512, activation= 'swish'))\n",
        "model_CNN1.add(Dropout(0.25))\n",
        "model_CNN.add(BatchNormalization())\n",
        "model_CNN.add(Dense(256, activation= 'swish'))\n",
        "model_CNN.add(BatchNormalization())\n",
        "model_CNN.add(Dense(128, activation= 'swish'))\n",
        "model_CNN.add(BatchNormalization())\n",
        "model_CNN.add(Dense(64, activation= 'swish'))\n",
        "model_CNN.add(BatchNormalization())\n",
        "model_CNN.add(Dense(32, activation= 'swish'))\n",
        "model_CNN.add(BatchNormalization())\n",
        "#Adding the Output Layer\n",
        "model_CNN.add(Dense(4, activation='softmax')) \n",
        "#Compiling\n",
        "model_CNN.compile(optimizer='adam', loss='categorical_crossentropy', metrics=['categorical_accuracy', f1_m], sample_weight_mode=\"temporal\")\n",
        "model_CNN.summary()"
      ],
      "execution_count": 79,
      "outputs": [
        {
          "output_type": "stream",
          "text": [
            "Model: \"sequential_6\"\n",
            "_________________________________________________________________\n",
            "Layer (type)                 Output Shape              Param #   \n",
            "=================================================================\n",
            "dense_40 (Dense)             (None, 1, 256)            6400      \n",
            "_________________________________________________________________\n",
            "dense_41 (Dense)             (None, 1, 512)            131584    \n",
            "_________________________________________________________________\n",
            "batch_normalization_28 (Batc (None, 1, 512)            2048      \n",
            "_________________________________________________________________\n",
            "dense_42 (Dense)             (None, 1, 512)            262656    \n",
            "_________________________________________________________________\n",
            "batch_normalization_29 (Batc (None, 1, 512)            2048      \n",
            "_________________________________________________________________\n",
            "dense_43 (Dense)             (None, 1, 256)            131328    \n",
            "_________________________________________________________________\n",
            "batch_normalization_30 (Batc (None, 1, 256)            1024      \n",
            "_________________________________________________________________\n",
            "dense_44 (Dense)             (None, 1, 128)            32896     \n",
            "_________________________________________________________________\n",
            "batch_normalization_31 (Batc (None, 1, 128)            512       \n",
            "_________________________________________________________________\n",
            "dense_45 (Dense)             (None, 1, 64)             8256      \n",
            "_________________________________________________________________\n",
            "batch_normalization_32 (Batc (None, 1, 64)             256       \n",
            "_________________________________________________________________\n",
            "dense_46 (Dense)             (None, 1, 32)             2080      \n",
            "_________________________________________________________________\n",
            "batch_normalization_33 (Batc (None, 1, 32)             128       \n",
            "_________________________________________________________________\n",
            "dense_47 (Dense)             (None, 1, 4)              132       \n",
            "=================================================================\n",
            "Total params: 581,348\n",
            "Trainable params: 578,340\n",
            "Non-trainable params: 3,008\n",
            "_________________________________________________________________\n"
          ],
          "name": "stdout"
        }
      ]
    },
    {
      "cell_type": "code",
      "metadata": {
        "id": "wPfOk4CX9OfQ",
        "outputId": "e05b670b-a55d-4a7e-c608-26e6b92fcd78",
        "colab": {
          "base_uri": "https://localhost:8080/"
        }
      },
      "source": [
        "model_CNN.input_shape"
      ],
      "execution_count": 80,
      "outputs": [
        {
          "output_type": "execute_result",
          "data": {
            "text/plain": [
              "(None, 1, 24)"
            ]
          },
          "metadata": {
            "tags": []
          },
          "execution_count": 80
        }
      ]
    },
    {
      "cell_type": "code",
      "metadata": {
        "id": "H16wV_2LJam1",
        "outputId": "3b78e230-12d1-41fa-f38e-d7a3bddbc13b",
        "colab": {
          "base_uri": "https://localhost:8080/"
        }
      },
      "source": [
        "model_CNN.output_shape"
      ],
      "execution_count": 81,
      "outputs": [
        {
          "output_type": "execute_result",
          "data": {
            "text/plain": [
              "(None, 1, 4)"
            ]
          },
          "metadata": {
            "tags": []
          },
          "execution_count": 81
        }
      ]
    },
    {
      "cell_type": "code",
      "metadata": {
        "id": "BEz9JD1mK_Bn"
      },
      "source": [
        "from sklearn.model_selection import train_test_split\n",
        "X_train, X_test, y_train, y_test = train_test_split(X_n, y, test_size=0.25, random_state=177)"
      ],
      "execution_count": 85,
      "outputs": []
    },
    {
      "cell_type": "code",
      "metadata": {
        "id": "CpXFSnmHqfy4"
      },
      "source": [
        "# Scaling the data\n",
        "from sklearn.preprocessing import StandardScaler\n",
        "scaler = StandardScaler()\n",
        "X_train = scaler.fit_transform(X_train.reshape(-1,24))\n",
        "X_test = scaler.transform(X_test.reshape(-1,24))"
      ],
      "execution_count": 86,
      "outputs": []
    },
    {
      "cell_type": "code",
      "metadata": {
        "id": "mQBoUCsG-ZXa",
        "outputId": "a4ef6b60-f681-4cc4-b25a-20c1ef5d6c7e",
        "colab": {
          "base_uri": "https://localhost:8080/"
        }
      },
      "source": [
        "unique, counts = np.unique(y_train, return_counts=True)\n",
        "print(unique)\n",
        "print(counts)"
      ],
      "execution_count": 87,
      "outputs": [
        {
          "output_type": "stream",
          "text": [
            "[0. 1. 2. 3.]\n",
            "[169375   9196  10951  37149]\n"
          ],
          "name": "stdout"
        }
      ]
    },
    {
      "cell_type": "code",
      "metadata": {
        "id": "mlf18jxoxE6i"
      },
      "source": [
        "# Over Sampling using kmeansSMOTE\n",
        "oversample = KMeansSMOTE(sampling_strategy='auto', cluster_balance_threshold=0.048, k_neighbors=3)"
      ],
      "execution_count": 88,
      "outputs": []
    },
    {
      "cell_type": "code",
      "metadata": {
        "id": "BYx4k202t-22"
      },
      "source": [
        "X_train = X_train.reshape(-1,24)"
      ],
      "execution_count": 89,
      "outputs": []
    },
    {
      "cell_type": "code",
      "metadata": {
        "id": "6NpNHWa_n3sw"
      },
      "source": [
        "X_train, y_train = oversample.fit_resample(X_train, y_train)"
      ],
      "execution_count": 90,
      "outputs": []
    },
    {
      "cell_type": "code",
      "metadata": {
        "id": "7KydyDIWLWnI"
      },
      "source": [
        "# Downsampling -- optional\n",
        "from imblearn.under_sampling import RandomUnderSampler\n",
        "rus = RandomUnderSampler()\n",
        "X_rus, y_rus = rus.fit_sample(X_train, y_train)"
      ],
      "execution_count": 51,
      "outputs": []
    },
    {
      "cell_type": "code",
      "metadata": {
        "id": "dMfZaqYlM8Cl",
        "outputId": "a45a31b4-a84c-4cf4-f93a-eb2e21a61d75",
        "colab": {
          "base_uri": "https://localhost:8080/"
        }
      },
      "source": [
        "unique, counts = np.unique(y_rus, return_counts=True)\n",
        "print(unique)\n",
        "print(counts)"
      ],
      "execution_count": 52,
      "outputs": [
        {
          "output_type": "stream",
          "text": [
            "[0. 1. 2. 3.]\n",
            "[38057 38057 38057 38057]\n"
          ],
          "name": "stdout"
        }
      ]
    },
    {
      "cell_type": "code",
      "metadata": {
        "id": "lstU1DvBlSur"
      },
      "source": [
        "# Ading class weight parameter in CNN models\n",
        "class_weights = np.zeros((len(y_train), 4))\n",
        "class_weights[:, 0] += 1\n",
        "class_weights[:, 1] += 15\n",
        "class_weights[:, 2] += 20\n",
        "class_weights[:, 3] += 5"
      ],
      "execution_count": 91,
      "outputs": []
    },
    {
      "cell_type": "code",
      "metadata": {
        "id": "hflXPDe9FHgP"
      },
      "source": [
        "unique, counts = np.unique(y_train, return_counts=True)"
      ],
      "execution_count": 88,
      "outputs": []
    },
    {
      "cell_type": "code",
      "metadata": {
        "id": "u5jUiekOGQ4y",
        "outputId": "d6f8f9ee-6843-4e9b-bb40-243edfd13de9",
        "colab": {
          "base_uri": "https://localhost:8080/"
        }
      },
      "source": [
        "print(unique)\n",
        "print(counts)"
      ],
      "execution_count": 89,
      "outputs": [
        {
          "output_type": "stream",
          "text": [
            "[0. 1. 2. 3.]\n",
            "[169375 169376 169376 169380]\n"
          ],
          "name": "stdout"
        }
      ]
    },
    {
      "cell_type": "code",
      "metadata": {
        "id": "1AFpopi7s_PX",
        "outputId": "60de8cea-4195-4aa0-9203-71547443f0ce",
        "colab": {
          "base_uri": "https://localhost:8080/"
        }
      },
      "source": [
        "X_test.shape"
      ],
      "execution_count": null,
      "outputs": [
        {
          "output_type": "execute_result",
          "data": {
            "text/plain": [
              "(90669, 24)"
            ]
          },
          "metadata": {
            "tags": []
          },
          "execution_count": 55
        }
      ]
    },
    {
      "cell_type": "code",
      "metadata": {
        "id": "EQOV_lvNkBfx"
      },
      "source": [
        "X_train = X_train.reshape(-1,1,24)\n",
        "X_test = X_test.reshape(-1,1,24)"
      ],
      "execution_count": 93,
      "outputs": []
    },
    {
      "cell_type": "code",
      "metadata": {
        "id": "q_bxvNVUE-yH",
        "outputId": "0cb4e2ea-a535-4b9f-ef25-b850ab1dc688",
        "colab": {
          "base_uri": "https://localhost:8080/"
        }
      },
      "source": [
        "model.output_shape"
      ],
      "execution_count": 94,
      "outputs": [
        {
          "output_type": "execute_result",
          "data": {
            "text/plain": [
              "(None, 4)"
            ]
          },
          "metadata": {
            "tags": []
          },
          "execution_count": 94
        }
      ]
    },
    {
      "cell_type": "code",
      "metadata": {
        "id": "N_HXHo03eaUN"
      },
      "source": [
        "# Reshape according to model output size\n",
        "y_train = to_categorical(y_train).reshape(-1,4)\n",
        "y_test = to_categorical(y_test).reshape(-1,4)"
      ],
      "execution_count": 95,
      "outputs": []
    },
    {
      "cell_type": "code",
      "metadata": {
        "id": "f37-gBgnOJPL",
        "outputId": "35d3ab2c-5a40-4cd8-9134-6d19e843475e",
        "colab": {
          "base_uri": "https://localhost:8080/"
        }
      },
      "source": [
        "y_train.shape"
      ],
      "execution_count": 60,
      "outputs": [
        {
          "output_type": "execute_result",
          "data": {
            "text/plain": [
              "(1025310, 4)"
            ]
          },
          "metadata": {
            "tags": []
          },
          "execution_count": 60
        }
      ]
    },
    {
      "cell_type": "code",
      "metadata": {
        "id": "2iUjx1htEUVb"
      },
      "source": [
        "# Saving best model each time\n",
        "from keras.callbacks import ModelCheckpoint\n",
        "checkpoint = ModelCheckpoint('/content/drive/My Drive/RNNbi411{epoch:08d}.h5', save_best_only=True) "
      ],
      "execution_count": 58,
      "outputs": []
    },
    {
      "cell_type": "code",
      "metadata": {
        "id": "NCToo2qxlXo_",
        "outputId": "60474f22-0221-4b22-b004-4d42e98c2839",
        "colab": {
          "base_uri": "https://localhost:8080/"
        }
      },
      "source": [
        "RNN_swish_down_prev = model.fit(X_train, y_train, epochs = 40, validation_data= (X_test, y_test), callbacks=[checkpoint], batch_size=240)"
      ],
      "execution_count": null,
      "outputs": [
        {
          "output_type": "stream",
          "text": [
            "Epoch 1/40\n",
            "2823/2823 [==============================] - 66s 23ms/step - loss: 0.8542 - categorical_accuracy: 0.6502 - f1_m: 0.5871 - val_loss: 1.1548 - val_categorical_accuracy: 0.5512 - val_f1_m: 0.5422\n",
            "Epoch 2/40\n",
            "2823/2823 [==============================] - 67s 24ms/step - loss: 0.5459 - categorical_accuracy: 0.8113 - f1_m: 0.8077 - val_loss: 1.1118 - val_categorical_accuracy: 0.5807 - val_f1_m: 0.5743\n",
            "Epoch 3/40\n",
            "2823/2823 [==============================] - 64s 23ms/step - loss: 0.4836 - categorical_accuracy: 0.8344 - f1_m: 0.8326 - val_loss: 1.0603 - val_categorical_accuracy: 0.6073 - val_f1_m: 0.5994\n",
            "Epoch 4/40\n",
            "2823/2823 [==============================] - 64s 23ms/step - loss: 0.4414 - categorical_accuracy: 0.8499 - f1_m: 0.8484 - val_loss: 1.0177 - val_categorical_accuracy: 0.6272 - val_f1_m: 0.6214\n",
            "Epoch 5/40\n",
            "2823/2823 [==============================] - 65s 23ms/step - loss: 0.4138 - categorical_accuracy: 0.8599 - f1_m: 0.8586 - val_loss: 1.0195 - val_categorical_accuracy: 0.6351 - val_f1_m: 0.6301\n",
            "Epoch 6/40\n",
            "2823/2823 [==============================] - 65s 23ms/step - loss: 0.3912 - categorical_accuracy: 0.8683 - f1_m: 0.8673 - val_loss: 1.0078 - val_categorical_accuracy: 0.6457 - val_f1_m: 0.6404\n",
            "Epoch 7/40\n",
            " 444/2823 [===>..........................] - ETA: 52s - loss: 0.3764 - categorical_accuracy: 0.8735 - f1_m: 0.8725"
          ],
          "name": "stdout"
        }
      ]
    },
    {
      "cell_type": "code",
      "metadata": {
        "id": "Uko29yqbNW2_",
        "outputId": "d28f8542-65a3-4150-ef6a-d45743b97c49",
        "colab": {
          "base_uri": "https://localhost:8080/"
        }
      },
      "source": [
        "RNN_swish_down = model.fit(X_train, y_train, epochs = 40, validation_data= (X_test, y_test), callbacks=[checkpoint], batch_size=240)"
      ],
      "execution_count": 63,
      "outputs": [
        {
          "output_type": "stream",
          "text": [
            "Epoch 1/40\n",
            "4273/4273 [==============================] - 104s 24ms/step - loss: 0.8329 - categorical_accuracy: 0.7400 - f1_m: 0.7300 - val_loss: 0.8095 - val_categorical_accuracy: 0.7411 - val_f1_m: 0.7406\n",
            "Epoch 2/40\n",
            "4273/4273 [==============================] - 103s 24ms/step - loss: 0.7880 - categorical_accuracy: 0.7444 - f1_m: 0.7438 - val_loss: 0.7769 - val_categorical_accuracy: 0.7429 - val_f1_m: 0.7420\n",
            "Epoch 3/40\n",
            "4273/4273 [==============================] - 102s 24ms/step - loss: 0.7508 - categorical_accuracy: 0.7477 - f1_m: 0.7467 - val_loss: 0.7411 - val_categorical_accuracy: 0.7474 - val_f1_m: 0.7461\n",
            "Epoch 4/40\n",
            "4273/4273 [==============================] - 101s 24ms/step - loss: 0.7289 - categorical_accuracy: 0.7508 - f1_m: 0.7497 - val_loss: 0.7227 - val_categorical_accuracy: 0.7511 - val_f1_m: 0.7495\n",
            "Epoch 5/40\n",
            "4273/4273 [==============================] - 102s 24ms/step - loss: 0.7152 - categorical_accuracy: 0.7536 - f1_m: 0.7523 - val_loss: 0.7107 - val_categorical_accuracy: 0.7530 - val_f1_m: 0.7516\n",
            "Epoch 6/40\n",
            "4273/4273 [==============================] - 104s 24ms/step - loss: 0.7049 - categorical_accuracy: 0.7557 - f1_m: 0.7543 - val_loss: 0.7057 - val_categorical_accuracy: 0.7539 - val_f1_m: 0.7526\n",
            "Epoch 7/40\n",
            "4273/4273 [==============================] - 103s 24ms/step - loss: 0.6966 - categorical_accuracy: 0.7577 - f1_m: 0.7563 - val_loss: 0.6962 - val_categorical_accuracy: 0.7564 - val_f1_m: 0.7549\n",
            "Epoch 8/40\n",
            "4273/4273 [==============================] - 102s 24ms/step - loss: 0.6901 - categorical_accuracy: 0.7595 - f1_m: 0.7579 - val_loss: 0.6933 - val_categorical_accuracy: 0.7576 - val_f1_m: 0.7562\n",
            "Epoch 9/40\n",
            "4273/4273 [==============================] - 103s 24ms/step - loss: 0.6843 - categorical_accuracy: 0.7610 - f1_m: 0.7594 - val_loss: 0.6875 - val_categorical_accuracy: 0.7599 - val_f1_m: 0.7585\n",
            "Epoch 10/40\n",
            "4273/4273 [==============================] - 102s 24ms/step - loss: 0.6786 - categorical_accuracy: 0.7625 - f1_m: 0.7609 - val_loss: 0.6872 - val_categorical_accuracy: 0.7597 - val_f1_m: 0.7583\n",
            "Epoch 11/40\n",
            "4273/4273 [==============================] - 102s 24ms/step - loss: 0.6742 - categorical_accuracy: 0.7636 - f1_m: 0.7620 - val_loss: 0.6827 - val_categorical_accuracy: 0.7616 - val_f1_m: 0.7593\n",
            "Epoch 12/40\n",
            "4273/4273 [==============================] - 102s 24ms/step - loss: 0.6705 - categorical_accuracy: 0.7647 - f1_m: 0.7631 - val_loss: 0.6804 - val_categorical_accuracy: 0.7622 - val_f1_m: 0.7596\n",
            "Epoch 13/40\n",
            "4273/4273 [==============================] - 102s 24ms/step - loss: 0.6665 - categorical_accuracy: 0.7657 - f1_m: 0.7641 - val_loss: 0.6777 - val_categorical_accuracy: 0.7630 - val_f1_m: 0.7613\n",
            "Epoch 14/40\n",
            "4273/4273 [==============================] - 101s 24ms/step - loss: 0.6633 - categorical_accuracy: 0.7665 - f1_m: 0.7648 - val_loss: 0.6774 - val_categorical_accuracy: 0.7627 - val_f1_m: 0.7610\n",
            "Epoch 15/40\n",
            "4273/4273 [==============================] - 102s 24ms/step - loss: 0.6601 - categorical_accuracy: 0.7674 - f1_m: 0.7656 - val_loss: 0.6772 - val_categorical_accuracy: 0.7635 - val_f1_m: 0.7618\n",
            "Epoch 16/40\n",
            "4273/4273 [==============================] - 101s 24ms/step - loss: 0.6567 - categorical_accuracy: 0.7685 - f1_m: 0.7668 - val_loss: 0.6761 - val_categorical_accuracy: 0.7627 - val_f1_m: 0.7607\n",
            "Epoch 17/40\n",
            "4273/4273 [==============================] - 101s 24ms/step - loss: 0.6537 - categorical_accuracy: 0.7690 - f1_m: 0.7673 - val_loss: 0.6732 - val_categorical_accuracy: 0.7643 - val_f1_m: 0.7623\n",
            "Epoch 18/40\n",
            "4273/4273 [==============================] - 102s 24ms/step - loss: 0.6511 - categorical_accuracy: 0.7700 - f1_m: 0.7683 - val_loss: 0.6731 - val_categorical_accuracy: 0.7642 - val_f1_m: 0.7624\n",
            "Epoch 19/40\n",
            "4273/4273 [==============================] - 102s 24ms/step - loss: 0.6484 - categorical_accuracy: 0.7706 - f1_m: 0.7689 - val_loss: 0.6710 - val_categorical_accuracy: 0.7655 - val_f1_m: 0.7634\n",
            "Epoch 20/40\n",
            "4273/4273 [==============================] - 101s 24ms/step - loss: 0.6461 - categorical_accuracy: 0.7714 - f1_m: 0.7697 - val_loss: 0.6696 - val_categorical_accuracy: 0.7655 - val_f1_m: 0.7637\n",
            "Epoch 21/40\n",
            "4273/4273 [==============================] - 102s 24ms/step - loss: 0.6433 - categorical_accuracy: 0.7725 - f1_m: 0.7708 - val_loss: 0.6707 - val_categorical_accuracy: 0.7653 - val_f1_m: 0.7641\n",
            "Epoch 22/40\n",
            "4273/4273 [==============================] - 102s 24ms/step - loss: 0.6407 - categorical_accuracy: 0.7727 - f1_m: 0.7709 - val_loss: 0.6695 - val_categorical_accuracy: 0.7661 - val_f1_m: 0.7642\n",
            "Epoch 23/40\n",
            "4273/4273 [==============================] - 102s 24ms/step - loss: 0.6389 - categorical_accuracy: 0.7731 - f1_m: 0.7715 - val_loss: 0.6690 - val_categorical_accuracy: 0.7656 - val_f1_m: 0.7635\n",
            "Epoch 24/40\n",
            "4273/4273 [==============================] - 102s 24ms/step - loss: 0.6368 - categorical_accuracy: 0.7741 - f1_m: 0.7724 - val_loss: 0.6677 - val_categorical_accuracy: 0.7662 - val_f1_m: 0.7643\n",
            "Epoch 25/40\n",
            "4273/4273 [==============================] - 102s 24ms/step - loss: 0.6344 - categorical_accuracy: 0.7749 - f1_m: 0.7732 - val_loss: 0.6692 - val_categorical_accuracy: 0.7657 - val_f1_m: 0.7640\n",
            "Epoch 26/40\n",
            "4273/4273 [==============================] - 102s 24ms/step - loss: 0.6325 - categorical_accuracy: 0.7750 - f1_m: 0.7734 - val_loss: 0.6680 - val_categorical_accuracy: 0.7654 - val_f1_m: 0.7632\n",
            "Epoch 27/40\n",
            "4273/4273 [==============================] - 102s 24ms/step - loss: 0.6305 - categorical_accuracy: 0.7758 - f1_m: 0.7741 - val_loss: 0.6665 - val_categorical_accuracy: 0.7666 - val_f1_m: 0.7644\n",
            "Epoch 28/40\n",
            "4273/4273 [==============================] - 102s 24ms/step - loss: 0.6287 - categorical_accuracy: 0.7764 - f1_m: 0.7747 - val_loss: 0.6658 - val_categorical_accuracy: 0.7668 - val_f1_m: 0.7646\n",
            "Epoch 29/40\n",
            "4273/4273 [==============================] - 102s 24ms/step - loss: 0.6269 - categorical_accuracy: 0.7767 - f1_m: 0.7750 - val_loss: 0.6668 - val_categorical_accuracy: 0.7668 - val_f1_m: 0.7646\n",
            "Epoch 30/40\n",
            "4273/4273 [==============================] - 102s 24ms/step - loss: 0.6250 - categorical_accuracy: 0.7772 - f1_m: 0.7755 - val_loss: 0.6682 - val_categorical_accuracy: 0.7662 - val_f1_m: 0.7643\n",
            "Epoch 31/40\n",
            "4273/4273 [==============================] - 103s 24ms/step - loss: 0.6234 - categorical_accuracy: 0.7779 - f1_m: 0.7763 - val_loss: 0.6656 - val_categorical_accuracy: 0.7658 - val_f1_m: 0.7636\n",
            "Epoch 32/40\n",
            "4273/4273 [==============================] - 102s 24ms/step - loss: 0.6215 - categorical_accuracy: 0.7782 - f1_m: 0.7765 - val_loss: 0.6646 - val_categorical_accuracy: 0.7676 - val_f1_m: 0.7657\n",
            "Epoch 33/40\n",
            "4273/4273 [==============================] - 103s 24ms/step - loss: 0.6199 - categorical_accuracy: 0.7788 - f1_m: 0.7772 - val_loss: 0.6647 - val_categorical_accuracy: 0.7665 - val_f1_m: 0.7642\n",
            "Epoch 34/40\n",
            "4273/4273 [==============================] - 103s 24ms/step - loss: 0.6187 - categorical_accuracy: 0.7791 - f1_m: 0.7774 - val_loss: 0.6661 - val_categorical_accuracy: 0.7675 - val_f1_m: 0.7655\n",
            "Epoch 35/40\n",
            "4273/4273 [==============================] - 102s 24ms/step - loss: 0.6172 - categorical_accuracy: 0.7796 - f1_m: 0.7779 - val_loss: 0.6649 - val_categorical_accuracy: 0.7673 - val_f1_m: 0.7651\n",
            "Epoch 36/40\n",
            "4273/4273 [==============================] - 102s 24ms/step - loss: 0.6152 - categorical_accuracy: 0.7800 - f1_m: 0.7782 - val_loss: 0.6669 - val_categorical_accuracy: 0.7668 - val_f1_m: 0.7645\n",
            "Epoch 37/40\n",
            "4273/4273 [==============================] - 101s 24ms/step - loss: 0.6144 - categorical_accuracy: 0.7802 - f1_m: 0.7785 - val_loss: 0.6664 - val_categorical_accuracy: 0.7675 - val_f1_m: 0.7658\n",
            "Epoch 38/40\n",
            "4273/4273 [==============================] - 101s 24ms/step - loss: 0.6131 - categorical_accuracy: 0.7803 - f1_m: 0.7786 - val_loss: 0.6658 - val_categorical_accuracy: 0.7675 - val_f1_m: 0.7655\n",
            "Epoch 39/40\n",
            "4273/4273 [==============================] - 101s 24ms/step - loss: 0.6119 - categorical_accuracy: 0.7808 - f1_m: 0.7792 - val_loss: 0.6673 - val_categorical_accuracy: 0.7673 - val_f1_m: 0.7654\n",
            "Epoch 40/40\n",
            "4273/4273 [==============================] - 100s 23ms/step - loss: 0.6104 - categorical_accuracy: 0.7814 - f1_m: 0.7798 - val_loss: 0.6658 - val_categorical_accuracy: 0.7674 - val_f1_m: 0.7651\n"
          ],
          "name": "stdout"
        }
      ]
    },
    {
      "cell_type": "code",
      "metadata": {
        "id": "NpiBLwJR3Z1l",
        "outputId": "d072f8b4-e1d5-485c-befb-b78a8e33f703",
        "colab": {
          "base_uri": "https://localhost:8080/"
        }
      },
      "source": [
        "CNN_swish = model_CNN.fit(X_train, y_train, epochs = 20, validation_data= (X_test, y_test), callbacks=[checkpoint], batch_size=240, sample_weight=class_weights)"
      ],
      "execution_count": 93,
      "outputs": [
        {
          "output_type": "stream",
          "text": [
            "Epoch 1/20\n",
            "2823/2823 [==============================] - 88s 31ms/step - loss: 6.0575 - categorical_accuracy: 0.7906 - f1_m: 0.7845 - val_loss: 1.0125 - val_categorical_accuracy: 0.6174 - val_f1_m: 0.6021\n",
            "Epoch 2/20\n",
            "2823/2823 [==============================] - 87s 31ms/step - loss: 4.4855 - categorical_accuracy: 0.8467 - f1_m: 0.8452 - val_loss: 0.9602 - val_categorical_accuracy: 0.6572 - val_f1_m: 0.6463\n",
            "Epoch 3/20\n",
            "2823/2823 [==============================] - 88s 31ms/step - loss: 3.8825 - categorical_accuracy: 0.8671 - f1_m: 0.8665 - val_loss: 0.9366 - val_categorical_accuracy: 0.6693 - val_f1_m: 0.6602\n",
            "Epoch 4/20\n",
            "2823/2823 [==============================] - 88s 31ms/step - loss: 3.5129 - categorical_accuracy: 0.8803 - f1_m: 0.8797 - val_loss: 0.9267 - val_categorical_accuracy: 0.6773 - val_f1_m: 0.6690\n",
            "Epoch 5/20\n",
            "2823/2823 [==============================] - 90s 32ms/step - loss: 3.2541 - categorical_accuracy: 0.8891 - f1_m: 0.8888 - val_loss: 0.8979 - val_categorical_accuracy: 0.6947 - val_f1_m: 0.6877\n",
            "Epoch 6/20\n",
            "2823/2823 [==============================] - 87s 31ms/step - loss: 3.0506 - categorical_accuracy: 0.8964 - f1_m: 0.8962 - val_loss: 0.8646 - val_categorical_accuracy: 0.7121 - val_f1_m: 0.7075\n",
            "Epoch 7/20\n",
            "2823/2823 [==============================] - 88s 31ms/step - loss: 2.9032 - categorical_accuracy: 0.9013 - f1_m: 0.9012 - val_loss: 0.8653 - val_categorical_accuracy: 0.7161 - val_f1_m: 0.7129\n",
            "Epoch 8/20\n",
            "2823/2823 [==============================] - 88s 31ms/step - loss: 2.7696 - categorical_accuracy: 0.9058 - f1_m: 0.9057 - val_loss: 0.8694 - val_categorical_accuracy: 0.7193 - val_f1_m: 0.7171\n",
            "Epoch 9/20\n",
            "2823/2823 [==============================] - 88s 31ms/step - loss: 2.6552 - categorical_accuracy: 0.9100 - f1_m: 0.9098 - val_loss: 0.8906 - val_categorical_accuracy: 0.7114 - val_f1_m: 0.7077\n",
            "Epoch 10/20\n",
            "2823/2823 [==============================] - 88s 31ms/step - loss: 2.5590 - categorical_accuracy: 0.9130 - f1_m: 0.9129 - val_loss: 0.8810 - val_categorical_accuracy: 0.7164 - val_f1_m: 0.7129\n",
            "Epoch 11/20\n",
            "2823/2823 [==============================] - 88s 31ms/step - loss: 2.4806 - categorical_accuracy: 0.9157 - f1_m: 0.9156 - val_loss: 0.8805 - val_categorical_accuracy: 0.7188 - val_f1_m: 0.7158\n",
            "Epoch 12/20\n",
            "2823/2823 [==============================] - 88s 31ms/step - loss: 2.4029 - categorical_accuracy: 0.9186 - f1_m: 0.9184 - val_loss: 0.8985 - val_categorical_accuracy: 0.7192 - val_f1_m: 0.7168\n",
            "Epoch 13/20\n",
            "2823/2823 [==============================] - 88s 31ms/step - loss: 2.3295 - categorical_accuracy: 0.9208 - f1_m: 0.9206 - val_loss: 0.8820 - val_categorical_accuracy: 0.7240 - val_f1_m: 0.7220\n",
            "Epoch 14/20\n",
            "2823/2823 [==============================] - 88s 31ms/step - loss: 2.2696 - categorical_accuracy: 0.9223 - f1_m: 0.9222 - val_loss: 0.8984 - val_categorical_accuracy: 0.7214 - val_f1_m: 0.7192\n",
            "Epoch 15/20\n",
            "2823/2823 [==============================] - 88s 31ms/step - loss: 2.2103 - categorical_accuracy: 0.9244 - f1_m: 0.9243 - val_loss: 0.9106 - val_categorical_accuracy: 0.7196 - val_f1_m: 0.7169\n",
            "Epoch 16/20\n",
            "2823/2823 [==============================] - 87s 31ms/step - loss: 2.1554 - categorical_accuracy: 0.9261 - f1_m: 0.9261 - val_loss: 0.9153 - val_categorical_accuracy: 0.7208 - val_f1_m: 0.7183\n",
            "Epoch 17/20\n",
            "2823/2823 [==============================] - 89s 31ms/step - loss: 2.1133 - categorical_accuracy: 0.9276 - f1_m: 0.9275 - val_loss: 0.9235 - val_categorical_accuracy: 0.7245 - val_f1_m: 0.7222\n",
            "Epoch 18/20\n",
            "2823/2823 [==============================] - 90s 32ms/step - loss: 2.0573 - categorical_accuracy: 0.9291 - f1_m: 0.9291 - val_loss: 0.9382 - val_categorical_accuracy: 0.7194 - val_f1_m: 0.7174\n",
            "Epoch 19/20\n",
            "2823/2823 [==============================] - 89s 31ms/step - loss: 2.0147 - categorical_accuracy: 0.9306 - f1_m: 0.9305 - val_loss: 0.9489 - val_categorical_accuracy: 0.7201 - val_f1_m: 0.7177\n",
            "Epoch 20/20\n",
            "2823/2823 [==============================] - 88s 31ms/step - loss: 1.9740 - categorical_accuracy: 0.9320 - f1_m: 0.9320 - val_loss: 0.9509 - val_categorical_accuracy: 0.7212 - val_f1_m: 0.7197\n"
          ],
          "name": "stdout"
        }
      ]
    },
    {
      "cell_type": "code",
      "metadata": {
        "id": "nCDRa99m5Nye",
        "outputId": "99c0b435-073d-4ac7-dbd9-6851f829b4d2",
        "colab": {
          "base_uri": "https://localhost:8080/"
        }
      },
      "source": [
        "CNN_Swish_f1 = model_CNN1.fit(X_train, y_train, epochs = 20, validation_data= (X_test, y_test), callbacks=[checkpoint], batch_size=240)"
      ],
      "execution_count": 39,
      "outputs": [
        {
          "output_type": "stream",
          "text": [
            "Epoch 1/20\n",
            "2823/2823 [==============================] - 62s 22ms/step - loss: 0.7893 - f1_m: 0.6761 - categorical_accuracy: 0.6959 - val_loss: 1.1743 - val_f1_m: 0.4904 - val_categorical_accuracy: 0.5016\n",
            "Epoch 2/20\n",
            "2823/2823 [==============================] - 67s 24ms/step - loss: 0.6184 - f1_m: 0.7641 - categorical_accuracy: 0.7715 - val_loss: 1.1424 - val_f1_m: 0.5276 - val_categorical_accuracy: 0.5426\n",
            "Epoch 3/20\n",
            "2823/2823 [==============================] - 66s 23ms/step - loss: 0.5365 - f1_m: 0.8012 - categorical_accuracy: 0.8053 - val_loss: 1.1172 - val_f1_m: 0.5538 - val_categorical_accuracy: 0.5675\n",
            "Epoch 4/20\n",
            "2823/2823 [==============================] - 66s 23ms/step - loss: 0.4905 - f1_m: 0.8210 - categorical_accuracy: 0.8237 - val_loss: 1.0775 - val_f1_m: 0.5765 - val_categorical_accuracy: 0.5886\n",
            "Epoch 5/20\n",
            "2823/2823 [==============================] - 64s 23ms/step - loss: 0.4608 - f1_m: 0.8326 - categorical_accuracy: 0.8352 - val_loss: 1.0577 - val_f1_m: 0.5936 - val_categorical_accuracy: 0.6056\n",
            "Epoch 6/20\n",
            "2823/2823 [==============================] - 63s 22ms/step - loss: 0.4389 - f1_m: 0.8413 - categorical_accuracy: 0.8433 - val_loss: 1.0504 - val_f1_m: 0.6086 - val_categorical_accuracy: 0.6180\n",
            "Epoch 7/20\n",
            "2823/2823 [==============================] - 61s 22ms/step - loss: 0.4215 - f1_m: 0.8489 - categorical_accuracy: 0.8506 - val_loss: 1.0507 - val_f1_m: 0.6078 - val_categorical_accuracy: 0.6156\n",
            "Epoch 8/20\n",
            "2823/2823 [==============================] - 64s 23ms/step - loss: 0.4072 - f1_m: 0.8543 - categorical_accuracy: 0.8559 - val_loss: 1.0137 - val_f1_m: 0.6272 - val_categorical_accuracy: 0.6350\n",
            "Epoch 9/20\n",
            "2823/2823 [==============================] - 61s 21ms/step - loss: 0.3956 - f1_m: 0.8586 - categorical_accuracy: 0.8599 - val_loss: 1.0133 - val_f1_m: 0.6309 - val_categorical_accuracy: 0.6391\n",
            "Epoch 10/20\n",
            "2823/2823 [==============================] - 61s 22ms/step - loss: 0.3857 - f1_m: 0.8630 - categorical_accuracy: 0.8642 - val_loss: 1.0139 - val_f1_m: 0.6311 - val_categorical_accuracy: 0.6377\n",
            "Epoch 11/20\n",
            "2823/2823 [==============================] - 62s 22ms/step - loss: 0.3767 - f1_m: 0.8663 - categorical_accuracy: 0.8673 - val_loss: 1.0159 - val_f1_m: 0.6371 - val_categorical_accuracy: 0.6429\n",
            "Epoch 12/20\n",
            "2823/2823 [==============================] - 60s 21ms/step - loss: 0.3685 - f1_m: 0.8693 - categorical_accuracy: 0.8704 - val_loss: 1.0218 - val_f1_m: 0.6405 - val_categorical_accuracy: 0.6464\n",
            "Epoch 13/20\n",
            "2823/2823 [==============================] - 62s 22ms/step - loss: 0.3619 - f1_m: 0.8719 - categorical_accuracy: 0.8729 - val_loss: 1.0164 - val_f1_m: 0.6415 - val_categorical_accuracy: 0.6479\n",
            "Epoch 14/20\n",
            "2823/2823 [==============================] - 63s 22ms/step - loss: 0.3555 - f1_m: 0.8745 - categorical_accuracy: 0.8754 - val_loss: 1.0187 - val_f1_m: 0.6433 - val_categorical_accuracy: 0.6497\n",
            "Epoch 15/20\n",
            "2823/2823 [==============================] - 66s 23ms/step - loss: 0.3492 - f1_m: 0.8769 - categorical_accuracy: 0.8776 - val_loss: 0.9955 - val_f1_m: 0.6522 - val_categorical_accuracy: 0.6576\n",
            "Epoch 16/20\n",
            "2823/2823 [==============================] - 64s 23ms/step - loss: 0.3447 - f1_m: 0.8787 - categorical_accuracy: 0.8796 - val_loss: 1.0249 - val_f1_m: 0.6495 - val_categorical_accuracy: 0.6537\n",
            "Epoch 17/20\n",
            "2823/2823 [==============================] - 61s 21ms/step - loss: 0.3404 - f1_m: 0.8801 - categorical_accuracy: 0.8807 - val_loss: 1.0036 - val_f1_m: 0.6551 - val_categorical_accuracy: 0.6599\n",
            "Epoch 18/20\n",
            "2823/2823 [==============================] - 60s 21ms/step - loss: 0.3355 - f1_m: 0.8819 - categorical_accuracy: 0.8826 - val_loss: 0.9984 - val_f1_m: 0.6569 - val_categorical_accuracy: 0.6614\n",
            "Epoch 19/20\n",
            "2823/2823 [==============================] - 61s 22ms/step - loss: 0.3308 - f1_m: 0.8835 - categorical_accuracy: 0.8842 - val_loss: 0.9992 - val_f1_m: 0.6573 - val_categorical_accuracy: 0.6626\n",
            "Epoch 20/20\n",
            "2823/2823 [==============================] - 59s 21ms/step - loss: 0.3273 - f1_m: 0.8848 - categorical_accuracy: 0.8853 - val_loss: 1.0032 - val_f1_m: 0.6612 - val_categorical_accuracy: 0.6651\n"
          ],
          "name": "stdout"
        }
      ]
    },
    {
      "cell_type": "code",
      "metadata": {
        "id": "xINhHmrR1yA4",
        "outputId": "c107bbf6-a9c8-4b1e-9608-2ca43ba6de59",
        "colab": {
          "base_uri": "https://localhost:8080/"
        }
      },
      "source": [
        "RNN_history = model.fit(X_train, y_train, epochs = 40, validation_data= (X_test, y_test), callbacks=[checkpoint], batch_size=240)\n"
      ],
      "execution_count": null,
      "outputs": [
        {
          "output_type": "stream",
          "text": [
            "Epoch 1/40\n",
            "2635/2635 [==============================] - 44s 17ms/step - loss: 0.5451 - categorical_accuracy: 0.8111 - f1_m: 0.8074 - precision_m: 0.8285 - recall_m: 0.7875 - val_loss: 1.0722 - val_categorical_accuracy: 0.5837 - val_f1_m: 0.5702 - val_precision_m: 0.5930 - val_recall_m: 0.5492\n",
            "Epoch 2/40\n",
            "2635/2635 [==============================] - 44s 17ms/step - loss: 0.4748 - categorical_accuracy: 0.8343 - f1_m: 0.8326 - precision_m: 0.8481 - recall_m: 0.8177 - val_loss: 1.0630 - val_categorical_accuracy: 0.6031 - val_f1_m: 0.5908 - val_precision_m: 0.6113 - val_recall_m: 0.5717\n",
            "Epoch 3/40\n",
            "2635/2635 [==============================] - 44s 17ms/step - loss: 0.4424 - categorical_accuracy: 0.8449 - f1_m: 0.8433 - precision_m: 0.8569 - recall_m: 0.8303 - val_loss: 1.0292 - val_categorical_accuracy: 0.6252 - val_f1_m: 0.6166 - val_precision_m: 0.6333 - val_recall_m: 0.6009\n",
            "Epoch 4/40\n",
            "2635/2635 [==============================] - 44s 17ms/step - loss: 0.4205 - categorical_accuracy: 0.8520 - f1_m: 0.8506 - precision_m: 0.8631 - recall_m: 0.8386 - val_loss: 0.9932 - val_categorical_accuracy: 0.6393 - val_f1_m: 0.6310 - val_precision_m: 0.6493 - val_recall_m: 0.6137\n",
            "Epoch 5/40\n",
            "2635/2635 [==============================] - 44s 17ms/step - loss: 0.4051 - categorical_accuracy: 0.8570 - f1_m: 0.8558 - precision_m: 0.8676 - recall_m: 0.8443 - val_loss: 0.9799 - val_categorical_accuracy: 0.6443 - val_f1_m: 0.6368 - val_precision_m: 0.6543 - val_recall_m: 0.6203\n",
            "Epoch 6/40\n",
            "2635/2635 [==============================] - 44s 17ms/step - loss: 0.3918 - categorical_accuracy: 0.8614 - f1_m: 0.8605 - precision_m: 0.8716 - recall_m: 0.8497 - val_loss: 0.9909 - val_categorical_accuracy: 0.6384 - val_f1_m: 0.6306 - val_precision_m: 0.6486 - val_recall_m: 0.6135\n",
            "Epoch 7/40\n",
            "2635/2635 [==============================] - 45s 17ms/step - loss: 0.3816 - categorical_accuracy: 0.8646 - f1_m: 0.8637 - precision_m: 0.8743 - recall_m: 0.8534 - val_loss: 0.9721 - val_categorical_accuracy: 0.6532 - val_f1_m: 0.6454 - val_precision_m: 0.6627 - val_recall_m: 0.6290\n",
            "Epoch 8/40\n",
            "2635/2635 [==============================] - 46s 17ms/step - loss: 0.3723 - categorical_accuracy: 0.8677 - f1_m: 0.8669 - precision_m: 0.8770 - recall_m: 0.8570 - val_loss: 0.9433 - val_categorical_accuracy: 0.6650 - val_f1_m: 0.6575 - val_precision_m: 0.6747 - val_recall_m: 0.6412\n",
            "Epoch 9/40\n",
            "2635/2635 [==============================] - 45s 17ms/step - loss: 0.3640 - categorical_accuracy: 0.8703 - f1_m: 0.8696 - precision_m: 0.8793 - recall_m: 0.8601 - val_loss: 0.9827 - val_categorical_accuracy: 0.6577 - val_f1_m: 0.6509 - val_precision_m: 0.6659 - val_recall_m: 0.6366\n",
            "Epoch 10/40\n",
            "2635/2635 [==============================] - 45s 17ms/step - loss: 0.3577 - categorical_accuracy: 0.8730 - f1_m: 0.8723 - precision_m: 0.8818 - recall_m: 0.8630 - val_loss: 0.9529 - val_categorical_accuracy: 0.6658 - val_f1_m: 0.6586 - val_precision_m: 0.6743 - val_recall_m: 0.6437\n",
            "Epoch 11/40\n",
            "2635/2635 [==============================] - 44s 17ms/step - loss: 0.3513 - categorical_accuracy: 0.8757 - f1_m: 0.8747 - precision_m: 0.8841 - recall_m: 0.8656 - val_loss: 0.9807 - val_categorical_accuracy: 0.6630 - val_f1_m: 0.6570 - val_precision_m: 0.6719 - val_recall_m: 0.6427\n",
            "Epoch 12/40\n",
            "2635/2635 [==============================] - 44s 17ms/step - loss: 0.3459 - categorical_accuracy: 0.8771 - f1_m: 0.8764 - precision_m: 0.8854 - recall_m: 0.8675 - val_loss: 0.9564 - val_categorical_accuracy: 0.6711 - val_f1_m: 0.6654 - val_precision_m: 0.6795 - val_recall_m: 0.6520\n",
            "Epoch 13/40\n",
            "2635/2635 [==============================] - 45s 17ms/step - loss: 0.3405 - categorical_accuracy: 0.8787 - f1_m: 0.8782 - precision_m: 0.8870 - recall_m: 0.8696 - val_loss: 0.9661 - val_categorical_accuracy: 0.6715 - val_f1_m: 0.6664 - val_precision_m: 0.6794 - val_recall_m: 0.6539\n",
            "Epoch 14/40\n",
            "2635/2635 [==============================] - 47s 18ms/step - loss: 0.3354 - categorical_accuracy: 0.8808 - f1_m: 0.8802 - precision_m: 0.8889 - recall_m: 0.8717 - val_loss: 0.9675 - val_categorical_accuracy: 0.6672 - val_f1_m: 0.6617 - val_precision_m: 0.6748 - val_recall_m: 0.6492\n",
            "Epoch 15/40\n",
            "2635/2635 [==============================] - 44s 17ms/step - loss: 0.3316 - categorical_accuracy: 0.8822 - f1_m: 0.8816 - precision_m: 0.8901 - recall_m: 0.8734 - val_loss: 0.9570 - val_categorical_accuracy: 0.6752 - val_f1_m: 0.6700 - val_precision_m: 0.6825 - val_recall_m: 0.6581\n",
            "Epoch 16/40\n",
            "2635/2635 [==============================] - 44s 17ms/step - loss: 0.3273 - categorical_accuracy: 0.8833 - f1_m: 0.8828 - precision_m: 0.8911 - recall_m: 0.8748 - val_loss: 0.9753 - val_categorical_accuracy: 0.6697 - val_f1_m: 0.6623 - val_precision_m: 0.6781 - val_recall_m: 0.6473\n",
            "Epoch 17/40\n",
            "2635/2635 [==============================] - 44s 17ms/step - loss: 0.3238 - categorical_accuracy: 0.8850 - f1_m: 0.8846 - precision_m: 0.8927 - recall_m: 0.8766 - val_loss: 0.9700 - val_categorical_accuracy: 0.6762 - val_f1_m: 0.6712 - val_precision_m: 0.6834 - val_recall_m: 0.6594\n",
            "Epoch 18/40\n",
            "2635/2635 [==============================] - 43s 16ms/step - loss: 0.3200 - categorical_accuracy: 0.8861 - f1_m: 0.8857 - precision_m: 0.8937 - recall_m: 0.8778 - val_loss: 0.9964 - val_categorical_accuracy: 0.6696 - val_f1_m: 0.6643 - val_precision_m: 0.6774 - val_recall_m: 0.6517\n",
            "Epoch 19/40\n",
            "2635/2635 [==============================] - 43s 16ms/step - loss: 0.3169 - categorical_accuracy: 0.8872 - f1_m: 0.8867 - precision_m: 0.8944 - recall_m: 0.8791 - val_loss: 0.9735 - val_categorical_accuracy: 0.6809 - val_f1_m: 0.6766 - val_precision_m: 0.6879 - val_recall_m: 0.6657\n",
            "Epoch 20/40\n",
            "2635/2635 [==============================] - 43s 16ms/step - loss: 0.3137 - categorical_accuracy: 0.8886 - f1_m: 0.8882 - precision_m: 0.8960 - recall_m: 0.8806 - val_loss: 0.9552 - val_categorical_accuracy: 0.6855 - val_f1_m: 0.6810 - val_precision_m: 0.6926 - val_recall_m: 0.6698\n",
            "Epoch 21/40\n",
            "2635/2635 [==============================] - 45s 17ms/step - loss: 0.3111 - categorical_accuracy: 0.8894 - f1_m: 0.8890 - precision_m: 0.8967 - recall_m: 0.8815 - val_loss: 0.9690 - val_categorical_accuracy: 0.6785 - val_f1_m: 0.6727 - val_precision_m: 0.6858 - val_recall_m: 0.6601\n",
            "Epoch 22/40\n",
            "2635/2635 [==============================] - 44s 17ms/step - loss: 0.3083 - categorical_accuracy: 0.8906 - f1_m: 0.8900 - precision_m: 0.8975 - recall_m: 0.8827 - val_loss: 0.9797 - val_categorical_accuracy: 0.6808 - val_f1_m: 0.6761 - val_precision_m: 0.6876 - val_recall_m: 0.6650\n",
            "Epoch 23/40\n",
            "2635/2635 [==============================] - 44s 17ms/step - loss: 0.3062 - categorical_accuracy: 0.8913 - f1_m: 0.8909 - precision_m: 0.8984 - recall_m: 0.8836 - val_loss: 0.9884 - val_categorical_accuracy: 0.6776 - val_f1_m: 0.6728 - val_precision_m: 0.6850 - val_recall_m: 0.6611\n",
            "Epoch 24/40\n",
            "2635/2635 [==============================] - 43s 16ms/step - loss: 0.3039 - categorical_accuracy: 0.8919 - f1_m: 0.8914 - precision_m: 0.8987 - recall_m: 0.8843 - val_loss: 0.9818 - val_categorical_accuracy: 0.6787 - val_f1_m: 0.6735 - val_precision_m: 0.6866 - val_recall_m: 0.6611\n",
            "Epoch 25/40\n",
            "2635/2635 [==============================] - 43s 16ms/step - loss: 0.3012 - categorical_accuracy: 0.8927 - f1_m: 0.8925 - precision_m: 0.8998 - recall_m: 0.8854 - val_loss: 0.9816 - val_categorical_accuracy: 0.6860 - val_f1_m: 0.6824 - val_precision_m: 0.6934 - val_recall_m: 0.6718\n",
            "Epoch 26/40\n",
            "2635/2635 [==============================] - 43s 16ms/step - loss: 0.2996 - categorical_accuracy: 0.8935 - f1_m: 0.8930 - precision_m: 0.9002 - recall_m: 0.8860 - val_loss: 0.9913 - val_categorical_accuracy: 0.6783 - val_f1_m: 0.6740 - val_precision_m: 0.6854 - val_recall_m: 0.6629\n",
            "Epoch 27/40\n",
            "2635/2635 [==============================] - 43s 16ms/step - loss: 0.2973 - categorical_accuracy: 0.8943 - f1_m: 0.8938 - precision_m: 0.9008 - recall_m: 0.8870 - val_loss: 0.9944 - val_categorical_accuracy: 0.6805 - val_f1_m: 0.6754 - val_precision_m: 0.6877 - val_recall_m: 0.6636\n",
            "Epoch 28/40\n",
            "2635/2635 [==============================] - 45s 17ms/step - loss: 0.2955 - categorical_accuracy: 0.8953 - f1_m: 0.8949 - precision_m: 0.9018 - recall_m: 0.8881 - val_loss: 0.9949 - val_categorical_accuracy: 0.6806 - val_f1_m: 0.6767 - val_precision_m: 0.6877 - val_recall_m: 0.6662\n",
            "Epoch 29/40\n",
            "2635/2635 [==============================] - 41s 16ms/step - loss: 0.2940 - categorical_accuracy: 0.8957 - f1_m: 0.8952 - precision_m: 0.9021 - recall_m: 0.8884 - val_loss: 0.9905 - val_categorical_accuracy: 0.6843 - val_f1_m: 0.6804 - val_precision_m: 0.6908 - val_recall_m: 0.6703\n",
            "Epoch 30/40\n",
            "2635/2635 [==============================] - 41s 15ms/step - loss: 0.2919 - categorical_accuracy: 0.8963 - f1_m: 0.8958 - precision_m: 0.9026 - recall_m: 0.8891 - val_loss: 1.0070 - val_categorical_accuracy: 0.6797 - val_f1_m: 0.6759 - val_precision_m: 0.6866 - val_recall_m: 0.6656\n",
            "Epoch 31/40\n",
            "2635/2635 [==============================] - 40s 15ms/step - loss: 0.2905 - categorical_accuracy: 0.8968 - f1_m: 0.8965 - precision_m: 0.9033 - recall_m: 0.8899 - val_loss: 1.0092 - val_categorical_accuracy: 0.6809 - val_f1_m: 0.6766 - val_precision_m: 0.6882 - val_recall_m: 0.6654\n",
            "Epoch 32/40\n",
            "2635/2635 [==============================] - 40s 15ms/step - loss: 0.2893 - categorical_accuracy: 0.8972 - f1_m: 0.8970 - precision_m: 0.9036 - recall_m: 0.8905 - val_loss: 1.0232 - val_categorical_accuracy: 0.6742 - val_f1_m: 0.6686 - val_precision_m: 0.6819 - val_recall_m: 0.6560\n",
            "Epoch 33/40\n",
            "2635/2635 [==============================] - 40s 15ms/step - loss: 0.2871 - categorical_accuracy: 0.8978 - f1_m: 0.8975 - precision_m: 0.9041 - recall_m: 0.8910 - val_loss: 1.0168 - val_categorical_accuracy: 0.6774 - val_f1_m: 0.6732 - val_precision_m: 0.6841 - val_recall_m: 0.6627\n",
            "Epoch 34/40\n",
            "2635/2635 [==============================] - 40s 15ms/step - loss: 0.2863 - categorical_accuracy: 0.8980 - f1_m: 0.8978 - precision_m: 0.9043 - recall_m: 0.8914 - val_loss: 1.0115 - val_categorical_accuracy: 0.6800 - val_f1_m: 0.6749 - val_precision_m: 0.6870 - val_recall_m: 0.6633\n",
            "Epoch 35/40\n",
            "2635/2635 [==============================] - 40s 15ms/step - loss: 0.2849 - categorical_accuracy: 0.8987 - f1_m: 0.8984 - precision_m: 0.9050 - recall_m: 0.8919 - val_loss: 1.0106 - val_categorical_accuracy: 0.6824 - val_f1_m: 0.6779 - val_precision_m: 0.6897 - val_recall_m: 0.6666\n",
            "Epoch 36/40\n",
            "2635/2635 [==============================] - 42s 16ms/step - loss: 0.2842 - categorical_accuracy: 0.8986 - f1_m: 0.8986 - precision_m: 0.9052 - recall_m: 0.8921 - val_loss: 1.0241 - val_categorical_accuracy: 0.6771 - val_f1_m: 0.6714 - val_precision_m: 0.6837 - val_recall_m: 0.6596\n",
            "Epoch 37/40\n",
            "2635/2635 [==============================] - 45s 17ms/step - loss: 0.2821 - categorical_accuracy: 0.8998 - f1_m: 0.8995 - precision_m: 0.9060 - recall_m: 0.8931 - val_loss: 1.0119 - val_categorical_accuracy: 0.6821 - val_f1_m: 0.6781 - val_precision_m: 0.6882 - val_recall_m: 0.6684\n",
            "Epoch 38/40\n",
            "2635/2635 [==============================] - 42s 16ms/step - loss: 0.2812 - categorical_accuracy: 0.9000 - f1_m: 0.8998 - precision_m: 0.9062 - recall_m: 0.8935 - val_loss: 1.0172 - val_categorical_accuracy: 0.6832 - val_f1_m: 0.6791 - val_precision_m: 0.6893 - val_recall_m: 0.6693\n",
            "Epoch 39/40\n",
            "2635/2635 [==============================] - 44s 17ms/step - loss: 0.2797 - categorical_accuracy: 0.9008 - f1_m: 0.9006 - precision_m: 0.9068 - recall_m: 0.8944 - val_loss: 1.0143 - val_categorical_accuracy: 0.6859 - val_f1_m: 0.6812 - val_precision_m: 0.6922 - val_recall_m: 0.6707\n",
            "Epoch 40/40\n",
            "2635/2635 [==============================] - 43s 16ms/step - loss: 0.2788 - categorical_accuracy: 0.9010 - f1_m: 0.9008 - precision_m: 0.9072 - recall_m: 0.8946 - val_loss: 1.0035 - val_categorical_accuracy: 0.6881 - val_f1_m: 0.6849 - val_precision_m: 0.6944 - val_recall_m: 0.6758\n"
          ],
          "name": "stdout"
        }
      ]
    },
    {
      "cell_type": "code",
      "metadata": {
        "id": "njb67TkgNAZn",
        "outputId": "7f4dcc92-c202-4d2e-9b10-6f823d00e95c",
        "colab": {
          "base_uri": "https://localhost:8080/"
        }
      },
      "source": [
        "# Training RNN model\n",
        "CNN_history = model_CNN1.fit(X_train, y_train, epochs = 40, validation_data= (X_test, y_test), callbacks=[checkpoint], batch_size=240)"
      ],
      "execution_count": null,
      "outputs": [
        {
          "output_type": "stream",
          "text": [
            "Epoch 1/40\n",
            "2635/2635 [==============================] - 55s 21ms/step - loss: 0.6474 - categorical_accuracy: 0.7681 - f1_m: 0.7591 - precision_m: 0.7977 - recall_m: 0.7249 - val_loss: 1.0764 - val_categorical_accuracy: 0.6070 - val_f1_m: 0.6025 - val_precision_m: 0.6234 - val_recall_m: 0.5830\n",
            "Epoch 2/40\n",
            "2635/2635 [==============================] - 55s 21ms/step - loss: 0.4859 - categorical_accuracy: 0.8318 - f1_m: 0.8296 - precision_m: 0.8486 - recall_m: 0.8115 - val_loss: 1.0185 - val_categorical_accuracy: 0.6311 - val_f1_m: 0.6258 - val_precision_m: 0.6435 - val_recall_m: 0.6092\n",
            "Epoch 3/40\n",
            "2635/2635 [==============================] - 57s 22ms/step - loss: 0.4350 - categorical_accuracy: 0.8499 - f1_m: 0.8485 - precision_m: 0.8627 - recall_m: 0.8348 - val_loss: 1.0167 - val_categorical_accuracy: 0.6418 - val_f1_m: 0.6382 - val_precision_m: 0.6521 - val_recall_m: 0.6249\n",
            "Epoch 4/40\n",
            "2635/2635 [==============================] - 55s 21ms/step - loss: 0.4069 - categorical_accuracy: 0.8596 - f1_m: 0.8586 - precision_m: 0.8703 - recall_m: 0.8472 - val_loss: 0.9600 - val_categorical_accuracy: 0.6633 - val_f1_m: 0.6591 - val_precision_m: 0.6713 - val_recall_m: 0.6474\n",
            "Epoch 5/40\n",
            "2635/2635 [==============================] - 57s 22ms/step - loss: 0.3876 - categorical_accuracy: 0.8661 - f1_m: 0.8654 - precision_m: 0.8753 - recall_m: 0.8557 - val_loss: 0.9765 - val_categorical_accuracy: 0.6624 - val_f1_m: 0.6588 - val_precision_m: 0.6707 - val_recall_m: 0.6474\n",
            "Epoch 6/40\n",
            "2635/2635 [==============================] - 55s 21ms/step - loss: 0.3734 - categorical_accuracy: 0.8713 - f1_m: 0.8708 - precision_m: 0.8794 - recall_m: 0.8623 - val_loss: 0.9474 - val_categorical_accuracy: 0.6745 - val_f1_m: 0.6709 - val_precision_m: 0.6815 - val_recall_m: 0.6607\n",
            "Epoch 7/40\n",
            "2635/2635 [==============================] - 56s 21ms/step - loss: 0.3612 - categorical_accuracy: 0.8758 - f1_m: 0.8752 - precision_m: 0.8828 - recall_m: 0.8678 - val_loss: 0.9425 - val_categorical_accuracy: 0.6756 - val_f1_m: 0.6720 - val_precision_m: 0.6826 - val_recall_m: 0.6617\n",
            "Epoch 8/40\n",
            "2635/2635 [==============================] - 56s 21ms/step - loss: 0.3510 - categorical_accuracy: 0.8793 - f1_m: 0.8788 - precision_m: 0.8859 - recall_m: 0.8719 - val_loss: 0.9358 - val_categorical_accuracy: 0.6855 - val_f1_m: 0.6822 - val_precision_m: 0.6926 - val_recall_m: 0.6721\n",
            "Epoch 9/40\n",
            "2635/2635 [==============================] - 57s 22ms/step - loss: 0.3426 - categorical_accuracy: 0.8821 - f1_m: 0.8816 - precision_m: 0.8881 - recall_m: 0.8752 - val_loss: 0.9313 - val_categorical_accuracy: 0.6887 - val_f1_m: 0.6854 - val_precision_m: 0.6950 - val_recall_m: 0.6762\n",
            "Epoch 10/40\n",
            "2635/2635 [==============================] - 56s 21ms/step - loss: 0.3357 - categorical_accuracy: 0.8840 - f1_m: 0.8836 - precision_m: 0.8898 - recall_m: 0.8775 - val_loss: 0.9273 - val_categorical_accuracy: 0.6896 - val_f1_m: 0.6866 - val_precision_m: 0.6950 - val_recall_m: 0.6784\n",
            "Epoch 11/40\n",
            "2635/2635 [==============================] - 56s 21ms/step - loss: 0.3293 - categorical_accuracy: 0.8864 - f1_m: 0.8860 - precision_m: 0.8918 - recall_m: 0.8804 - val_loss: 0.9362 - val_categorical_accuracy: 0.6907 - val_f1_m: 0.6882 - val_precision_m: 0.6964 - val_recall_m: 0.6802\n",
            "Epoch 12/40\n",
            "2635/2635 [==============================] - 55s 21ms/step - loss: 0.3229 - categorical_accuracy: 0.8887 - f1_m: 0.8883 - precision_m: 0.8938 - recall_m: 0.8829 - val_loss: 0.9009 - val_categorical_accuracy: 0.7014 - val_f1_m: 0.6989 - val_precision_m: 0.7071 - val_recall_m: 0.6908\n",
            "Epoch 13/40\n",
            "2635/2635 [==============================] - 55s 21ms/step - loss: 0.3181 - categorical_accuracy: 0.8906 - f1_m: 0.8902 - precision_m: 0.8955 - recall_m: 0.8850 - val_loss: 0.9144 - val_categorical_accuracy: 0.7021 - val_f1_m: 0.6991 - val_precision_m: 0.7077 - val_recall_m: 0.6908\n",
            "Epoch 14/40\n",
            "2635/2635 [==============================] - 57s 21ms/step - loss: 0.3134 - categorical_accuracy: 0.8920 - f1_m: 0.8916 - precision_m: 0.8967 - recall_m: 0.8866 - val_loss: 0.9040 - val_categorical_accuracy: 0.7051 - val_f1_m: 0.7025 - val_precision_m: 0.7102 - val_recall_m: 0.6950\n",
            "Epoch 15/40\n",
            "2635/2635 [==============================] - 56s 21ms/step - loss: 0.3098 - categorical_accuracy: 0.8931 - f1_m: 0.8927 - precision_m: 0.8977 - recall_m: 0.8878 - val_loss: 0.9075 - val_categorical_accuracy: 0.7051 - val_f1_m: 0.7034 - val_precision_m: 0.7107 - val_recall_m: 0.6962\n",
            "Epoch 16/40\n",
            "2635/2635 [==============================] - 56s 21ms/step - loss: 0.3054 - categorical_accuracy: 0.8945 - f1_m: 0.8942 - precision_m: 0.8990 - recall_m: 0.8895 - val_loss: 0.9167 - val_categorical_accuracy: 0.7020 - val_f1_m: 0.6990 - val_precision_m: 0.7067 - val_recall_m: 0.6914\n",
            "Epoch 17/40\n",
            "2635/2635 [==============================] - 55s 21ms/step - loss: 0.3011 - categorical_accuracy: 0.8961 - f1_m: 0.8958 - precision_m: 0.9006 - recall_m: 0.8911 - val_loss: 0.8934 - val_categorical_accuracy: 0.7116 - val_f1_m: 0.7095 - val_precision_m: 0.7164 - val_recall_m: 0.7027\n",
            "Epoch 18/40\n",
            "2635/2635 [==============================] - 55s 21ms/step - loss: 0.2980 - categorical_accuracy: 0.8967 - f1_m: 0.8965 - precision_m: 0.9011 - recall_m: 0.8919 - val_loss: 0.9108 - val_categorical_accuracy: 0.7071 - val_f1_m: 0.7039 - val_precision_m: 0.7127 - val_recall_m: 0.6954\n",
            "Epoch 19/40\n",
            "2635/2635 [==============================] - 55s 21ms/step - loss: 0.2950 - categorical_accuracy: 0.8981 - f1_m: 0.8977 - precision_m: 0.9022 - recall_m: 0.8933 - val_loss: 0.8932 - val_categorical_accuracy: 0.7148 - val_f1_m: 0.7128 - val_precision_m: 0.7188 - val_recall_m: 0.7069\n",
            "Epoch 20/40\n",
            "2635/2635 [==============================] - 56s 21ms/step - loss: 0.2925 - categorical_accuracy: 0.8987 - f1_m: 0.8984 - precision_m: 0.9029 - recall_m: 0.8940 - val_loss: 0.8929 - val_categorical_accuracy: 0.7141 - val_f1_m: 0.7115 - val_precision_m: 0.7190 - val_recall_m: 0.7041\n",
            "Epoch 21/40\n",
            "2635/2635 [==============================] - 55s 21ms/step - loss: 0.2902 - categorical_accuracy: 0.8996 - f1_m: 0.8994 - precision_m: 0.9038 - recall_m: 0.8950 - val_loss: 0.9030 - val_categorical_accuracy: 0.7131 - val_f1_m: 0.7106 - val_precision_m: 0.7175 - val_recall_m: 0.7038\n",
            "Epoch 22/40\n",
            "2635/2635 [==============================] - 56s 21ms/step - loss: 0.2870 - categorical_accuracy: 0.9006 - f1_m: 0.9004 - precision_m: 0.9045 - recall_m: 0.8962 - val_loss: 0.8755 - val_categorical_accuracy: 0.7213 - val_f1_m: 0.7190 - val_precision_m: 0.7258 - val_recall_m: 0.7123\n",
            "Epoch 23/40\n",
            "2635/2635 [==============================] - 55s 21ms/step - loss: 0.2838 - categorical_accuracy: 0.9016 - f1_m: 0.9013 - precision_m: 0.9055 - recall_m: 0.8972 - val_loss: 0.8706 - val_categorical_accuracy: 0.7218 - val_f1_m: 0.7200 - val_precision_m: 0.7262 - val_recall_m: 0.7139\n",
            "Epoch 24/40\n",
            "2635/2635 [==============================] - 55s 21ms/step - loss: 0.2829 - categorical_accuracy: 0.9021 - f1_m: 0.9018 - precision_m: 0.9059 - recall_m: 0.8978 - val_loss: 0.8923 - val_categorical_accuracy: 0.7150 - val_f1_m: 0.7133 - val_precision_m: 0.7197 - val_recall_m: 0.7071\n",
            "Epoch 25/40\n",
            "2635/2635 [==============================] - 55s 21ms/step - loss: 0.2796 - categorical_accuracy: 0.9028 - f1_m: 0.9025 - precision_m: 0.9066 - recall_m: 0.8986 - val_loss: 0.8998 - val_categorical_accuracy: 0.7151 - val_f1_m: 0.7134 - val_precision_m: 0.7201 - val_recall_m: 0.7067\n",
            "Epoch 26/40\n",
            "2635/2635 [==============================] - 57s 21ms/step - loss: 0.2772 - categorical_accuracy: 0.9039 - f1_m: 0.9036 - precision_m: 0.9077 - recall_m: 0.8996 - val_loss: 0.8872 - val_categorical_accuracy: 0.7204 - val_f1_m: 0.7184 - val_precision_m: 0.7250 - val_recall_m: 0.7119\n",
            "Epoch 27/40\n",
            "2635/2635 [==============================] - 56s 21ms/step - loss: 0.2762 - categorical_accuracy: 0.9044 - f1_m: 0.9042 - precision_m: 0.9082 - recall_m: 0.9004 - val_loss: 0.8985 - val_categorical_accuracy: 0.7193 - val_f1_m: 0.7167 - val_precision_m: 0.7236 - val_recall_m: 0.7100\n",
            "Epoch 28/40\n",
            "2635/2635 [==============================] - 55s 21ms/step - loss: 0.2741 - categorical_accuracy: 0.9048 - f1_m: 0.9047 - precision_m: 0.9085 - recall_m: 0.9009 - val_loss: 0.8851 - val_categorical_accuracy: 0.7222 - val_f1_m: 0.7204 - val_precision_m: 0.7259 - val_recall_m: 0.7149\n",
            "Epoch 29/40\n",
            "2635/2635 [==============================] - 55s 21ms/step - loss: 0.2727 - categorical_accuracy: 0.9049 - f1_m: 0.9047 - precision_m: 0.9087 - recall_m: 0.9007 - val_loss: 0.8994 - val_categorical_accuracy: 0.7196 - val_f1_m: 0.7180 - val_precision_m: 0.7233 - val_recall_m: 0.7127\n",
            "Epoch 30/40\n",
            "2635/2635 [==============================] - 56s 21ms/step - loss: 0.2704 - categorical_accuracy: 0.9059 - f1_m: 0.9058 - precision_m: 0.9097 - recall_m: 0.9019 - val_loss: 0.9064 - val_categorical_accuracy: 0.7176 - val_f1_m: 0.7153 - val_precision_m: 0.7224 - val_recall_m: 0.7084\n",
            "Epoch 31/40\n",
            "2635/2635 [==============================] - 57s 22ms/step - loss: 0.2697 - categorical_accuracy: 0.9062 - f1_m: 0.9060 - precision_m: 0.9098 - recall_m: 0.9022 - val_loss: 0.8859 - val_categorical_accuracy: 0.7220 - val_f1_m: 0.7198 - val_precision_m: 0.7260 - val_recall_m: 0.7136\n",
            "Epoch 32/40\n",
            "2635/2635 [==============================] - 58s 22ms/step - loss: 0.2673 - categorical_accuracy: 0.9071 - f1_m: 0.9069 - precision_m: 0.9106 - recall_m: 0.9032 - val_loss: 0.9011 - val_categorical_accuracy: 0.7205 - val_f1_m: 0.7188 - val_precision_m: 0.7249 - val_recall_m: 0.7129\n",
            "Epoch 33/40\n",
            "2635/2635 [==============================] - 57s 22ms/step - loss: 0.2659 - categorical_accuracy: 0.9072 - f1_m: 0.9071 - precision_m: 0.9109 - recall_m: 0.9033 - val_loss: 0.8844 - val_categorical_accuracy: 0.7236 - val_f1_m: 0.7217 - val_precision_m: 0.7275 - val_recall_m: 0.7160\n",
            "Epoch 34/40\n",
            "2635/2635 [==============================] - 56s 21ms/step - loss: 0.2643 - categorical_accuracy: 0.9080 - f1_m: 0.9079 - precision_m: 0.9116 - recall_m: 0.9042 - val_loss: 0.8882 - val_categorical_accuracy: 0.7245 - val_f1_m: 0.7231 - val_precision_m: 0.7284 - val_recall_m: 0.7180\n",
            "Epoch 35/40\n",
            "2635/2635 [==============================] - 56s 21ms/step - loss: 0.2630 - categorical_accuracy: 0.9085 - f1_m: 0.9083 - precision_m: 0.9119 - recall_m: 0.9046 - val_loss: 0.9014 - val_categorical_accuracy: 0.7216 - val_f1_m: 0.7189 - val_precision_m: 0.7257 - val_recall_m: 0.7122\n",
            "Epoch 36/40\n",
            "2635/2635 [==============================] - 56s 21ms/step - loss: 0.2617 - categorical_accuracy: 0.9085 - f1_m: 0.9084 - precision_m: 0.9123 - recall_m: 0.9047 - val_loss: 0.8884 - val_categorical_accuracy: 0.7257 - val_f1_m: 0.7243 - val_precision_m: 0.7302 - val_recall_m: 0.7184\n",
            "Epoch 37/40\n",
            "2635/2635 [==============================] - 58s 22ms/step - loss: 0.2606 - categorical_accuracy: 0.9087 - f1_m: 0.9086 - precision_m: 0.9125 - recall_m: 0.9048 - val_loss: 0.8930 - val_categorical_accuracy: 0.7268 - val_f1_m: 0.7248 - val_precision_m: 0.7307 - val_recall_m: 0.7190\n",
            "Epoch 38/40\n",
            "2635/2635 [==============================] - 57s 22ms/step - loss: 0.2593 - categorical_accuracy: 0.9095 - f1_m: 0.9093 - precision_m: 0.9131 - recall_m: 0.9056 - val_loss: 0.8866 - val_categorical_accuracy: 0.7291 - val_f1_m: 0.7262 - val_precision_m: 0.7337 - val_recall_m: 0.7188\n",
            "Epoch 39/40\n",
            "2635/2635 [==============================] - 56s 21ms/step - loss: 0.2569 - categorical_accuracy: 0.9102 - f1_m: 0.9101 - precision_m: 0.9140 - recall_m: 0.9063 - val_loss: 0.9093 - val_categorical_accuracy: 0.7215 - val_f1_m: 0.7194 - val_precision_m: 0.7260 - val_recall_m: 0.7129\n",
            "Epoch 40/40\n",
            "2635/2635 [==============================] - 57s 22ms/step - loss: 0.2559 - categorical_accuracy: 0.9105 - f1_m: 0.9104 - precision_m: 0.9141 - recall_m: 0.9066 - val_loss: 0.8973 - val_categorical_accuracy: 0.7267 - val_f1_m: 0.7252 - val_precision_m: 0.7307 - val_recall_m: 0.7197\n"
          ],
          "name": "stdout"
        }
      ]
    },
    {
      "cell_type": "code",
      "metadata": {
        "id": "-LIuuIcCMbr4",
        "outputId": "1036b2c5-5f72-485a-b4e3-f6976569c8c2",
        "colab": {
          "base_uri": "https://localhost:8080/"
        }
      },
      "source": [
        "model_CNN.output_shape"
      ],
      "execution_count": null,
      "outputs": [
        {
          "output_type": "execute_result",
          "data": {
            "text/plain": [
              "(None, 1, 4)"
            ]
          },
          "metadata": {
            "tags": []
          },
          "execution_count": 379
        }
      ]
    },
    {
      "cell_type": "code",
      "metadata": {
        "id": "K09Bsx1bMCwo"
      },
      "source": [
        "X_k, y_k = oversample.fit_resample(X_n_scaled, y)"
      ],
      "execution_count": null,
      "outputs": []
    },
    {
      "cell_type": "code",
      "metadata": {
        "id": "l6ycvHpIMUW6"
      },
      "source": [
        "y_k = to_categorical(y_k).reshape(-1,1,4)"
      ],
      "execution_count": null,
      "outputs": []
    },
    {
      "cell_type": "code",
      "metadata": {
        "id": "gL75P1DHLYAP"
      },
      "source": [
        "from sklearn.model_selection import KFold\n",
        "from sklearn.model_selection import cross_val_score\n",
        "cv = KFold(n_splits=10, random_state=1, shuffle=True)"
      ],
      "execution_count": null,
      "outputs": []
    },
    {
      "cell_type": "code",
      "metadata": {
        "id": "W-gAniYzHjhy"
      },
      "source": [
        "# Training RNN model\n",
        "CNN1extra_history = model_CNN1.fit(X_train, y_train, epochs = 20, validation_data= (X_test, y_test), callbacks=[checkpoint])"
      ],
      "execution_count": null,
      "outputs": []
    },
    {
      "cell_type": "code",
      "metadata": {
        "id": "0AO3Ltwhtjly"
      },
      "source": [
        "from keras.models import load_model\n",
        "model = load_model('RNN_model.h5')"
      ],
      "execution_count": null,
      "outputs": []
    },
    {
      "cell_type": "code",
      "metadata": {
        "id": "5FWS77ytpRDq"
      },
      "source": [
        ""
      ],
      "execution_count": null,
      "outputs": []
    },
    {
      "cell_type": "code",
      "metadata": {
        "id": "rOxxTEorgtfe"
      },
      "source": [
        "def split_test_sequences(sequences, n_steps):\n",
        "  X = list()\n",
        "  end_flag = True \n",
        "  for i in range(0,len(sequences),4):\n",
        "    # find the end of this pattern\n",
        "    end_ix = i + n_steps\n",
        "    # check if we are beyond the dataset\n",
        "    if end_ix > len(sequences):\n",
        "      end_flag = False\n",
        "      seq_x = sequences[-4:, :]\n",
        "      X.append(seq_x)\n",
        "      break\n",
        "    # gather input and output parts of the pattern\n",
        "    if (end_flag):\n",
        "      seq_x = sequences[i:end_ix, :]\n",
        "      X.append(seq_x)\n",
        "  return array(X)"
      ],
      "execution_count": 94,
      "outputs": []
    },
    {
      "cell_type": "code",
      "metadata": {
        "id": "pEVgu9wIB9_q",
        "outputId": "10d81789-0cf3-412c-b7aa-7a587eb6a262",
        "colab": {
          "base_uri": "https://localhost:8080/"
        }
      },
      "source": [
        "model_CNN.input_shape"
      ],
      "execution_count": null,
      "outputs": [
        {
          "output_type": "execute_result",
          "data": {
            "text/plain": [
              "(None, 1, 24)"
            ]
          },
          "metadata": {
            "tags": []
          },
          "execution_count": 368
        }
      ]
    },
    {
      "cell_type": "code",
      "metadata": {
        "id": "D8kd-3NmNoHG"
      },
      "source": [
        "test_filenames = [i for i in glob.glob('/content/drive/My Drive/TestData/*.{}'.format('csv'))]\n",
        "df_x, df_x_time, df_y_time = [], [], []\n",
        "for f in test_filenames:\n",
        "  if '012' in f:\n",
        "    if f.endswith('x.csv'):\n",
        "      df = pd.read_csv(f, header=None)\n",
        "      df['subject'] = f.split('/')[-1].split('_')[1]\n",
        "      df['subject_ID'] = f.split('/')[-1].split('_')[2]\n",
        "      df_x.append(df)\n",
        "    if f.endswith('x_time.csv'):\n",
        "      df = pd.read_csv(f, header=None)\n",
        "      df_x_time.append(df)\n",
        "    if f.endswith('y_time.csv'):\n",
        "      df = pd.read_csv(f, header=None)\n",
        "      df['subject'] = f.split('/')[-1].split('_')[1]\n",
        "      df['subject_ID'] = f.split('/')[-1].split('_')[2]\n",
        "      df_y_time.append(df)\n",
        "    \n",
        "test_x = pd.concat(df_x, ignore_index=True)\n",
        "test_x.columns = ['x1', 'x2', 'x3', 'x4', 'x5', 'x6', 'subject', 'subject_ID']\n",
        "test_x_time = pd.concat(df_x_time, ignore_index=True)\n",
        "test_x_time.columns = ['x_time']\n",
        "test_y_time = pd.concat(df_y_time, ignore_index=True)\n",
        "test_y_time.columns = ['time', 'subject', 'subject_ID']\n",
        "test_x['time'] = test_x_time['x_time']\n",
        "test_y_time['time'] = [round(x + 0.005,3) for x in test_y_time['time']]\n",
        "final_test = pd.merge(test_x, test_y_time, on=['time', 'subject', 'subject_ID'], how='left')\n",
        "in_seq1 = final_test['x1'].to_numpy().reshape((len(final_test['x1']), 1))\n",
        "in_seq2 = final_test['x2'].to_numpy().reshape((len(final_test['x2']), 1))\n",
        "in_seq3 = final_test['x3'].to_numpy().reshape((len(final_test['x3']), 1))\n",
        "in_seq4 = final_test['x4'].to_numpy().reshape((len(final_test['x4']), 1))\n",
        "in_seq5 = final_test['x5'].to_numpy().reshape((len(final_test['x5']), 1))\n",
        "in_seq6 = final_test['x6'].to_numpy().reshape((len(final_test['x6']), 1))\n",
        "dataset = np.hstack((in_seq1, in_seq2, in_seq3, in_seq4, in_seq5, in_seq6))\n",
        "test_x = split_test_sequences(dataset, 4)\n",
        "test_x = test_x[:len(test_y_time),:]\n",
        "scaler = StandardScaler()\n",
        "test_x = scaler.fit_transform(test_x.reshape(-1,24))\n",
        "test = test_x.reshape(-1,1,24)\n",
        "y_pred = model_CNN.predict(test)\n",
        "y_pred = np.argmax(y_pred.reshape(-1,4), axis=1)\n",
        "np.savetxt(\"subject_012_01__y_prediction.csv\", y_pred, delimiter=\",\")"
      ],
      "execution_count": 95,
      "outputs": []
    },
    {
      "cell_type": "code",
      "metadata": {
        "id": "YLou-tvhujZj",
        "outputId": "6b6c2c58-5eef-4319-9d6e-fdfba5569050",
        "colab": {
          "base_uri": "https://localhost:8080/",
          "height": 204
        }
      },
      "source": [
        "test_y_time.head()"
      ],
      "execution_count": 100,
      "outputs": [
        {
          "output_type": "execute_result",
          "data": {
            "text/html": [
              "<div>\n",
              "<style scoped>\n",
              "    .dataframe tbody tr th:only-of-type {\n",
              "        vertical-align: middle;\n",
              "    }\n",
              "\n",
              "    .dataframe tbody tr th {\n",
              "        vertical-align: top;\n",
              "    }\n",
              "\n",
              "    .dataframe thead th {\n",
              "        text-align: right;\n",
              "    }\n",
              "</style>\n",
              "<table border=\"1\" class=\"dataframe\">\n",
              "  <thead>\n",
              "    <tr style=\"text-align: right;\">\n",
              "      <th></th>\n",
              "      <th>time</th>\n",
              "      <th>subject</th>\n",
              "      <th>subject_ID</th>\n",
              "    </tr>\n",
              "  </thead>\n",
              "  <tbody>\n",
              "    <tr>\n",
              "      <th>0</th>\n",
              "      <td>0.025</td>\n",
              "      <td>012</td>\n",
              "      <td>01</td>\n",
              "    </tr>\n",
              "    <tr>\n",
              "      <th>1</th>\n",
              "      <td>0.125</td>\n",
              "      <td>012</td>\n",
              "      <td>01</td>\n",
              "    </tr>\n",
              "    <tr>\n",
              "      <th>2</th>\n",
              "      <td>0.225</td>\n",
              "      <td>012</td>\n",
              "      <td>01</td>\n",
              "    </tr>\n",
              "    <tr>\n",
              "      <th>3</th>\n",
              "      <td>0.325</td>\n",
              "      <td>012</td>\n",
              "      <td>01</td>\n",
              "    </tr>\n",
              "    <tr>\n",
              "      <th>4</th>\n",
              "      <td>0.425</td>\n",
              "      <td>012</td>\n",
              "      <td>01</td>\n",
              "    </tr>\n",
              "  </tbody>\n",
              "</table>\n",
              "</div>"
            ],
            "text/plain": [
              "    time subject subject_ID\n",
              "0  0.025     012         01\n",
              "1  0.125     012         01\n",
              "2  0.225     012         01\n",
              "3  0.325     012         01\n",
              "4  0.425     012         01"
            ]
          },
          "metadata": {
            "tags": []
          },
          "execution_count": 100
        }
      ]
    },
    {
      "cell_type": "code",
      "metadata": {
        "id": "Uf5FZRbP4K_i",
        "outputId": "abc55e16-ea40-4ed9-ecb0-df54eae2d753",
        "colab": {
          "base_uri": "https://localhost:8080/",
          "height": 204
        }
      },
      "source": [
        "final_test.head()"
      ],
      "execution_count": 101,
      "outputs": [
        {
          "output_type": "execute_result",
          "data": {
            "text/html": [
              "<div>\n",
              "<style scoped>\n",
              "    .dataframe tbody tr th:only-of-type {\n",
              "        vertical-align: middle;\n",
              "    }\n",
              "\n",
              "    .dataframe tbody tr th {\n",
              "        vertical-align: top;\n",
              "    }\n",
              "\n",
              "    .dataframe thead th {\n",
              "        text-align: right;\n",
              "    }\n",
              "</style>\n",
              "<table border=\"1\" class=\"dataframe\">\n",
              "  <thead>\n",
              "    <tr style=\"text-align: right;\">\n",
              "      <th></th>\n",
              "      <th>x1</th>\n",
              "      <th>x2</th>\n",
              "      <th>x3</th>\n",
              "      <th>x4</th>\n",
              "      <th>x5</th>\n",
              "      <th>x6</th>\n",
              "      <th>subject</th>\n",
              "      <th>subject_ID</th>\n",
              "      <th>time</th>\n",
              "    </tr>\n",
              "  </thead>\n",
              "  <tbody>\n",
              "    <tr>\n",
              "      <th>0</th>\n",
              "      <td>-0.226662</td>\n",
              "      <td>9.070000</td>\n",
              "      <td>3.480012</td>\n",
              "      <td>0.002707</td>\n",
              "      <td>-0.008122</td>\n",
              "      <td>-0.005212</td>\n",
              "      <td>012</td>\n",
              "      <td>01</td>\n",
              "      <td>0.000</td>\n",
              "    </tr>\n",
              "    <tr>\n",
              "      <th>1</th>\n",
              "      <td>-0.251041</td>\n",
              "      <td>9.060000</td>\n",
              "      <td>3.498959</td>\n",
              "      <td>0.002710</td>\n",
              "      <td>-0.000135</td>\n",
              "      <td>-0.002046</td>\n",
              "      <td>012</td>\n",
              "      <td>01</td>\n",
              "      <td>0.025</td>\n",
              "    </tr>\n",
              "    <tr>\n",
              "      <th>2</th>\n",
              "      <td>-0.224829</td>\n",
              "      <td>9.055514</td>\n",
              "      <td>3.489657</td>\n",
              "      <td>0.004959</td>\n",
              "      <td>0.002819</td>\n",
              "      <td>-0.002819</td>\n",
              "      <td>012</td>\n",
              "      <td>01</td>\n",
              "      <td>0.050</td>\n",
              "    </tr>\n",
              "    <tr>\n",
              "      <th>3</th>\n",
              "      <td>-0.169111</td>\n",
              "      <td>9.090889</td>\n",
              "      <td>3.491777</td>\n",
              "      <td>0.003085</td>\n",
              "      <td>-0.001072</td>\n",
              "      <td>-0.001399</td>\n",
              "      <td>012</td>\n",
              "      <td>01</td>\n",
              "      <td>0.075</td>\n",
              "    </tr>\n",
              "    <tr>\n",
              "      <th>4</th>\n",
              "      <td>-0.230224</td>\n",
              "      <td>9.070000</td>\n",
              "      <td>3.470448</td>\n",
              "      <td>0.003333</td>\n",
              "      <td>-0.004154</td>\n",
              "      <td>-0.003624</td>\n",
              "      <td>012</td>\n",
              "      <td>01</td>\n",
              "      <td>0.100</td>\n",
              "    </tr>\n",
              "  </tbody>\n",
              "</table>\n",
              "</div>"
            ],
            "text/plain": [
              "         x1        x2        x3        x4  ...        x6  subject subject_ID   time\n",
              "0 -0.226662  9.070000  3.480012  0.002707  ... -0.005212      012         01  0.000\n",
              "1 -0.251041  9.060000  3.498959  0.002710  ... -0.002046      012         01  0.025\n",
              "2 -0.224829  9.055514  3.489657  0.004959  ... -0.002819      012         01  0.050\n",
              "3 -0.169111  9.090889  3.491777  0.003085  ... -0.001399      012         01  0.075\n",
              "4 -0.230224  9.070000  3.470448  0.003333  ... -0.003624      012         01  0.100\n",
              "\n",
              "[5 rows x 9 columns]"
            ]
          },
          "metadata": {
            "tags": []
          },
          "execution_count": 101
        }
      ]
    },
    {
      "cell_type": "code",
      "metadata": {
        "id": "RVGF22TupYEO"
      },
      "source": [
        "in_seq1 = final_test['x1'].to_numpy().reshape((len(final_test['x1']), 1))\n",
        "in_seq2 = final_test['x2'].to_numpy().reshape((len(final_test['x2']), 1))\n",
        "in_seq3 = final_test['x3'].to_numpy().reshape((len(final_test['x3']), 1))\n",
        "in_seq4 = final_test['x4'].to_numpy().reshape((len(final_test['x4']), 1))\n",
        "in_seq5 = final_test['x5'].to_numpy().reshape((len(final_test['x5']), 1))\n",
        "in_seq6 = final_test['x6'].to_numpy().reshape((len(final_test['x6']), 1))"
      ],
      "execution_count": null,
      "outputs": []
    },
    {
      "cell_type": "code",
      "metadata": {
        "id": "VFodwjeKpyLs"
      },
      "source": [
        "dataset = np.hstack((in_seq1, in_seq2, in_seq3, in_seq4, in_seq5, in_seq6))"
      ],
      "execution_count": null,
      "outputs": []
    },
    {
      "cell_type": "code",
      "metadata": {
        "id": "r-1wN-IRhHAy"
      },
      "source": [
        "test_x = split_test_sequences(dataset, 4)"
      ],
      "execution_count": null,
      "outputs": []
    },
    {
      "cell_type": "code",
      "metadata": {
        "id": "CEwoU1pRwSDP"
      },
      "source": [
        "test_x = test_x[:len(test_y_time),:]"
      ],
      "execution_count": null,
      "outputs": []
    },
    {
      "cell_type": "code",
      "metadata": {
        "id": "S8xEtOUnxBiN",
        "outputId": "740babe5-141d-493b-de8d-c057915d2a8d",
        "colab": {
          "base_uri": "https://localhost:8080/"
        }
      },
      "source": [
        "test_x.shape"
      ],
      "execution_count": null,
      "outputs": [
        {
          "output_type": "execute_result",
          "data": {
            "text/plain": [
              "(11330, 4, 6)"
            ]
          },
          "metadata": {
            "tags": []
          },
          "execution_count": 347
        }
      ]
    },
    {
      "cell_type": "code",
      "metadata": {
        "id": "dETJSsYo1Bdl"
      },
      "source": [
        "scaler = StandardScaler()\n",
        "test_x = scaler.fit_transform(test_x.reshape(-1,24))"
      ],
      "execution_count": null,
      "outputs": []
    },
    {
      "cell_type": "code",
      "metadata": {
        "id": "bdxzGMGBf8nj"
      },
      "source": [
        "test = test_x.reshape(-1,1,24)\n",
        "y_pred = model_CNN1.predict(test)\n",
        "y_pred = np.argmax(y_pred.reshape(-1,4), axis=1)\n",
        "np.savetxt(\"subject_011_01__y_prediction.csv\", y_pred, delimiter=\",\")"
      ],
      "execution_count": null,
      "outputs": []
    },
    {
      "cell_type": "code",
      "metadata": {
        "id": "e25jN51phyyZ"
      },
      "source": [
        "y_p = y_pred.reshape(-1,4)"
      ],
      "execution_count": null,
      "outputs": []
    },
    {
      "cell_type": "code",
      "metadata": {
        "id": "uQDOgvi6t2I3"
      },
      "source": [
        "np.argmax(y_p, axis=1).shape"
      ],
      "execution_count": null,
      "outputs": []
    },
    {
      "cell_type": "code",
      "metadata": {
        "id": "F7sfXlmqw6ta"
      },
      "source": [
        "test_x.head()"
      ],
      "execution_count": null,
      "outputs": []
    },
    {
      "cell_type": "code",
      "metadata": {
        "id": "ewMIrDsCt5cF"
      },
      "source": [
        "test_y_time.head()"
      ],
      "execution_count": null,
      "outputs": []
    },
    {
      "cell_type": "code",
      "metadata": {
        "id": "3DKjpRort8a6"
      },
      "source": [
        "test_y_time['time'] = [x + 0.005 for x in test_y_time['time']]"
      ],
      "execution_count": null,
      "outputs": []
    },
    {
      "cell_type": "code",
      "metadata": {
        "id": "sSlK9TESuhYG"
      },
      "source": [
        "test_x.head()"
      ],
      "execution_count": null,
      "outputs": []
    },
    {
      "cell_type": "code",
      "metadata": {
        "id": "FOthRdWuxj3j"
      },
      "source": [
        "test_y_time.head()"
      ],
      "execution_count": null,
      "outputs": []
    },
    {
      "cell_type": "code",
      "metadata": {
        "id": "6pREyje8uvFB"
      },
      "source": [
        "final_test.fillna(method='ffill', inplace=True)"
      ],
      "execution_count": null,
      "outputs": []
    },
    {
      "cell_type": "code",
      "metadata": {
        "id": "cTairtvh0zSo"
      },
      "source": [
        "final_test.shape"
      ],
      "execution_count": null,
      "outputs": []
    },
    {
      "cell_type": "code",
      "metadata": {
        "id": "Ktb40ZSNlP7B"
      },
      "source": [
        "import matplotlib.pyplot as plt\n",
        "\n",
        "def plot_history(history):\n",
        "\t  # plot loss\n",
        "    plt.title('Loss')\n",
        "    plt.plot(history.history['loss'], color='blue', label='train')\n",
        "    plt.plot(history.history['val_loss'], color='red', label='test')\n",
        "    plt.ylabel('Loss')\n",
        "    plt.xlabel('Epoch')\n",
        "    plt.legend(['Train', 'Validation'])\n",
        "    plt.show()\n",
        "    \n",
        "    # plot accuracy\n",
        "    plt.title('Accuracy')\n",
        "    plt.plot(history.history['categorical_accuracy'], color='blue', label='train')\n",
        "    plt.plot(history.history['val_categorical_accuracy'], color='red', label='test')\n",
        "    plt.ylabel('Accuracy')\n",
        "    plt.xlabel('Epoch')\n",
        "    plt.legend(['Train', 'Validation'])\n",
        "    plt.show()"
      ],
      "execution_count": null,
      "outputs": []
    },
    {
      "cell_type": "code",
      "metadata": {
        "id": "epqPE4byfxB6",
        "outputId": "f26bd81d-85ac-40ac-a00e-8e8e47141123",
        "colab": {
          "base_uri": "https://localhost:8080/",
          "height": 573
        }
      },
      "source": [
        "plot_history(CNN_Swish_history)"
      ],
      "execution_count": null,
      "outputs": [
        {
          "output_type": "display_data",
          "data": {
            "image/png": "[encoded data removed]",
            "text/plain": [
              "<Figure size 432x288 with 1 Axes>"
            ]
          },
          "metadata": {
            "tags": [],
            "needs_background": "light"
          }
        },
        {
          "output_type": "display_data",
          "data": {
            "image/png": "[encoded data removed]",
            "text/plain": [
              "<Figure size 432x288 with 1 Axes>"
            ]
          },
          "metadata": {
            "tags": [],
            "needs_background": "light"
          }
        }
      ]
    },
    {
      "cell_type": "code",
      "metadata": {
        "id": "29w2NxAfp-vV"
      },
      "source": [
        "plt.plot(RNN_history.history['f1_m'], color='blue', label='train')\n",
        "plt.plot(RNN_history.history['val_f1_m'], color='red', label='test')\n",
        "plt.ylabel('F1 Scores')\n",
        "plt.xlabel('Epoch')\n",
        "plt.legend(['Train', 'Validation'])"
      ],
      "execution_count": null,
      "outputs": []
    },
    {
      "cell_type": "code",
      "metadata": {
        "id": "ipYyBrJ5-UKT"
      },
      "source": [
        "from sklearn.metrics import classification_report\n",
        "y_p = model.predict(X_test)\n",
        "y_p = np.argmax(y_p.reshape(-1,4), axis=1)\n",
        "y_test = np.argmax(y_test.reshape(-1,4), axis=1)\n",
        "print(classification_report(y_test, y_p))"
      ],
      "execution_count": null,
      "outputs": []
    },
    {
      "cell_type": "code",
      "metadata": {
        "id": "vMDZz-zF1X0Y"
      },
      "source": [
        "unique, counts = np.unique(y_pred, return_counts=True)"
      ],
      "execution_count": null,
      "outputs": []
    },
    {
      "cell_type": "code",
      "metadata": {
        "id": "41gl6lg01jxl"
      },
      "source": [
        "print(unique)\n",
        "print(counts)"
      ],
      "execution_count": null,
      "outputs": []
    },
    {
      "cell_type": "code",
      "metadata": {
        "id": "kjeUk8wF1_XA"
      },
      "source": [
        "y_pred.to_csv('subject_012_01__y_prediction.csv', header=None)"
      ],
      "execution_count": null,
      "outputs": []
    },
    {
      "cell_type": "code",
      "metadata": {
        "id": "9Sl_jLtpAn9u"
      },
      "source": [
        "!mkdir -p saved_model\n",
        "model.save('saved_model/final_model')\n"
      ],
      "execution_count": null,
      "outputs": []
    },
    {
      "cell_type": "code",
      "metadata": {
        "id": "l1BqAhKD2y4a"
      },
      "source": [
        "!ls saved_model"
      ],
      "execution_count": null,
      "outputs": []
    },
    {
      "cell_type": "code",
      "metadata": {
        "id": "yvduDrHYBbzy"
      },
      "source": [
        "model = tf.keras.models.load_model('saved_model/CNN_model')\n",
        "\n",
        "# Check its architecture\n",
        "model.summary()"
      ],
      "execution_count": null,
      "outputs": []
    },
    {
      "cell_type": "code",
      "metadata": {
        "id": "81kArAC1-H-q"
      },
      "source": [
        "y_pred = model.predict(X_test)"
      ],
      "execution_count": null,
      "outputs": []
    },
    {
      "cell_type": "code",
      "metadata": {
        "id": "lsdxF-IE-0h-"
      },
      "source": [
        "y_pred = (y_pred > 0.5) "
      ],
      "execution_count": null,
      "outputs": []
    },
    {
      "cell_type": "code",
      "metadata": {
        "id": "z8JHPQBh-6Hk"
      },
      "source": [
        "y_pred[1]"
      ],
      "execution_count": null,
      "outputs": []
    }
  ]
}