{
  "nbformat": 4,
  "nbformat_minor": 0,
  "metadata": {
    "colab": {
      "name": "Terrain_Identification.ipynb",
      "provenance": [],
      "collapsed_sections": []
    },
    "kernelspec": {
      "name": "python3",
      "display_name": "Python 3"
    }
  },
  "cells": [
    {
      "cell_type": "code",
      "metadata": {
        "id": "D5SToBaWyNH2",
        "outputId": "010e3d55-df00-490c-9fcf-0e1d5f9ac589",
        "colab": {
          "base_uri": "https://localhost:8080/"
        }
      },
      "source": [
        "pip install -U imbalanced-learn"
      ],
      "execution_count": 1,
      "outputs": [
        {
          "output_type": "stream",
          "text": [
            "Collecting imbalanced-learn\n",
            "\u001b[?25l  Downloading https://files.pythonhosted.org/packages/c8/81/8db4d87b03b998fda7c6f835d807c9ae4e3b141f978597b8d7f31600be15/imbalanced_learn-0.7.0-py3-none-any.whl (167kB)\n",
            "\u001b[K     |████████████████████████████████| 174kB 2.8MB/s \n",
            "\u001b[?25hCollecting scikit-learn>=0.23\n",
            "\u001b[?25l  Downloading https://files.pythonhosted.org/packages/5c/a1/273def87037a7fb010512bbc5901c31cfddfca8080bc63b42b26e3cc55b3/scikit_learn-0.23.2-cp36-cp36m-manylinux1_x86_64.whl (6.8MB)\n",
            "\u001b[K     |████████████████████████████████| 6.8MB 8.4MB/s \n",
            "\u001b[?25hRequirement already satisfied, skipping upgrade: numpy>=1.13.3 in /usr/local/lib/python3.6/dist-packages (from imbalanced-learn) (1.18.5)\n",
            "Requirement already satisfied, skipping upgrade: scipy>=0.19.1 in /usr/local/lib/python3.6/dist-packages (from imbalanced-learn) (1.4.1)\n",
            "Requirement already satisfied, skipping upgrade: joblib>=0.11 in /usr/local/lib/python3.6/dist-packages (from imbalanced-learn) (0.17.0)\n",
            "Collecting threadpoolctl>=2.0.0\n",
            "  Downloading https://files.pythonhosted.org/packages/f7/12/ec3f2e203afa394a149911729357aa48affc59c20e2c1c8297a60f33f133/threadpoolctl-2.1.0-py3-none-any.whl\n",
            "Installing collected packages: threadpoolctl, scikit-learn, imbalanced-learn\n",
            "  Found existing installation: scikit-learn 0.22.2.post1\n",
            "    Uninstalling scikit-learn-0.22.2.post1:\n",
            "      Successfully uninstalled scikit-learn-0.22.2.post1\n",
            "  Found existing installation: imbalanced-learn 0.4.3\n",
            "    Uninstalling imbalanced-learn-0.4.3:\n",
            "      Successfully uninstalled imbalanced-learn-0.4.3\n",
            "Successfully installed imbalanced-learn-0.7.0 scikit-learn-0.23.2 threadpoolctl-2.1.0\n"
          ],
          "name": "stdout"
        }
      ]
    },
    {
      "cell_type": "code",
      "metadata": {
        "id": "hqQPm1v6J750"
      },
      "source": [
        "import collections\n",
        "import tensorflow as tf\n",
        "import matplotlib.pyplot as plt\n",
        "from keras.models import Sequential, load_model\n",
        "from keras.layers import Dense, Activation, Embedding, Dropout, TimeDistributed\n",
        "from keras.layers import LSTM, LSTM, SimpleRNN, GRU, Bidirectional, RepeatVector\n",
        "from keras.optimizers import Adam\n",
        "from keras.utils import to_categorical\n",
        "from keras.callbacks import ModelCheckpoint\n",
        "import numpy as np\n",
        "from keras.layers import Conv2D, MaxPooling2D, Flatten, Dense, Activation, BatchNormalization, Dropout\n",
        "\n",
        "from tensorflow.keras import regularizers\n",
        "\n",
        "from keras.optimizers import SGD, Adam, RMSprop\n",
        "from keras.callbacks import Callback\n",
        "from sklearn.metrics import confusion_matrix, f1_score, precision_score, recall_score"
      ],
      "execution_count": 2,
      "outputs": []
    },
    {
      "cell_type": "code",
      "metadata": {
        "id": "dus1jMgXRWS5"
      },
      "source": [
        "import glob\n",
        "import pandas as pd\n",
        "import math\n",
        "from imblearn.over_sampling import SMOTE, KMeansSMOTE\n",
        "from sklearn.model_selection import KFold\n",
        "from xgboost import XGBClassifier\n",
        "from sklearn.metrics import accuracy_score, f1_score"
      ],
      "execution_count": 3,
      "outputs": []
    },
    {
      "cell_type": "code",
      "metadata": {
        "id": "F2Gudi1vLEW9",
        "outputId": "60eb499d-00f7-47e3-b11d-4f9f14c9dbb7",
        "colab": {
          "base_uri": "https://localhost:8080/"
        }
      },
      "source": [
        "from google.colab import drive\n",
        "drive.mount('/content/drive')"
      ],
      "execution_count": null,
      "outputs": [
        {
          "output_type": "stream",
          "text": [
            "Drive already mounted at /content/drive; to attempt to forcibly remount, call drive.mount(\"/content/drive\", force_remount=True).\n"
          ],
          "name": "stdout"
        }
      ]
    },
    {
      "cell_type": "code",
      "metadata": {
        "id": "K_YHvYPTqdzm"
      },
      "source": [
        "from keras import backend as K\n",
        "\n",
        "def recall_m(y_true, y_pred):\n",
        "    true_positives = K.sum(K.round(K.clip(y_true * y_pred, 0, 1)))\n",
        "    possible_positives = K.sum(K.round(K.clip(y_true, 0, 1)))\n",
        "    recall = true_positives / (possible_positives + K.epsilon())\n",
        "    return recall\n",
        "\n",
        "def precision_m(y_true, y_pred):\n",
        "    true_positives = K.sum(K.round(K.clip(y_true * y_pred, 0, 1)))\n",
        "    predicted_positives = K.sum(K.round(K.clip(y_pred, 0, 1)))\n",
        "    precision = true_positives / (predicted_positives + K.epsilon())\n",
        "    return precision\n",
        "\n",
        "def f1_m(y_true, y_pred):\n",
        "    precision = precision_m(y_true, y_pred)\n",
        "    recall = recall_m(y_true, y_pred)\n",
        "    return 2*((precision*recall)/(precision+recall+K.epsilon()))"
      ],
      "execution_count": 4,
      "outputs": []
    },
    {
      "cell_type": "code",
      "metadata": {
        "id": "9QjjoN8zRU8g"
      },
      "source": [
        "all_filenames = [i for i in glob.glob('/content/drive/My Drive/TrainingData/*.{}'.format('csv'))]"
      ],
      "execution_count": 5,
      "outputs": []
    },
    {
      "cell_type": "code",
      "metadata": {
        "id": "zi2g8IdWSMqL"
      },
      "source": [
        "df_x, df_x_time, df_y, df_y_time = [], [], [], []\n",
        "for f in all_filenames:\n",
        "    if f.endswith('x.csv'):\n",
        "      df = pd.read_csv(f, header=None)\n",
        "      df['subject'] = f.split('/')[-1].split('_')[1]\n",
        "      df['subject_ID'] = f.split('/')[-1].split('_')[2]\n",
        "      df_x.append(df)\n",
        "    if f.endswith('x_time.csv'):\n",
        "      df = pd.read_csv(f, header=None)\n",
        "      df_x_time.append(df)\n",
        "    if f.endswith('y.csv'):\n",
        "      df = pd.read_csv(f, header=None)\n",
        "      df['subject'] = f.split('/')[-1].split('_')[1]\n",
        "      df['subject_ID'] = f.split('/')[-1].split('_')[2]\n",
        "      df_y.append(df)\n",
        "    if f.endswith('y_time.csv'):\n",
        "      df = pd.read_csv(f, header=None)\n",
        "      df_y_time.append(df)\n",
        "    \n",
        "x = pd.concat(df_x, ignore_index=True)\n",
        "x.columns = ['x1', 'x2', 'x3', 'x4', 'x5', 'x6', 'subject', 'subject_ID']\n",
        "x_time = pd.concat(df_x_time, ignore_index=True)\n",
        "x_time.columns = ['x_time']\n",
        "y = pd.concat(df_y, ignore_index=True)\n",
        "y.columns = ['y', 'subject', 'subject_ID']\n",
        "y_time = pd.concat(df_y_time, ignore_index=True)\n",
        "y_time.columns = ['y_time']\n",
        "x['time'] = x_time['x_time']\n",
        "y['time'] = y_time['y_time']\n",
        "y['time'] = [round(x+0.005,3) for x in y['time']]"
      ],
      "execution_count": 6,
      "outputs": []
    },
    {
      "cell_type": "code",
      "metadata": {
        "id": "bvAvjkShp06Y"
      },
      "source": [
        "# x.drop(x[x['time'] == 0].index, inplace = True)"
      ],
      "execution_count": null,
      "outputs": []
    },
    {
      "cell_type": "code",
      "metadata": {
        "id": "c-SCWYF5TQnj"
      },
      "source": [
        "# x.drop(x[x['time'] == 0.025].index, inplace = True)"
      ],
      "execution_count": null,
      "outputs": []
    },
    {
      "cell_type": "code",
      "metadata": {
        "id": "Cm7VVYa44PTI"
      },
      "source": [
        "full_df = pd.merge(x,y, on=['time','subject', 'subject_ID'], how='left')"
      ],
      "execution_count": 7,
      "outputs": []
    },
    {
      "cell_type": "code",
      "metadata": {
        "id": "On-rqGHMsQRe",
        "outputId": "01dcea7d-d761-4846-9e1a-0c2163fb26dc",
        "colab": {
          "base_uri": "https://localhost:8080/",
          "height": 669
        }
      },
      "source": [
        "full_df.head(20)"
      ],
      "execution_count": 8,
      "outputs": [
        {
          "output_type": "execute_result",
          "data": {
            "text/html": [
              "<div>\n",
              "<style scoped>\n",
              "    .dataframe tbody tr th:only-of-type {\n",
              "        vertical-align: middle;\n",
              "    }\n",
              "\n",
              "    .dataframe tbody tr th {\n",
              "        vertical-align: top;\n",
              "    }\n",
              "\n",
              "    .dataframe thead th {\n",
              "        text-align: right;\n",
              "    }\n",
              "</style>\n",
              "<table border=\"1\" class=\"dataframe\">\n",
              "  <thead>\n",
              "    <tr style=\"text-align: right;\">\n",
              "      <th></th>\n",
              "      <th>x1</th>\n",
              "      <th>x2</th>\n",
              "      <th>x3</th>\n",
              "      <th>x4</th>\n",
              "      <th>x5</th>\n",
              "      <th>x6</th>\n",
              "      <th>subject</th>\n",
              "      <th>subject_ID</th>\n",
              "      <th>time</th>\n",
              "      <th>y</th>\n",
              "    </tr>\n",
              "  </thead>\n",
              "  <tbody>\n",
              "    <tr>\n",
              "      <th>0</th>\n",
              "      <td>4.435275</td>\n",
              "      <td>8.196063</td>\n",
              "      <td>2.974488</td>\n",
              "      <td>0.014215</td>\n",
              "      <td>-0.039157</td>\n",
              "      <td>-0.016744</td>\n",
              "      <td>001</td>\n",
              "      <td>01</td>\n",
              "      <td>0.000</td>\n",
              "      <td>NaN</td>\n",
              "    </tr>\n",
              "    <tr>\n",
              "      <th>1</th>\n",
              "      <td>4.186920</td>\n",
              "      <td>8.344455</td>\n",
              "      <td>2.908057</td>\n",
              "      <td>0.005771</td>\n",
              "      <td>-0.004480</td>\n",
              "      <td>-0.003345</td>\n",
              "      <td>001</td>\n",
              "      <td>01</td>\n",
              "      <td>0.025</td>\n",
              "      <td>0.0</td>\n",
              "    </tr>\n",
              "    <tr>\n",
              "      <th>2</th>\n",
              "      <td>4.544637</td>\n",
              "      <td>8.408659</td>\n",
              "      <td>2.890000</td>\n",
              "      <td>0.007967</td>\n",
              "      <td>0.022412</td>\n",
              "      <td>0.001159</td>\n",
              "      <td>001</td>\n",
              "      <td>01</td>\n",
              "      <td>0.050</td>\n",
              "      <td>NaN</td>\n",
              "    </tr>\n",
              "    <tr>\n",
              "      <th>3</th>\n",
              "      <td>4.849308</td>\n",
              "      <td>8.411614</td>\n",
              "      <td>2.900692</td>\n",
              "      <td>0.027778</td>\n",
              "      <td>-0.010670</td>\n",
              "      <td>-0.014223</td>\n",
              "      <td>001</td>\n",
              "      <td>01</td>\n",
              "      <td>0.075</td>\n",
              "      <td>NaN</td>\n",
              "    </tr>\n",
              "    <tr>\n",
              "      <th>4</th>\n",
              "      <td>4.509190</td>\n",
              "      <td>8.118649</td>\n",
              "      <td>2.847298</td>\n",
              "      <td>0.021577</td>\n",
              "      <td>-0.045498</td>\n",
              "      <td>-0.021111</td>\n",
              "      <td>001</td>\n",
              "      <td>01</td>\n",
              "      <td>0.100</td>\n",
              "      <td>NaN</td>\n",
              "    </tr>\n",
              "    <tr>\n",
              "      <th>5</th>\n",
              "      <td>4.226515</td>\n",
              "      <td>8.273807</td>\n",
              "      <td>2.851742</td>\n",
              "      <td>0.012534</td>\n",
              "      <td>0.000445</td>\n",
              "      <td>-0.016830</td>\n",
              "      <td>001</td>\n",
              "      <td>01</td>\n",
              "      <td>0.125</td>\n",
              "      <td>0.0</td>\n",
              "    </tr>\n",
              "    <tr>\n",
              "      <th>6</th>\n",
              "      <td>4.532063</td>\n",
              "      <td>8.398341</td>\n",
              "      <td>2.856682</td>\n",
              "      <td>0.014484</td>\n",
              "      <td>0.028769</td>\n",
              "      <td>-0.011091</td>\n",
              "      <td>001</td>\n",
              "      <td>01</td>\n",
              "      <td>0.150</td>\n",
              "      <td>NaN</td>\n",
              "    </tr>\n",
              "    <tr>\n",
              "      <th>7</th>\n",
              "      <td>4.433669</td>\n",
              "      <td>8.294719</td>\n",
              "      <td>2.823521</td>\n",
              "      <td>0.016340</td>\n",
              "      <td>-0.029434</td>\n",
              "      <td>-0.008998</td>\n",
              "      <td>001</td>\n",
              "      <td>01</td>\n",
              "      <td>0.175</td>\n",
              "      <td>NaN</td>\n",
              "    </tr>\n",
              "    <tr>\n",
              "      <th>8</th>\n",
              "      <td>4.160676</td>\n",
              "      <td>8.260676</td>\n",
              "      <td>2.827568</td>\n",
              "      <td>0.011222</td>\n",
              "      <td>-0.016748</td>\n",
              "      <td>-0.006027</td>\n",
              "      <td>001</td>\n",
              "      <td>01</td>\n",
              "      <td>0.200</td>\n",
              "      <td>NaN</td>\n",
              "    </tr>\n",
              "    <tr>\n",
              "      <th>9</th>\n",
              "      <td>4.432763</td>\n",
              "      <td>8.272613</td>\n",
              "      <td>2.790050</td>\n",
              "      <td>-0.002715</td>\n",
              "      <td>0.023094</td>\n",
              "      <td>0.012222</td>\n",
              "      <td>001</td>\n",
              "      <td>01</td>\n",
              "      <td>0.225</td>\n",
              "      <td>0.0</td>\n",
              "    </tr>\n",
              "    <tr>\n",
              "      <th>10</th>\n",
              "      <td>4.511362</td>\n",
              "      <td>8.256774</td>\n",
              "      <td>2.820538</td>\n",
              "      <td>-0.002248</td>\n",
              "      <td>0.001547</td>\n",
              "      <td>0.011137</td>\n",
              "      <td>001</td>\n",
              "      <td>01</td>\n",
              "      <td>0.250</td>\n",
              "      <td>NaN</td>\n",
              "    </tr>\n",
              "    <tr>\n",
              "      <th>11</th>\n",
              "      <td>4.098018</td>\n",
              "      <td>8.154184</td>\n",
              "      <td>2.901101</td>\n",
              "      <td>-0.010418</td>\n",
              "      <td>-0.042853</td>\n",
              "      <td>0.005031</td>\n",
              "      <td>001</td>\n",
              "      <td>01</td>\n",
              "      <td>0.275</td>\n",
              "      <td>NaN</td>\n",
              "    </tr>\n",
              "    <tr>\n",
              "      <th>12</th>\n",
              "      <td>3.931769</td>\n",
              "      <td>8.203628</td>\n",
              "      <td>2.958186</td>\n",
              "      <td>-0.015232</td>\n",
              "      <td>-0.006177</td>\n",
              "      <td>0.016877</td>\n",
              "      <td>001</td>\n",
              "      <td>01</td>\n",
              "      <td>0.300</td>\n",
              "      <td>NaN</td>\n",
              "    </tr>\n",
              "    <tr>\n",
              "      <th>13</th>\n",
              "      <td>4.524325</td>\n",
              "      <td>8.446963</td>\n",
              "      <td>2.874356</td>\n",
              "      <td>-0.003438</td>\n",
              "      <td>0.036310</td>\n",
              "      <td>0.045451</td>\n",
              "      <td>001</td>\n",
              "      <td>01</td>\n",
              "      <td>0.325</td>\n",
              "      <td>0.0</td>\n",
              "    </tr>\n",
              "    <tr>\n",
              "      <th>14</th>\n",
              "      <td>4.615744</td>\n",
              "      <td>8.385348</td>\n",
              "      <td>2.782674</td>\n",
              "      <td>-0.002790</td>\n",
              "      <td>0.012677</td>\n",
              "      <td>0.054444</td>\n",
              "      <td>001</td>\n",
              "      <td>01</td>\n",
              "      <td>0.350</td>\n",
              "      <td>NaN</td>\n",
              "    </tr>\n",
              "    <tr>\n",
              "      <th>15</th>\n",
              "      <td>4.392814</td>\n",
              "      <td>8.239121</td>\n",
              "      <td>2.830176</td>\n",
              "      <td>0.001527</td>\n",
              "      <td>0.015576</td>\n",
              "      <td>0.052817</td>\n",
              "      <td>001</td>\n",
              "      <td>01</td>\n",
              "      <td>0.375</td>\n",
              "      <td>NaN</td>\n",
              "    </tr>\n",
              "    <tr>\n",
              "      <th>16</th>\n",
              "      <td>4.633221</td>\n",
              "      <td>8.197211</td>\n",
              "      <td>2.872404</td>\n",
              "      <td>-0.006495</td>\n",
              "      <td>0.039828</td>\n",
              "      <td>0.040343</td>\n",
              "      <td>001</td>\n",
              "      <td>01</td>\n",
              "      <td>0.400</td>\n",
              "      <td>NaN</td>\n",
              "    </tr>\n",
              "    <tr>\n",
              "      <th>17</th>\n",
              "      <td>4.788242</td>\n",
              "      <td>8.201208</td>\n",
              "      <td>2.805275</td>\n",
              "      <td>-0.009608</td>\n",
              "      <td>0.032156</td>\n",
              "      <td>0.025749</td>\n",
              "      <td>001</td>\n",
              "      <td>01</td>\n",
              "      <td>0.425</td>\n",
              "      <td>0.0</td>\n",
              "    </tr>\n",
              "    <tr>\n",
              "      <th>18</th>\n",
              "      <td>4.751849</td>\n",
              "      <td>8.220000</td>\n",
              "      <td>2.847035</td>\n",
              "      <td>-0.012330</td>\n",
              "      <td>0.018727</td>\n",
              "      <td>0.017562</td>\n",
              "      <td>001</td>\n",
              "      <td>01</td>\n",
              "      <td>0.450</td>\n",
              "      <td>NaN</td>\n",
              "    </tr>\n",
              "    <tr>\n",
              "      <th>19</th>\n",
              "      <td>4.612801</td>\n",
              "      <td>8.290000</td>\n",
              "      <td>2.845603</td>\n",
              "      <td>-0.004444</td>\n",
              "      <td>0.005675</td>\n",
              "      <td>0.003214</td>\n",
              "      <td>001</td>\n",
              "      <td>01</td>\n",
              "      <td>0.475</td>\n",
              "      <td>NaN</td>\n",
              "    </tr>\n",
              "  </tbody>\n",
              "</table>\n",
              "</div>"
            ],
            "text/plain": [
              "          x1        x2        x3        x4  ...  subject  subject_ID   time    y\n",
              "0   4.435275  8.196063  2.974488  0.014215  ...      001          01  0.000  NaN\n",
              "1   4.186920  8.344455  2.908057  0.005771  ...      001          01  0.025  0.0\n",
              "2   4.544637  8.408659  2.890000  0.007967  ...      001          01  0.050  NaN\n",
              "3   4.849308  8.411614  2.900692  0.027778  ...      001          01  0.075  NaN\n",
              "4   4.509190  8.118649  2.847298  0.021577  ...      001          01  0.100  NaN\n",
              "5   4.226515  8.273807  2.851742  0.012534  ...      001          01  0.125  0.0\n",
              "6   4.532063  8.398341  2.856682  0.014484  ...      001          01  0.150  NaN\n",
              "7   4.433669  8.294719  2.823521  0.016340  ...      001          01  0.175  NaN\n",
              "8   4.160676  8.260676  2.827568  0.011222  ...      001          01  0.200  NaN\n",
              "9   4.432763  8.272613  2.790050 -0.002715  ...      001          01  0.225  0.0\n",
              "10  4.511362  8.256774  2.820538 -0.002248  ...      001          01  0.250  NaN\n",
              "11  4.098018  8.154184  2.901101 -0.010418  ...      001          01  0.275  NaN\n",
              "12  3.931769  8.203628  2.958186 -0.015232  ...      001          01  0.300  NaN\n",
              "13  4.524325  8.446963  2.874356 -0.003438  ...      001          01  0.325  0.0\n",
              "14  4.615744  8.385348  2.782674 -0.002790  ...      001          01  0.350  NaN\n",
              "15  4.392814  8.239121  2.830176  0.001527  ...      001          01  0.375  NaN\n",
              "16  4.633221  8.197211  2.872404 -0.006495  ...      001          01  0.400  NaN\n",
              "17  4.788242  8.201208  2.805275 -0.009608  ...      001          01  0.425  0.0\n",
              "18  4.751849  8.220000  2.847035 -0.012330  ...      001          01  0.450  NaN\n",
              "19  4.612801  8.290000  2.845603 -0.004444  ...      001          01  0.475  NaN\n",
              "\n",
              "[20 rows x 10 columns]"
            ]
          },
          "metadata": {
            "tags": []
          },
          "execution_count": 8
        }
      ]
    },
    {
      "cell_type": "code",
      "metadata": {
        "id": "DW5UFatPl4LP"
      },
      "source": [
        "full_df['y'] = full_df['y'].interpolate(method='nearest')"
      ],
      "execution_count": 9,
      "outputs": []
    },
    {
      "cell_type": "code",
      "metadata": {
        "id": "ON3RL3C-s9mx",
        "outputId": "4a506897-a9c3-405e-b937-70a927a890bf",
        "colab": {
          "base_uri": "https://localhost:8080/"
        }
      },
      "source": [
        "full_df.isna().sum()"
      ],
      "execution_count": 10,
      "outputs": [
        {
          "output_type": "execute_result",
          "data": {
            "text/plain": [
              "x1            0\n",
              "x2            0\n",
              "x3            0\n",
              "x4            0\n",
              "x5            0\n",
              "x6            0\n",
              "subject       0\n",
              "subject_ID    0\n",
              "time          0\n",
              "y             1\n",
              "dtype: int64"
            ]
          },
          "metadata": {
            "tags": []
          },
          "execution_count": 10
        }
      ]
    },
    {
      "cell_type": "code",
      "metadata": {
        "id": "PXIsn0KU6bn1"
      },
      "source": [
        "full_df.dropna(inplace=True)"
      ],
      "execution_count": 11,
      "outputs": []
    },
    {
      "cell_type": "code",
      "metadata": {
        "id": "ADhPCpP767Gt",
        "outputId": "a51db360-9083-42bc-9a92-23b39ba231c3",
        "colab": {
          "base_uri": "https://localhost:8080/"
        }
      },
      "source": [
        "full_df.shape"
      ],
      "execution_count": 12,
      "outputs": [
        {
          "output_type": "execute_result",
          "data": {
            "text/plain": [
              "(1367083, 10)"
            ]
          },
          "metadata": {
            "tags": []
          },
          "execution_count": 12
        }
      ]
    },
    {
      "cell_type": "code",
      "metadata": {
        "id": "koMjAntvTdeN"
      },
      "source": [
        "from numpy import array\n",
        "def split_sequences(sequences, n_steps):\n",
        "\tX, y = list(), list()\n",
        "\tfor i in range(len(sequences)):\n",
        "\t\t# find the end of this pattern\n",
        "\t\tend_ix = i + n_steps\n",
        "\t\t# check if we are beyond the dataset\n",
        "\t\tif end_ix > len(sequences):\n",
        "\t\t\tbreak\n",
        "\t\t# gather input and output parts of the pattern\n",
        "\t\tseq_x, seq_y = sequences[i:end_ix, :-1], sequences[end_ix-1, -1]\n",
        "\t\tX.append(seq_x)\n",
        "\t\ty.append(seq_y)\n",
        "\treturn array(X), array(y)\n",
        "\t# end_flag = True \n",
        "\t# for i in range(0,len(sequences),1):\n",
        "  #   # find the end of this pattern\n",
        "\t# \tend_ix = i + n_steps\n",
        "  #   # check if we are beyond the dataset\n",
        "\t# \tif end_ix > len(sequences):\n",
        "\t# \t\tend_flag = False\n",
        "\t# \t\tseq_x, seq_y = sequences[-1:, :], sequences[end_ix-1, -1]\n",
        "\t# \t\tX.append(seq_x)\n",
        "\t# \t\ty.append(seq_y)\n",
        "\t# \t\tbreak\n",
        "\t# \t# gather input and output parts of the pattern\n",
        "\t# \tif (end_flag):\n",
        "\t# \t\tseq_x, seq_y = sequences[i:end_ix, :-1], sequences[end_ix-1, -1]\n",
        "\t# \t\tX.append(seq_x)\n",
        "\t# \t\ty.append(seq_y)\n",
        "\t# return array(X), array(y)"
      ],
      "execution_count": 13,
      "outputs": []
    },
    {
      "cell_type": "code",
      "metadata": {
        "id": "Dn0kLkd-TfWM"
      },
      "source": [
        "in_seq1 = full_df['x1'].to_numpy().reshape((len(full_df['x1']), 1))\n",
        "in_seq2 = full_df['x2'].to_numpy().reshape((len(full_df['x2']), 1))\n",
        "in_seq3 = full_df['x3'].to_numpy().reshape((len(full_df['x3']), 1))\n",
        "in_seq4 = full_df['x4'].to_numpy().reshape((len(full_df['x4']), 1))\n",
        "in_seq5 = full_df['x5'].to_numpy().reshape((len(full_df['x5']), 1))\n",
        "in_seq6 = full_df['x6'].to_numpy().reshape((len(full_df['x6']), 1))"
      ],
      "execution_count": 14,
      "outputs": []
    },
    {
      "cell_type": "code",
      "metadata": {
        "id": "at5jCKUcUz5t"
      },
      "source": [
        "out_seq = full_df['y'].to_numpy().reshape((len(full_df['y']), 1))"
      ],
      "execution_count": 15,
      "outputs": []
    },
    {
      "cell_type": "code",
      "metadata": {
        "id": "J7BTjeUEVzvb"
      },
      "source": [
        "dataset = np.hstack((in_seq1, in_seq2, in_seq3, in_seq4, in_seq5, in_seq6, out_seq))"
      ],
      "execution_count": 16,
      "outputs": []
    },
    {
      "cell_type": "code",
      "metadata": {
        "id": "HkFyHrxRWsaI"
      },
      "source": [
        "X, y = split_sequences(dataset, 10)"
      ],
      "execution_count": 18,
      "outputs": []
    },
    {
      "cell_type": "code",
      "metadata": {
        "id": "wsPEeVprVJNa"
      },
      "source": [
        "ind = np.argwhere(np.isnan(y)).flatten()"
      ],
      "execution_count": 22,
      "outputs": []
    },
    {
      "cell_type": "code",
      "metadata": {
        "id": "fxJtVDvGEp_G"
      },
      "source": [
        "allrows = np.array(range(len(X)))\n",
        "X_n = X[np.setdiff1d(allrows,ind)]"
      ],
      "execution_count": 24,
      "outputs": []
    },
    {
      "cell_type": "code",
      "metadata": {
        "id": "Phvbs3Vcf3qe"
      },
      "source": [
        "y = y[~np.isnan(y)]"
      ],
      "execution_count": 25,
      "outputs": []
    },
    {
      "cell_type": "code",
      "metadata": {
        "id": "eT72vhiFPKVV",
        "outputId": "2079a848-22d8-4544-adfa-b0c5654c8702",
        "colab": {
          "base_uri": "https://localhost:8080/"
        }
      },
      "source": [
        "X_n.shape"
      ],
      "execution_count": 26,
      "outputs": [
        {
          "output_type": "execute_result",
          "data": {
            "text/plain": [
              "(1367074, 10, 6)"
            ]
          },
          "metadata": {
            "tags": []
          },
          "execution_count": 26
        }
      ]
    },
    {
      "cell_type": "code",
      "metadata": {
        "id": "pPYK9wxIgB8i"
      },
      "source": [
        "y = y.reshape(-1,1)"
      ],
      "execution_count": 28,
      "outputs": []
    },
    {
      "cell_type": "code",
      "metadata": {
        "id": "ML021Z0_lEJL",
        "outputId": "6b83879a-c902-446f-ca73-a48ee8f8d38e",
        "colab": {
          "base_uri": "https://localhost:8080/"
        }
      },
      "source": [
        "y.shape"
      ],
      "execution_count": 29,
      "outputs": [
        {
          "output_type": "execute_result",
          "data": {
            "text/plain": [
              "(1367074, 1)"
            ]
          },
          "metadata": {
            "tags": []
          },
          "execution_count": 29
        }
      ]
    },
    {
      "cell_type": "code",
      "metadata": {
        "id": "vQd1-7jq5z7E"
      },
      "source": [
        "unique, counts = np.unique(y, return_counts=True)"
      ],
      "execution_count": 30,
      "outputs": []
    },
    {
      "cell_type": "code",
      "metadata": {
        "id": "4Lku4MAA6A9y",
        "outputId": "2393facc-105d-40eb-9935-d763501bdd98",
        "colab": {
          "base_uri": "https://localhost:8080/"
        }
      },
      "source": [
        "print(unique)\n",
        "print(counts)"
      ],
      "execution_count": 31,
      "outputs": [
        {
          "output_type": "stream",
          "text": [
            "[0. 1. 2. 3.]\n",
            "[1018028   81575   60189  207282]\n"
          ],
          "name": "stdout"
        }
      ]
    },
    {
      "cell_type": "code",
      "metadata": {
        "id": "8ZiFVKN3YqsE",
        "outputId": "e3035525-84c0-4ac8-b28e-9ef18347a936",
        "colab": {
          "base_uri": "https://localhost:8080/"
        }
      },
      "source": [
        "# RNN Model with LSTM\n",
        "model = Sequential()\n",
        "# model.add(Embedding(130, 128, input_length=num_steps))\n",
        "# model.add(Dropout(0.7))\n",
        "model.add(LSTM(128, input_shape=(10,6), recurrent_activation='swish', return_sequences=True))\n",
        "model.add(BatchNormalization())\n",
        "# model.add(Bidirectional(LSTM(128, recurrent_activation='swish', return_sequences=True)))\n",
        "model.add(BatchNormalization())\n",
        "model.add(LSTM(64, recurrent_activation='swish'))\n",
        "model.add(BatchNormalization())\n",
        "model.add(Dense(4, activation='softmax'))\n",
        "model.compile(loss='categorical_crossentropy', optimizer=Adam(), metrics=['categorical_accuracy', f1_m], sample_weight_mode=\"temporal\")\n",
        "model.summary()"
      ],
      "execution_count": 59,
      "outputs": [
        {
          "output_type": "stream",
          "text": [
            "Model: \"sequential_5\"\n",
            "_________________________________________________________________\n",
            "Layer (type)                 Output Shape              Param #   \n",
            "=================================================================\n",
            "lstm_10 (LSTM)               (None, 10, 128)           69120     \n",
            "_________________________________________________________________\n",
            "batch_normalization_15 (Batc (None, 10, 128)           512       \n",
            "_________________________________________________________________\n",
            "batch_normalization_16 (Batc (None, 10, 128)           512       \n",
            "_________________________________________________________________\n",
            "lstm_11 (LSTM)               (None, 64)                49408     \n",
            "_________________________________________________________________\n",
            "batch_normalization_17 (Batc (None, 64)                256       \n",
            "_________________________________________________________________\n",
            "dense_5 (Dense)              (None, 4)                 260       \n",
            "=================================================================\n",
            "Total params: 120,068\n",
            "Trainable params: 119,428\n",
            "Non-trainable params: 640\n",
            "_________________________________________________________________\n"
          ],
          "name": "stdout"
        }
      ]
    },
    {
      "cell_type": "code",
      "metadata": {
        "id": "QMg7dg71tMwf",
        "outputId": "b7a2ac4b-5b15-4056-daa9-7523199b0fbb",
        "colab": {
          "base_uri": "https://localhost:8080/"
        }
      },
      "source": [
        "model.output_shape"
      ],
      "execution_count": 60,
      "outputs": [
        {
          "output_type": "execute_result",
          "data": {
            "text/plain": [
              "(None, 4)"
            ]
          },
          "metadata": {
            "tags": []
          },
          "execution_count": 60
        }
      ]
    },
    {
      "cell_type": "code",
      "metadata": {
        "id": "3OboSWStbr8l",
        "outputId": "800f984a-7ae1-418e-fee0-0442f9b009e0",
        "colab": {
          "base_uri": "https://localhost:8080/"
        }
      },
      "source": [
        "model.input_shape"
      ],
      "execution_count": 61,
      "outputs": [
        {
          "output_type": "execute_result",
          "data": {
            "text/plain": [
              "(None, 10, 6)"
            ]
          },
          "metadata": {
            "tags": []
          },
          "execution_count": 61
        }
      ]
    },
    {
      "cell_type": "code",
      "metadata": {
        "id": "uAdF-WvtGiU1",
        "outputId": "59de1128-e292-487f-e933-b705ecbf8046",
        "colab": {
          "base_uri": "https://localhost:8080/"
        }
      },
      "source": [
        "# CNN model\n",
        "model_CNN1 = Sequential()\n",
        "\n",
        "#Adding the input layer and first hidden layer\n",
        "model_CNN1.add(Dense(256, activation= 'swish', input_shape=(1,24)))\n",
        "# model_CNN1.add(Dropout(0.25))\n",
        "#Adding second hidden layer\n",
        "model_CNN1.add(Dense(512, activation= 'swish'))\n",
        "model_CNN1.add(BatchNormalization())\n",
        "# model_CNN1.add(Dropout(0.25))\n",
        "model_CNN1.add(Dense(256, activation= 'swish'))\n",
        "model_CNN1.add(BatchNormalization())\n",
        "model_CNN1.add(Dense(128, activation= 'swish'))\n",
        "model_CNN1.add(BatchNormalization())\n",
        "model_CNN1.add(Dense(64, activation= 'swish'))\n",
        "model_CNN1.add(BatchNormalization())\n",
        "#Adding the Output Layer\n",
        "model_CNN1.add(TiDense(4, activation='softmax')) \n",
        "#Compiling\n",
        "model_CNN1.compile(optimizer='adam', loss='categorical_crossentropy', metrics=[f1_m, 'categorical_accuracy'])\n",
        "model_CNN1.summary()"
      ],
      "execution_count": 68,
      "outputs": [
        {
          "output_type": "stream",
          "text": [
            "Model: \"sequential_7\"\n",
            "_________________________________________________________________\n",
            "Layer (type)                 Output Shape              Param #   \n",
            "=================================================================\n",
            "dense_14 (Dense)             (None, 1, 256)            6400      \n",
            "_________________________________________________________________\n",
            "dense_15 (Dense)             (None, 1, 512)            131584    \n",
            "_________________________________________________________________\n",
            "batch_normalization_24 (Batc (None, 1, 512)            2048      \n",
            "_________________________________________________________________\n",
            "dense_16 (Dense)             (None, 1, 256)            131328    \n",
            "_________________________________________________________________\n",
            "batch_normalization_25 (Batc (None, 1, 256)            1024      \n",
            "_________________________________________________________________\n",
            "dense_17 (Dense)             (None, 1, 128)            32896     \n",
            "_________________________________________________________________\n",
            "batch_normalization_26 (Batc (None, 1, 128)            512       \n",
            "_________________________________________________________________\n",
            "dense_18 (Dense)             (None, 1, 64)             8256      \n",
            "_________________________________________________________________\n",
            "batch_normalization_27 (Batc (None, 1, 64)             256       \n",
            "_________________________________________________________________\n",
            "time_distributed (TimeDistri (None, 1, 4)              260       \n",
            "=================================================================\n",
            "Total params: 314,564\n",
            "Trainable params: 312,644\n",
            "Non-trainable params: 1,920\n",
            "_________________________________________________________________\n"
          ],
          "name": "stdout"
        }
      ]
    },
    {
      "cell_type": "code",
      "metadata": {
        "id": "VeD8KP-f4Moc",
        "outputId": "7b5b5495-383f-4a95-f964-fca3f56bd074",
        "colab": {
          "base_uri": "https://localhost:8080/"
        }
      },
      "source": [
        "# CNN model\n",
        "model_CNN = Sequential()\n",
        "\n",
        "#Adding the input layer and first hidden layer\n",
        "model_CNN.add(Dense(256, activation= 'swish', input_shape=(1,60)))\n",
        "#Adding second hidden layer\n",
        "model_CNN.add(Dense(512, activation= 'swish'))\n",
        "model_CNN.add(BatchNormalization())\n",
        "model_CNN.add(Dense(512, activation= 'swish'))\n",
        "model_CNN.add(BatchNormalization())\n",
        "model_CNN.add(Dense(256, activation= 'swish'))\n",
        "model_CNN.add(BatchNormalization())\n",
        "model_CNN.add(Dense(128, activation= 'swish'))\n",
        "model_CNN.add(BatchNormalization())\n",
        "model_CNN.add(Dense(64, activation= 'swish'))\n",
        "model_CNN.add(BatchNormalization())\n",
        "model_CNN.add(Dense(32, activation= 'swish'))\n",
        "model_CNN.add(BatchNormalization())\n",
        "#Adding the Output Layer\n",
        "model_CNN.add(Dense(4, activation='softmax')) \n",
        "#Compiling\n",
        "model_CNN.compile(optimizer='adam', loss='categorical_crossentropy', metrics=['categorical_accuracy', f1_m], sample_weight_mode=\"temporal\")\n",
        "model_CNN.summary()"
      ],
      "execution_count": 164,
      "outputs": [
        {
          "output_type": "stream",
          "text": [
            "Model: \"sequential_12\"\n",
            "_________________________________________________________________\n",
            "Layer (type)                 Output Shape              Param #   \n",
            "=================================================================\n",
            "dense_53 (Dense)             (None, 1, 256)            15616     \n",
            "_________________________________________________________________\n",
            "dense_54 (Dense)             (None, 1, 512)            131584    \n",
            "_________________________________________________________________\n",
            "batch_normalization_52 (Batc (None, 1, 512)            2048      \n",
            "_________________________________________________________________\n",
            "dense_55 (Dense)             (None, 1, 512)            262656    \n",
            "_________________________________________________________________\n",
            "batch_normalization_53 (Batc (None, 1, 512)            2048      \n",
            "_________________________________________________________________\n",
            "dense_56 (Dense)             (None, 1, 256)            131328    \n",
            "_________________________________________________________________\n",
            "batch_normalization_54 (Batc (None, 1, 256)            1024      \n",
            "_________________________________________________________________\n",
            "dense_57 (Dense)             (None, 1, 128)            32896     \n",
            "_________________________________________________________________\n",
            "batch_normalization_55 (Batc (None, 1, 128)            512       \n",
            "_________________________________________________________________\n",
            "dense_58 (Dense)             (None, 1, 64)             8256      \n",
            "_________________________________________________________________\n",
            "batch_normalization_56 (Batc (None, 1, 64)             256       \n",
            "_________________________________________________________________\n",
            "dense_59 (Dense)             (None, 1, 32)             2080      \n",
            "_________________________________________________________________\n",
            "batch_normalization_57 (Batc (None, 1, 32)             128       \n",
            "_________________________________________________________________\n",
            "dense_60 (Dense)             (None, 1, 4)              132       \n",
            "=================================================================\n",
            "Total params: 590,564\n",
            "Trainable params: 587,556\n",
            "Non-trainable params: 3,008\n",
            "_________________________________________________________________\n"
          ],
          "name": "stdout"
        }
      ]
    },
    {
      "cell_type": "code",
      "metadata": {
        "id": "wPfOk4CX9OfQ",
        "outputId": "b5111153-2a0b-4b4c-a71e-97e472e8d78e",
        "colab": {
          "base_uri": "https://localhost:8080/"
        }
      },
      "source": [
        "model_CNN.input_shape"
      ],
      "execution_count": 165,
      "outputs": [
        {
          "output_type": "execute_result",
          "data": {
            "text/plain": [
              "(None, 1, 60)"
            ]
          },
          "metadata": {
            "tags": []
          },
          "execution_count": 165
        }
      ]
    },
    {
      "cell_type": "code",
      "metadata": {
        "id": "H16wV_2LJam1",
        "outputId": "8210ec0b-92c8-4d18-e4cc-165899d2b6d3",
        "colab": {
          "base_uri": "https://localhost:8080/"
        }
      },
      "source": [
        "model_CNN.output_shape"
      ],
      "execution_count": 166,
      "outputs": [
        {
          "output_type": "execute_result",
          "data": {
            "text/plain": [
              "(None, 1, 4)"
            ]
          },
          "metadata": {
            "tags": []
          },
          "execution_count": 166
        }
      ]
    },
    {
      "cell_type": "code",
      "metadata": {
        "id": "BEz9JD1mK_Bn"
      },
      "source": [
        "from sklearn.model_selection import train_test_split\n",
        "X_train, X_test, y_train, y_test = train_test_split(X_n, y, test_size=0.3, random_state=177)"
      ],
      "execution_count": 38,
      "outputs": []
    },
    {
      "cell_type": "code",
      "metadata": {
        "id": "WPrs5YeOmtwl"
      },
      "source": [
        "# from sklearn.model_selection import train_test_split\n",
        "# X_train, X_test, y_train, y_test = train_test_split(full_df[['x1','x2','x3', 'x4', 'x5', 'x6']], full_df['y'], test_size=0.3, random_state=177)"
      ],
      "execution_count": null,
      "outputs": []
    },
    {
      "cell_type": "code",
      "metadata": {
        "id": "CpXFSnmHqfy4"
      },
      "source": [
        "# Scaling the data\n",
        "from sklearn.preprocessing import StandardScaler\n",
        "scaler = StandardScaler()\n",
        "X_train = scaler.fit_transform(X_train.reshape(-1,60))\n",
        "X_test = scaler.transform(X_test.reshape(-1,60))"
      ],
      "execution_count": 42,
      "outputs": []
    },
    {
      "cell_type": "code",
      "metadata": {
        "id": "XqYFQro2D49e"
      },
      "source": [
        "X_train = X_train.reshape(-1,10,6)\n",
        "X_test = X_test.reshape(-1,10,6)"
      ],
      "execution_count": 43,
      "outputs": []
    },
    {
      "cell_type": "code",
      "metadata": {
        "id": "NWDvZEtD-un-",
        "outputId": "505fae87-f545-47b7-ec86-b1a1b1d88599",
        "colab": {
          "base_uri": "https://localhost:8080/"
        }
      },
      "source": [
        "model.input_shape"
      ],
      "execution_count": null,
      "outputs": [
        {
          "output_type": "execute_result",
          "data": {
            "text/plain": [
              "(None, 100, 7)"
            ]
          },
          "metadata": {
            "tags": []
          },
          "execution_count": 59
        }
      ]
    },
    {
      "cell_type": "code",
      "metadata": {
        "id": "qytNMdGsTgb1",
        "outputId": "46e816d1-179c-46f1-96a2-683678bbcfa5",
        "colab": {
          "base_uri": "https://localhost:8080/"
        }
      },
      "source": [
        "model.output_shape"
      ],
      "execution_count": null,
      "outputs": [
        {
          "output_type": "execute_result",
          "data": {
            "text/plain": [
              "(None, 1)"
            ]
          },
          "metadata": {
            "tags": []
          },
          "execution_count": 60
        }
      ]
    },
    {
      "cell_type": "code",
      "metadata": {
        "id": "mQBoUCsG-ZXa",
        "outputId": "74d4a2e6-a3be-437c-ca63-1f5c3d088662",
        "colab": {
          "base_uri": "https://localhost:8080/"
        }
      },
      "source": [
        "unique, counts = np.unique(y_train, return_counts=True)\n",
        "print(unique)\n",
        "print(counts)"
      ],
      "execution_count": 44,
      "outputs": [
        {
          "output_type": "stream",
          "text": [
            "[0. 1. 2. 3.]\n",
            "[712814  57072  42035 145030]\n"
          ],
          "name": "stdout"
        }
      ]
    },
    {
      "cell_type": "code",
      "metadata": {
        "id": "mlf18jxoxE6i"
      },
      "source": [
        "# Over Sampling Classes 1 and 2 using kmeansSMOTE\n",
        "oversample = KMeansSMOTE(sampling_strategy={1:200000, 2:200000}, cluster_balance_threshold=0.02, k_neighbors=3)"
      ],
      "execution_count": 45,
      "outputs": []
    },
    {
      "cell_type": "code",
      "metadata": {
        "id": "BYx4k202t-22"
      },
      "source": [
        "X_train = X_train.reshape(-1,60)"
      ],
      "execution_count": 46,
      "outputs": []
    },
    {
      "cell_type": "code",
      "metadata": {
        "id": "6NpNHWa_n3sw"
      },
      "source": [
        "X_train, y_train = oversample.fit_resample(X_train, y_train)"
      ],
      "execution_count": 47,
      "outputs": []
    },
    {
      "cell_type": "code",
      "metadata": {
        "id": "dMfZaqYlM8Cl",
        "outputId": "1f98a105-b79a-447a-d771-14fe8f676ff9",
        "colab": {
          "base_uri": "https://localhost:8080/"
        }
      },
      "source": [
        "unique, counts = np.unique(y_train, return_counts=True)\n",
        "print(unique)\n",
        "print(counts)"
      ],
      "execution_count": 48,
      "outputs": [
        {
          "output_type": "stream",
          "text": [
            "[0. 1. 2. 3.]\n",
            "[712814 200006 200004 145030]\n"
          ],
          "name": "stdout"
        }
      ]
    },
    {
      "cell_type": "code",
      "metadata": {
        "id": "qQdiyR9_ZwaY",
        "outputId": "844cfb33-2a16-48c8-9107-ffe5183aca4a",
        "colab": {
          "base_uri": "https://localhost:8080/"
        }
      },
      "source": [
        "len(y_train)"
      ],
      "execution_count": 168,
      "outputs": [
        {
          "output_type": "execute_result",
          "data": {
            "text/plain": [
              "1257854"
            ]
          },
          "metadata": {
            "tags": []
          },
          "execution_count": 168
        }
      ]
    },
    {
      "cell_type": "code",
      "metadata": {
        "id": "lstU1DvBlSur"
      },
      "source": [
        "# Ading class weight parameter in CNN models\n",
        "class_weights = np.zeros((len(y_train), 4))\n",
        "class_weights[:, 0] += 1\n",
        "class_weights[:, 1] += 20\n",
        "class_weights[:, 2] += 18\n",
        "class_weights[:, 3] += 5"
      ],
      "execution_count": 169,
      "outputs": []
    },
    {
      "cell_type": "code",
      "metadata": {
        "id": "hflXPDe9FHgP"
      },
      "source": [
        "unique, counts = np.unique(y_train, return_counts=True)"
      ],
      "execution_count": null,
      "outputs": []
    },
    {
      "cell_type": "code",
      "metadata": {
        "id": "u5jUiekOGQ4y",
        "outputId": "2cf1d90d-7698-4a39-c4e8-938d65a28369",
        "colab": {
          "base_uri": "https://localhost:8080/"
        }
      },
      "source": [
        "print(unique)\n",
        "print(counts)"
      ],
      "execution_count": null,
      "outputs": [
        {
          "output_type": "stream",
          "text": [
            "[0. 1.]\n",
            "[3772014 1257338]\n"
          ],
          "name": "stdout"
        }
      ]
    },
    {
      "cell_type": "code",
      "metadata": {
        "id": "EQOV_lvNkBfx"
      },
      "source": [
        "# Reshape inputs according to input shape\n",
        "X_train = X_train.reshape(-1,1,60)\n",
        "X_test = X_test.reshape(-1,1,60)"
      ],
      "execution_count": 79,
      "outputs": []
    },
    {
      "cell_type": "code",
      "metadata": {
        "id": "Lpi77GZ70uxS",
        "outputId": "e40a27c8-c6b5-431f-8347-da73e9208a8f",
        "colab": {
          "base_uri": "https://localhost:8080/"
        }
      },
      "source": [
        "X_train.shape"
      ],
      "execution_count": 82,
      "outputs": [
        {
          "output_type": "execute_result",
          "data": {
            "text/plain": [
              "(1257854, 1, 60)"
            ]
          },
          "metadata": {
            "tags": []
          },
          "execution_count": 82
        }
      ]
    },
    {
      "cell_type": "code",
      "metadata": {
        "id": "EIDMmbba54YJ",
        "outputId": "49141c5b-55c5-46f0-a64a-fc6e225a7126",
        "colab": {
          "base_uri": "https://localhost:8080/"
        }
      },
      "source": [
        "y_train.shape"
      ],
      "execution_count": 83,
      "outputs": [
        {
          "output_type": "execute_result",
          "data": {
            "text/plain": [
              "(1257854, 1, 4)"
            ]
          },
          "metadata": {
            "tags": []
          },
          "execution_count": 83
        }
      ]
    },
    {
      "cell_type": "code",
      "metadata": {
        "id": "q_bxvNVUE-yH",
        "outputId": "08b1b8ea-5f33-4618-fe54-a4f4a17bce8a",
        "colab": {
          "base_uri": "https://localhost:8080/"
        }
      },
      "source": [
        "model_CNN.output_shape"
      ],
      "execution_count": 84,
      "outputs": [
        {
          "output_type": "execute_result",
          "data": {
            "text/plain": [
              "(None, 1, 4)"
            ]
          },
          "metadata": {
            "tags": []
          },
          "execution_count": 84
        }
      ]
    },
    {
      "cell_type": "code",
      "metadata": {
        "id": "N_HXHo03eaUN"
      },
      "source": [
        "# Reshape according to model output size\n",
        "y_train = to_categorical(y_train).reshape(-1,4)\n",
        "y_test = to_categorical(y_test).reshape(-1,4)"
      ],
      "execution_count": 52,
      "outputs": []
    },
    {
      "cell_type": "code",
      "metadata": {
        "id": "f37-gBgnOJPL"
      },
      "source": [
        "y_train = y_train.reshape(-1,1,4)\n",
        "y_test = y_test.reshape(-1,1,4)"
      ],
      "execution_count": 74,
      "outputs": []
    },
    {
      "cell_type": "code",
      "metadata": {
        "id": "2iUjx1htEUVb"
      },
      "source": [
        "# Saving best model each time\n",
        "from keras.callbacks import ModelCheckpoint\n",
        "checkpoint = ModelCheckpoint('/content/drive/My Drive/CNN10tsweight611{epoch:08d}.h5', save_best_only=True) "
      ],
      "execution_count": 170,
      "outputs": []
    },
    {
      "cell_type": "code",
      "metadata": {
        "id": "Uko29yqbNW2_",
        "outputId": "688f65c1-7c54-4101-919c-86b0d2e74c96",
        "colab": {
          "base_uri": "https://localhost:8080/"
        }
      },
      "source": [
        "CNN_10ts_weight = model_CNN.fit(X_train, y_train, epochs = 40, validation_data= (X_test, y_test), callbacks=[checkpoint], batch_size=400, sample_weight=class_weights)"
      ],
      "execution_count": 171,
      "outputs": [
        {
          "output_type": "stream",
          "text": [
            "Epoch 1/40\n",
            "3145/3145 [==============================] - 159s 51ms/step - loss: 9.5079 - categorical_accuracy: 0.6667 - f1_m: 0.6431 - val_loss: 0.7919 - val_categorical_accuracy: 0.7158 - val_f1_m: 0.7055\n",
            "Epoch 2/40\n",
            "3145/3145 [==============================] - 162s 51ms/step - loss: 8.0970 - categorical_accuracy: 0.7196 - f1_m: 0.7120 - val_loss: 0.7423 - val_categorical_accuracy: 0.7328 - val_f1_m: 0.7243\n",
            "Epoch 3/40\n",
            "3145/3145 [==============================] - 163s 52ms/step - loss: 7.2881 - categorical_accuracy: 0.7492 - f1_m: 0.7440 - val_loss: 0.7105 - val_categorical_accuracy: 0.7456 - val_f1_m: 0.7395\n",
            "Epoch 4/40\n",
            "3145/3145 [==============================] - 163s 52ms/step - loss: 6.7238 - categorical_accuracy: 0.7693 - f1_m: 0.7651 - val_loss: 0.7016 - val_categorical_accuracy: 0.7510 - val_f1_m: 0.7470\n",
            "Epoch 5/40\n",
            "3145/3145 [==============================] - 161s 51ms/step - loss: 6.3130 - categorical_accuracy: 0.7835 - f1_m: 0.7803 - val_loss: 0.6949 - val_categorical_accuracy: 0.7523 - val_f1_m: 0.7483\n",
            "Epoch 6/40\n",
            "3145/3145 [==============================] - 166s 53ms/step - loss: 5.9955 - categorical_accuracy: 0.7950 - f1_m: 0.7921 - val_loss: 0.6898 - val_categorical_accuracy: 0.7566 - val_f1_m: 0.7530\n",
            "Epoch 7/40\n",
            "3145/3145 [==============================] - 164s 52ms/step - loss: 5.7324 - categorical_accuracy: 0.8044 - f1_m: 0.8020 - val_loss: 0.6899 - val_categorical_accuracy: 0.7558 - val_f1_m: 0.7521\n",
            "Epoch 8/40\n",
            "3145/3145 [==============================] - 169s 54ms/step - loss: 5.5080 - categorical_accuracy: 0.8119 - f1_m: 0.8096 - val_loss: 0.6943 - val_categorical_accuracy: 0.7573 - val_f1_m: 0.7540\n",
            "Epoch 9/40\n",
            "3145/3145 [==============================] - 166s 53ms/step - loss: 5.3143 - categorical_accuracy: 0.8183 - f1_m: 0.8165 - val_loss: 0.6957 - val_categorical_accuracy: 0.7592 - val_f1_m: 0.7557\n",
            "Epoch 10/40\n",
            "3145/3145 [==============================] - 171s 54ms/step - loss: 5.1535 - categorical_accuracy: 0.8238 - f1_m: 0.8221 - val_loss: 0.6964 - val_categorical_accuracy: 0.7621 - val_f1_m: 0.7591\n",
            "Epoch 11/40\n",
            "3145/3145 [==============================] - 163s 52ms/step - loss: 5.0033 - categorical_accuracy: 0.8286 - f1_m: 0.8270 - val_loss: 0.6947 - val_categorical_accuracy: 0.7631 - val_f1_m: 0.7608\n",
            "Epoch 12/40\n",
            "3145/3145 [==============================] - 156s 50ms/step - loss: 4.8720 - categorical_accuracy: 0.8328 - f1_m: 0.8315 - val_loss: 0.6923 - val_categorical_accuracy: 0.7675 - val_f1_m: 0.7656\n",
            "Epoch 13/40\n",
            "3145/3145 [==============================] - 153s 49ms/step - loss: 4.7497 - categorical_accuracy: 0.8371 - f1_m: 0.8359 - val_loss: 0.7016 - val_categorical_accuracy: 0.7656 - val_f1_m: 0.7632\n",
            "Epoch 14/40\n",
            "3145/3145 [==============================] - 153s 49ms/step - loss: 4.6420 - categorical_accuracy: 0.8403 - f1_m: 0.8392 - val_loss: 0.7093 - val_categorical_accuracy: 0.7634 - val_f1_m: 0.7608\n",
            "Epoch 15/40\n",
            "3145/3145 [==============================] - 153s 49ms/step - loss: 4.5421 - categorical_accuracy: 0.8435 - f1_m: 0.8425 - val_loss: 0.7206 - val_categorical_accuracy: 0.7604 - val_f1_m: 0.7576\n",
            "Epoch 16/40\n",
            "3145/3145 [==============================] - 154s 49ms/step - loss: 4.4522 - categorical_accuracy: 0.8466 - f1_m: 0.8457 - val_loss: 0.7145 - val_categorical_accuracy: 0.7649 - val_f1_m: 0.7629\n",
            "Epoch 17/40\n",
            "3145/3145 [==============================] - 160s 51ms/step - loss: 4.3612 - categorical_accuracy: 0.8492 - f1_m: 0.8484 - val_loss: 0.7282 - val_categorical_accuracy: 0.7624 - val_f1_m: 0.7601\n",
            "Epoch 18/40\n",
            "3145/3145 [==============================] - 166s 53ms/step - loss: 4.2781 - categorical_accuracy: 0.8520 - f1_m: 0.8513 - val_loss: 0.7331 - val_categorical_accuracy: 0.7597 - val_f1_m: 0.7574\n",
            "Epoch 19/40\n",
            "3145/3145 [==============================] - 165s 53ms/step - loss: 4.2081 - categorical_accuracy: 0.8542 - f1_m: 0.8534 - val_loss: 0.7400 - val_categorical_accuracy: 0.7579 - val_f1_m: 0.7557\n",
            "Epoch 20/40\n",
            "3145/3145 [==============================] - 166s 53ms/step - loss: 4.1296 - categorical_accuracy: 0.8570 - f1_m: 0.8563 - val_loss: 0.7436 - val_categorical_accuracy: 0.7611 - val_f1_m: 0.7590\n",
            "Epoch 21/40\n",
            "3145/3145 [==============================] - 165s 52ms/step - loss: 4.0623 - categorical_accuracy: 0.8593 - f1_m: 0.8585 - val_loss: 0.7387 - val_categorical_accuracy: 0.7664 - val_f1_m: 0.7649\n",
            "Epoch 22/40\n",
            "3145/3145 [==============================] - 160s 51ms/step - loss: 3.9960 - categorical_accuracy: 0.8614 - f1_m: 0.8608 - val_loss: 0.7508 - val_categorical_accuracy: 0.7621 - val_f1_m: 0.7600\n",
            "Epoch 23/40\n",
            "3145/3145 [==============================] - 161s 51ms/step - loss: 3.9387 - categorical_accuracy: 0.8633 - f1_m: 0.8627 - val_loss: 0.7583 - val_categorical_accuracy: 0.7628 - val_f1_m: 0.7611\n",
            "Epoch 24/40\n",
            "3145/3145 [==============================] - 164s 52ms/step - loss: 3.8779 - categorical_accuracy: 0.8653 - f1_m: 0.8647 - val_loss: 0.7577 - val_categorical_accuracy: 0.7657 - val_f1_m: 0.7645\n",
            "Epoch 25/40\n",
            "3145/3145 [==============================] - 164s 52ms/step - loss: 3.8307 - categorical_accuracy: 0.8669 - f1_m: 0.8663 - val_loss: 0.7640 - val_categorical_accuracy: 0.7593 - val_f1_m: 0.7571\n",
            "Epoch 26/40\n",
            "3145/3145 [==============================] - 164s 52ms/step - loss: 3.7708 - categorical_accuracy: 0.8686 - f1_m: 0.8681 - val_loss: 0.7728 - val_categorical_accuracy: 0.7605 - val_f1_m: 0.7589\n",
            "Epoch 27/40\n",
            "3145/3145 [==============================] - 169s 54ms/step - loss: 3.7215 - categorical_accuracy: 0.8701 - f1_m: 0.8696 - val_loss: 0.7736 - val_categorical_accuracy: 0.7592 - val_f1_m: 0.7572\n",
            "Epoch 28/40\n",
            "3145/3145 [==============================] - 167s 53ms/step - loss: 3.6745 - categorical_accuracy: 0.8719 - f1_m: 0.8715 - val_loss: 0.7801 - val_categorical_accuracy: 0.7615 - val_f1_m: 0.7601\n",
            "Epoch 29/40\n",
            "3145/3145 [==============================] - 165s 53ms/step - loss: 3.6340 - categorical_accuracy: 0.8733 - f1_m: 0.8729 - val_loss: 0.7837 - val_categorical_accuracy: 0.7601 - val_f1_m: 0.7586\n",
            "Epoch 30/40\n",
            " 966/3145 [========>.....................] - ETA: 1:40 - loss: 3.4749 - categorical_accuracy: 0.8792 - f1_m: 0.8787Buffered data was truncated after reaching the output size limit."
          ],
          "name": "stdout"
        }
      ]
    },
    {
      "cell_type": "code",
      "metadata": {
        "id": "NCToo2qxlXo_",
        "outputId": "0922426a-04ae-43af-a496-2c0a76fc7fc0",
        "colab": {
          "base_uri": "https://localhost:8080/"
        }
      },
      "source": [
        "CNN_10ts = model_CNN.fit(X_train, y_train, epochs = 20, validation_data= (X_test, y_test), callbacks=[checkpoint], batch_size=240)"
      ],
      "execution_count": 86,
      "outputs": [
        {
          "output_type": "stream",
          "text": [
            "Epoch 1/20\n",
            "5242/5242 [==============================] - 189s 36ms/step - loss: 0.8930 - categorical_accuracy: 0.6530 - f1_m: 0.6309 - val_loss: 0.8035 - val_categorical_accuracy: 0.7083 - val_f1_m: 0.6958\n",
            "Epoch 2/20\n",
            "5242/5242 [==============================] - 186s 35ms/step - loss: 0.7783 - categorical_accuracy: 0.7025 - f1_m: 0.6935 - val_loss: 0.7542 - val_categorical_accuracy: 0.7281 - val_f1_m: 0.7189\n",
            "Epoch 3/20\n",
            "5242/5242 [==============================] - 190s 36ms/step - loss: 0.7191 - categorical_accuracy: 0.7270 - f1_m: 0.7203 - val_loss: 0.7363 - val_categorical_accuracy: 0.7318 - val_f1_m: 0.7247\n",
            "Epoch 4/20\n",
            "5242/5242 [==============================] - 192s 37ms/step - loss: 0.6810 - categorical_accuracy: 0.7422 - f1_m: 0.7367 - val_loss: 0.7068 - val_categorical_accuracy: 0.7472 - val_f1_m: 0.7421\n",
            "Epoch 5/20\n",
            "5242/5242 [==============================] - 193s 37ms/step - loss: 0.6541 - categorical_accuracy: 0.7527 - f1_m: 0.7480 - val_loss: 0.7035 - val_categorical_accuracy: 0.7463 - val_f1_m: 0.7417\n",
            "Epoch 6/20\n",
            "5242/5242 [==============================] - 195s 37ms/step - loss: 0.6342 - categorical_accuracy: 0.7611 - f1_m: 0.7567 - val_loss: 0.6841 - val_categorical_accuracy: 0.7562 - val_f1_m: 0.7530\n",
            "Epoch 7/20\n",
            "5242/5242 [==============================] - 185s 35ms/step - loss: 0.6158 - categorical_accuracy: 0.7681 - f1_m: 0.7643 - val_loss: 0.6977 - val_categorical_accuracy: 0.7482 - val_f1_m: 0.7432\n",
            "Epoch 8/20\n",
            "5242/5242 [==============================] - 183s 35ms/step - loss: 0.6015 - categorical_accuracy: 0.7735 - f1_m: 0.7700 - val_loss: 0.6762 - val_categorical_accuracy: 0.7585 - val_f1_m: 0.7544\n",
            "Epoch 9/20\n",
            "5242/5242 [==============================] - 186s 36ms/step - loss: 0.5886 - categorical_accuracy: 0.7787 - f1_m: 0.7756 - val_loss: 0.6941 - val_categorical_accuracy: 0.7495 - val_f1_m: 0.7455\n",
            "Epoch 10/20\n",
            "5242/5242 [==============================] - 194s 37ms/step - loss: 0.5779 - categorical_accuracy: 0.7829 - f1_m: 0.7798 - val_loss: 0.6694 - val_categorical_accuracy: 0.7606 - val_f1_m: 0.7572\n",
            "Epoch 11/20\n",
            "5242/5242 [==============================] - 193s 37ms/step - loss: 0.5687 - categorical_accuracy: 0.7860 - f1_m: 0.7832 - val_loss: 0.6700 - val_categorical_accuracy: 0.7612 - val_f1_m: 0.7577\n",
            "Epoch 12/20\n",
            "5242/5242 [==============================] - 193s 37ms/step - loss: 0.5594 - categorical_accuracy: 0.7898 - f1_m: 0.7871 - val_loss: 0.6713 - val_categorical_accuracy: 0.7597 - val_f1_m: 0.7562\n",
            "Epoch 13/20\n",
            "5242/5242 [==============================] - 192s 37ms/step - loss: 0.5514 - categorical_accuracy: 0.7929 - f1_m: 0.7902 - val_loss: 0.6619 - val_categorical_accuracy: 0.7667 - val_f1_m: 0.7639\n",
            "Epoch 14/20\n",
            "5242/5242 [==============================] - 192s 37ms/step - loss: 0.5445 - categorical_accuracy: 0.7953 - f1_m: 0.7929 - val_loss: 0.6652 - val_categorical_accuracy: 0.7640 - val_f1_m: 0.7610\n",
            "Epoch 15/20\n",
            "5242/5242 [==============================] - 193s 37ms/step - loss: 0.5387 - categorical_accuracy: 0.7977 - f1_m: 0.7952 - val_loss: 0.6606 - val_categorical_accuracy: 0.7663 - val_f1_m: 0.7637\n",
            "Epoch 16/20\n",
            "5242/5242 [==============================] - 198s 38ms/step - loss: 0.5329 - categorical_accuracy: 0.7999 - f1_m: 0.7977 - val_loss: 0.6569 - val_categorical_accuracy: 0.7686 - val_f1_m: 0.7661\n",
            "Epoch 17/20\n",
            "5242/5242 [==============================] - 196s 37ms/step - loss: 0.5264 - categorical_accuracy: 0.8022 - f1_m: 0.8001 - val_loss: 0.6657 - val_categorical_accuracy: 0.7645 - val_f1_m: 0.7621\n",
            "Epoch 18/20\n",
            "5242/5242 [==============================] - 200s 38ms/step - loss: 0.5216 - categorical_accuracy: 0.8042 - f1_m: 0.8020 - val_loss: 0.6616 - val_categorical_accuracy: 0.7657 - val_f1_m: 0.7627\n",
            "Epoch 19/20\n",
            "5242/5242 [==============================] - 200s 38ms/step - loss: 0.5167 - categorical_accuracy: 0.8057 - f1_m: 0.8036 - val_loss: 0.6617 - val_categorical_accuracy: 0.7662 - val_f1_m: 0.7637\n",
            "Epoch 20/20\n",
            "5242/5242 [==============================] - 195s 37ms/step - loss: 0.5110 - categorical_accuracy: 0.8081 - f1_m: 0.8062 - val_loss: 0.6535 - val_categorical_accuracy: 0.7707 - val_f1_m: 0.7686\n"
          ],
          "name": "stdout"
        }
      ]
    },
    {
      "cell_type": "code",
      "metadata": {
        "id": "NpiBLwJR3Z1l",
        "outputId": "9d76fdb6-233c-4bc0-9841-bfcb4af76503",
        "colab": {
          "base_uri": "https://localhost:8080/"
        }
      },
      "source": [
        "CNN_swish = model_CNN.fit(X_train, y_train, epochs = 40, validation_data= (X_test, y_test), callbacks=[checkpoint], batch_size=240, sample_weight=class_weights)"
      ],
      "execution_count": null,
      "outputs": [
        {
          "output_type": "stream",
          "text": [
            "Epoch 1/40\n",
            "5239/5239 [==============================] - 181s 34ms/step - loss: 8.1394 - categorical_accuracy: 0.7152 - f1_m: 0.7072 - val_loss: 0.7740 - val_categorical_accuracy: 0.7152 - val_f1_m: 0.7086\n",
            "Epoch 2/40\n",
            "5239/5239 [==============================] - 179s 34ms/step - loss: 7.5910 - categorical_accuracy: 0.7366 - f1_m: 0.7311 - val_loss: 0.7755 - val_categorical_accuracy: 0.7143 - val_f1_m: 0.7074\n",
            "Epoch 3/40\n",
            "5239/5239 [==============================] - 179s 34ms/step - loss: 7.3361 - categorical_accuracy: 0.7467 - f1_m: 0.7418 - val_loss: 0.7632 - val_categorical_accuracy: 0.7212 - val_f1_m: 0.7158\n",
            "Epoch 4/40\n",
            "5239/5239 [==============================] - 181s 35ms/step - loss: 7.1440 - categorical_accuracy: 0.7547 - f1_m: 0.7505 - val_loss: 0.7523 - val_categorical_accuracy: 0.7266 - val_f1_m: 0.7214\n",
            "Epoch 5/40\n",
            "5239/5239 [==============================] - 178s 34ms/step - loss: 6.9978 - categorical_accuracy: 0.7601 - f1_m: 0.7560 - val_loss: 0.7438 - val_categorical_accuracy: 0.7294 - val_f1_m: 0.7247\n",
            "Epoch 6/40\n",
            "5239/5239 [==============================] - 181s 34ms/step - loss: 6.8750 - categorical_accuracy: 0.7650 - f1_m: 0.7614 - val_loss: 0.7404 - val_categorical_accuracy: 0.7321 - val_f1_m: 0.7280\n",
            "Epoch 7/40\n",
            "5239/5239 [==============================] - 179s 34ms/step - loss: 6.7813 - categorical_accuracy: 0.7685 - f1_m: 0.7649 - val_loss: 0.7314 - val_categorical_accuracy: 0.7363 - val_f1_m: 0.7329\n",
            "Epoch 8/40\n",
            "5239/5239 [==============================] - 178s 34ms/step - loss: 6.6878 - categorical_accuracy: 0.7718 - f1_m: 0.7687 - val_loss: 0.7404 - val_categorical_accuracy: 0.7331 - val_f1_m: 0.7287\n",
            "Epoch 9/40\n",
            "5239/5239 [==============================] - 178s 34ms/step - loss: 6.6141 - categorical_accuracy: 0.7747 - f1_m: 0.7716 - val_loss: 0.7359 - val_categorical_accuracy: 0.7368 - val_f1_m: 0.7331\n",
            "Epoch 10/40\n",
            "5239/5239 [==============================] - 178s 34ms/step - loss: 6.5414 - categorical_accuracy: 0.7773 - f1_m: 0.7744 - val_loss: 0.7280 - val_categorical_accuracy: 0.7392 - val_f1_m: 0.7355\n",
            "Epoch 11/40\n",
            "5239/5239 [==============================] - 178s 34ms/step - loss: 6.4782 - categorical_accuracy: 0.7801 - f1_m: 0.7773 - val_loss: 0.7332 - val_categorical_accuracy: 0.7387 - val_f1_m: 0.7359\n",
            "Epoch 12/40\n",
            "5239/5239 [==============================] - 180s 34ms/step - loss: 6.4213 - categorical_accuracy: 0.7822 - f1_m: 0.7794 - val_loss: 0.7247 - val_categorical_accuracy: 0.7410 - val_f1_m: 0.7378\n",
            "Epoch 13/40\n",
            "5239/5239 [==============================] - 180s 34ms/step - loss: 6.3651 - categorical_accuracy: 0.7837 - f1_m: 0.7809 - val_loss: 0.7249 - val_categorical_accuracy: 0.7411 - val_f1_m: 0.7383\n",
            "Epoch 14/40\n",
            "5239/5239 [==============================] - 179s 34ms/step - loss: 6.3129 - categorical_accuracy: 0.7859 - f1_m: 0.7834 - val_loss: 0.7271 - val_categorical_accuracy: 0.7403 - val_f1_m: 0.7374\n",
            "Epoch 15/40\n",
            "5239/5239 [==============================] - 179s 34ms/step - loss: 6.2622 - categorical_accuracy: 0.7877 - f1_m: 0.7853 - val_loss: 0.7257 - val_categorical_accuracy: 0.7411 - val_f1_m: 0.7385\n",
            "Epoch 16/40\n",
            "5239/5239 [==============================] - 178s 34ms/step - loss: 6.2203 - categorical_accuracy: 0.7890 - f1_m: 0.7867 - val_loss: 0.7197 - val_categorical_accuracy: 0.7447 - val_f1_m: 0.7422\n",
            "Epoch 17/40\n",
            "5239/5239 [==============================] - 180s 34ms/step - loss: 6.1860 - categorical_accuracy: 0.7908 - f1_m: 0.7883 - val_loss: 0.7241 - val_categorical_accuracy: 0.7425 - val_f1_m: 0.7397\n",
            "Epoch 18/40\n",
            "5239/5239 [==============================] - 179s 34ms/step - loss: 6.1370 - categorical_accuracy: 0.7921 - f1_m: 0.7899 - val_loss: 0.7220 - val_categorical_accuracy: 0.7441 - val_f1_m: 0.7415\n",
            "Epoch 19/40\n",
            "5239/5239 [==============================] - 180s 34ms/step - loss: 6.1034 - categorical_accuracy: 0.7935 - f1_m: 0.7912 - val_loss: 0.7220 - val_categorical_accuracy: 0.7438 - val_f1_m: 0.7407\n",
            "Epoch 20/40\n",
            "5239/5239 [==============================] - 180s 34ms/step - loss: 6.0729 - categorical_accuracy: 0.7946 - f1_m: 0.7926 - val_loss: 0.7269 - val_categorical_accuracy: 0.7413 - val_f1_m: 0.7385\n",
            "Epoch 21/40\n",
            " 985/5239 [====>.........................] - ETA: 2:13 - loss: 5.9815 - categorical_accuracy: 0.7968 - f1_m: 0.7948Buffered data was truncated after reaching the output size limit."
          ],
          "name": "stdout"
        }
      ]
    },
    {
      "cell_type": "code",
      "metadata": {
        "id": "xINhHmrR1yA4"
      },
      "source": [
        "RNN_history = model.fit(X_train, y_train, epochs = 40, validation_data= (X_test, y_test), callbacks=[checkpoint], batch_size=240)\n"
      ],
      "execution_count": null,
      "outputs": []
    },
    {
      "cell_type": "code",
      "metadata": {
        "id": "-LIuuIcCMbr4",
        "outputId": "1036b2c5-5f72-485a-b4e3-f6976569c8c2",
        "colab": {
          "base_uri": "https://localhost:8080/"
        }
      },
      "source": [
        "model_CNN.output_shape"
      ],
      "execution_count": null,
      "outputs": [
        {
          "output_type": "execute_result",
          "data": {
            "text/plain": [
              "(None, 1, 4)"
            ]
          },
          "metadata": {
            "tags": []
          },
          "execution_count": 379
        }
      ]
    },
    {
      "cell_type": "code",
      "metadata": {
        "id": "0AO3Ltwhtjly"
      },
      "source": [
        "# Load model if needed\n",
        "from keras.models import load_model\n",
        "CNN_model = load_model('/content/drive/My Drive/CNNdnkmfull41100000023.h5', custom_objects={'f1_m': f1_m})"
      ],
      "execution_count": null,
      "outputs": []
    },
    {
      "cell_type": "code",
      "metadata": {
        "id": "rOxxTEorgtfe"
      },
      "source": [
        "# Function to split test data into proper inputs\n",
        "def split_test_sequences(sequences, n_steps):\n",
        "  X = list()\n",
        "  end_flag = True \n",
        "  for i in range(0,len(sequences)):\n",
        "    # find the end of this pattern\n",
        "    end_ix = i + n_steps\n",
        "    # check if we are beyond the dataset\n",
        "    if end_ix > len(sequences):\n",
        "      end_flag = False\n",
        "      for j in range(i, len(sequences)):  \n",
        "        seq_x = sequences[j:, :]\n",
        "        if seq_x.shape[0] < 10:\n",
        "          add_x = sequences[-(10-seq_x.shape[0]):,:]\n",
        "          seq_x = np.r_[seq_x, add_x]\n",
        "        X.append(seq_x)\n",
        "      break\n",
        "    # gather input and output parts of the pattern\n",
        "    if (end_flag):\n",
        "      seq_x = sequences[i:end_ix, :]\n",
        "      X.append(seq_x)\n",
        "  return array(X)"
      ],
      "execution_count": 138,
      "outputs": []
    },
    {
      "cell_type": "code",
      "metadata": {
        "id": "pEVgu9wIB9_q",
        "outputId": "1be4c6b8-874d-476c-c8d1-cc83ad320d12",
        "colab": {
          "base_uri": "https://localhost:8080/"
        }
      },
      "source": [
        "model_CNN.input_shape"
      ],
      "execution_count": 88,
      "outputs": [
        {
          "output_type": "execute_result",
          "data": {
            "text/plain": [
              "(None, 1, 60)"
            ]
          },
          "metadata": {
            "tags": []
          },
          "execution_count": 88
        }
      ]
    },
    {
      "cell_type": "code",
      "metadata": {
        "id": "D8kd-3NmNoHG"
      },
      "source": [
        "# Code block to transform the test data into inputs and join with y_time to get the prediction at that specific y_time\n",
        "test_filenames = [i for i in glob.glob('/content/drive/My Drive/TestData/*.{}'.format('csv'))]\n",
        "df_x, df_x_time, df_y_time = [], [], []\n",
        "for f in test_filenames:\n",
        "  if '012' in f:\n",
        "    if f.endswith('x.csv'):\n",
        "      df = pd.read_csv(f, header=None)\n",
        "      df['subject'] = f.split('/')[-1].split('_')[1]\n",
        "      df['subject_ID'] = f.split('/')[-1].split('_')[2]\n",
        "      df_x.append(df)\n",
        "    if f.endswith('x_time.csv'):\n",
        "      df = pd.read_csv(f, header=None)\n",
        "      df_x_time.append(df)\n",
        "    if f.endswith('y_time.csv'):\n",
        "      df = pd.read_csv(f, header=None)\n",
        "      df['subject'] = f.split('/')[-1].split('_')[1]\n",
        "      df['subject_ID'] = f.split('/')[-1].split('_')[2]\n",
        "      df_y_time.append(df)\n",
        "    \n",
        "test_x = pd.concat(df_x, ignore_index=True)\n",
        "test_x.columns = ['x1', 'x2', 'x3', 'x4', 'x5', 'x6', 'subject', 'subject_ID']\n",
        "test_x_time = pd.concat(df_x_time, ignore_index=True)\n",
        "test_x_time.columns = ['x_time']\n",
        "test_y_time = pd.concat(df_y_time, ignore_index=True)\n",
        "test_y_time.columns = ['time', 'subject', 'subject_ID']\n",
        "test_x['time'] = test_x_time['x_time']\n",
        "test_y_time['time'] = [round(x + 0.005,3) for x in test_y_time['time']]\n",
        "final_test = pd.merge(test_x, test_y_time, on=['time', 'subject', 'subject_ID'], how='left')\n",
        "in_seq1 = final_test['x1'].to_numpy().reshape((len(final_test['x1']), 1))\n",
        "in_seq2 = final_test['x2'].to_numpy().reshape((len(final_test['x2']), 1))\n",
        "in_seq3 = final_test['x3'].to_numpy().reshape((len(final_test['x3']), 1))\n",
        "in_seq4 = final_test['x4'].to_numpy().reshape((len(final_test['x4']), 1))\n",
        "in_seq5 = final_test['x5'].to_numpy().reshape((len(final_test['x5']), 1))\n",
        "in_seq6 = final_test['x6'].to_numpy().reshape((len(final_test['x6']), 1))\n",
        "dataset = np.hstack((in_seq1, in_seq2, in_seq3, in_seq4, in_seq5, in_seq6))\n",
        "test_x = split_test_sequences(dataset, 10)\n",
        "# scaler = StandardScaler()\n",
        "test_x = scaler.transform(test_x.reshape(-1,60))\n",
        "test = test_x.reshape(-1,1,60)\n",
        "y_pred = model_CNN.predict(test)\n",
        "y_pred = np.argmax(y_pred.reshape(-1,4), axis=1)\n",
        "final_test['y_pred'] = y_pred\n",
        "pred = pd.merge(final_test, test_y_time, on=['time', 'subject', 'subject_ID'], how='inner')['y_pred']\n",
        "pred.to_csv(\"subject_012_01__y_prediction.csv\", index=False, header=False)\n",
        "# np.savetxt(\"subject_009_01__y_prediction.csv\", y_pred, delimiter=\",\")"
      ],
      "execution_count": 163,
      "outputs": []
    },
    {
      "cell_type": "code",
      "metadata": {
        "id": "5BkP2upGVNFa",
        "outputId": "1765e016-4d1d-4886-efe2-c2bef122fd6d",
        "colab": {
          "base_uri": "https://localhost:8080/"
        }
      },
      "source": [
        "pred.shape"
      ],
      "execution_count": 162,
      "outputs": [
        {
          "output_type": "execute_result",
          "data": {
            "text/plain": [
              "(12940,)"
            ]
          },
          "metadata": {
            "tags": []
          },
          "execution_count": 162
        }
      ]
    },
    {
      "cell_type": "code",
      "metadata": {
        "id": "Ktb40ZSNlP7B"
      },
      "source": [
        "import matplotlib.pyplot as plt\n",
        "\n",
        "# Function to plot accuracy and loss graphs\n",
        "def plot_history(history):\n",
        "\t  # plot loss\n",
        "    plt.title('Loss')\n",
        "    plt.plot(history.history['loss'], color='blue', label='train')\n",
        "    plt.plot(history.history['val_loss'], color='red', label='test')\n",
        "    plt.ylabel('Loss')\n",
        "    plt.xlabel('Epoch')\n",
        "    plt.legend(['Train', 'Validation'])\n",
        "    plt.show()\n",
        "    \n",
        "    # plot accuracy\n",
        "    plt.title('Accuracy')\n",
        "    plt.plot(history.history['categorical_accuracy'], color='blue', label='train')\n",
        "    plt.plot(history.history['val_categorical_accuracy'], color='red', label='test')\n",
        "    plt.ylabel('Accuracy')\n",
        "    plt.xlabel('Epoch')\n",
        "    plt.legend(['Train', 'Validation'])\n",
        "    plt.show()"
      ],
      "execution_count": null,
      "outputs": []
    },
    {
      "cell_type": "code",
      "metadata": {
        "id": "epqPE4byfxB6",
        "outputId": "f26bd81d-85ac-40ac-a00e-8e8e47141123",
        "colab": {
          "base_uri": "https://localhost:8080/",
          "height": 573
        }
      },
      "source": [
        "plot_history(CNN_Swish_history)"
      ],
      "execution_count": null,
      "outputs": [
        {
          "output_type": "display_data",
          "data": {
            "image/png": "[encoded data removed]",
            "text/plain": [
              "<Figure size 432x288 with 1 Axes>"
            ]
          },
          "metadata": {
            "tags": [],
            "needs_background": "light"
          }
        },
        {
          "output_type": "display_data",
          "data": {
            "image/png": "[encoded data removed]",
            "text/plain": [
              "<Figure size 432x288 with 1 Axes>"
            ]
          },
          "metadata": {
            "tags": [],
            "needs_background": "light"
          }
        }
      ]
    },
    {
      "cell_type": "code",
      "metadata": {
        "id": "29w2NxAfp-vV"
      },
      "source": [
        "# Plotting f1 metric\n",
        "plt.plot(RNN_history.history['f1_m'], color='blue', label='train')\n",
        "plt.plot(RNN_history.history['val_f1_m'], color='red', label='test')\n",
        "plt.ylabel('F1 Scores')\n",
        "plt.xlabel('Epoch')\n",
        "plt.legend(['Train', 'Validation'])"
      ],
      "execution_count": null,
      "outputs": []
    },
    {
      "cell_type": "code",
      "metadata": {
        "id": "ipYyBrJ5-UKT",
        "outputId": "4b11052d-9b25-4cd9-b5cb-4dc9423e64f2",
        "colab": {
          "base_uri": "https://localhost:8080/"
        }
      },
      "source": [
        "# Classification report for the model on the test data we split using test_train_split\n",
        "from sklearn.metrics import classification_report\n",
        "y_p = model_CNN.predict(X_test)\n",
        "y_p = np.argmax(y_p.reshape(-1,4), axis=1)\n",
        "y_test_n = np.argmax(y_test.reshape(-1,4), axis=1)\n",
        "print(classification_report(y_test_n, y_p))"
      ],
      "execution_count": 87,
      "outputs": [
        {
          "output_type": "stream",
          "text": [
            "              precision    recall  f1-score   support\n",
            "\n",
            "           0       0.82      0.91      0.86    305214\n",
            "           1       0.42      0.40      0.41     24503\n",
            "           2       0.47      0.25      0.33     18154\n",
            "           3       0.66      0.38      0.49     62252\n",
            "\n",
            "    accuracy                           0.77    410123\n",
            "   macro avg       0.59      0.49      0.52    410123\n",
            "weighted avg       0.75      0.77      0.75    410123\n",
            "\n"
          ],
          "name": "stdout"
        }
      ]
    },
    {
      "cell_type": "code",
      "metadata": {
        "id": "cBofQgLUkpIc",
        "outputId": "8ea4a126-0ae5-4240-e9bd-045d17d3fe4c",
        "colab": {
          "base_uri": "https://localhost:8080/"
        }
      },
      "source": [
        "from sklearn.metrics import classification_report\n",
        "y_p = model_CNN.predict(X_test)\n",
        "y_p = np.argmax(y_p.reshape(-1,4), axis=1)\n",
        "y_test_n = np.argmax(y_test.reshape(-1,4), axis=1)\n",
        "print(classification_report(y_test_n, y_p))"
      ],
      "execution_count": 172,
      "outputs": [
        {
          "output_type": "stream",
          "text": [
            "              precision    recall  f1-score   support\n",
            "\n",
            "           0       0.82      0.88      0.85    305214\n",
            "           1       0.42      0.40      0.41     24503\n",
            "           2       0.40      0.29      0.34     18154\n",
            "           3       0.58      0.43      0.50     62252\n",
            "\n",
            "    accuracy                           0.76    410123\n",
            "   macro avg       0.56      0.50      0.52    410123\n",
            "weighted avg       0.74      0.76      0.75    410123\n",
            "\n"
          ],
          "name": "stdout"
        }
      ]
    },
    {
      "cell_type": "code",
      "metadata": {
        "id": "k61wqr-3AAEW",
        "outputId": "0ab3348f-b3a4-4fae-a716-22d8958875b2",
        "colab": {
          "base_uri": "https://localhost:8080/"
        }
      },
      "source": [
        "from sklearn.metrics import classification_report\n",
        "y_p = model.predict(X_test)\n",
        "y_p = np.argmax(y_p.reshape(-1,4), axis=1)\n",
        "y_test_n = np.argmax(y_test.reshape(-1,4), axis=1)\n",
        "print(classification_report(y_test_n, y_p))"
      ],
      "execution_count": null,
      "outputs": [
        {
          "output_type": "stream",
          "text": [
            "              precision    recall  f1-score   support\n",
            "\n",
            "           0       0.78      0.92      0.84    304469\n",
            "           1       0.33      0.20      0.25     27394\n",
            "           2       0.28      0.18      0.22     15429\n",
            "           3       0.57      0.22      0.31     62833\n",
            "\n",
            "    accuracy                           0.73    410125\n",
            "   macro avg       0.49      0.38      0.41    410125\n",
            "weighted avg       0.70      0.73      0.70    410125\n",
            "\n"
          ],
          "name": "stdout"
        }
      ]
    },
    {
      "cell_type": "code",
      "metadata": {
        "id": "9jV-GGKHlBPU",
        "outputId": "3678dab4-33a4-4f27-b2b9-8a1895a1bd41",
        "colab": {
          "base_uri": "https://localhost:8080/"
        }
      },
      "source": [
        "y_test_n = np.argmax(y_test.reshape(-1,4), axis=1)\n",
        "print(classification_report(y_test_n, y_p))"
      ],
      "execution_count": null,
      "outputs": [
        {
          "output_type": "stream",
          "text": [
            "              precision    recall  f1-score   support\n",
            "\n",
            "           0       0.79      0.92      0.85    304469\n",
            "           1       0.38      0.29      0.33     27394\n",
            "           2       0.35      0.20      0.25     15429\n",
            "           3       0.62      0.27      0.38     62833\n",
            "\n",
            "    accuracy                           0.75    410125\n",
            "   macro avg       0.54      0.42      0.45    410125\n",
            "weighted avg       0.72      0.75      0.72    410125\n",
            "\n"
          ],
          "name": "stdout"
        }
      ]
    },
    {
      "cell_type": "code",
      "metadata": {
        "id": "Qe9A-ai5ub4U",
        "outputId": "0eb2fd99-4883-4480-c2dc-456f6981ba05",
        "colab": {
          "base_uri": "https://localhost:8080/"
        }
      },
      "source": [
        "from sklearn.metrics import classification_report\n",
        "y_p = model.predict(X_test)\n",
        "y_p = np.argmax(y_p.reshape(-1,4), axis=1)\n",
        "# y_test = np.argmax(y_test.reshape(-1,1,4), axis=1)\n",
        "print(classification_report(y_test, y_p))"
      ],
      "execution_count": null,
      "outputs": [
        {
          "output_type": "stream",
          "text": [
            "              precision    recall  f1-score   support\n",
            "\n",
            "           0       0.78      0.26      0.39    304469\n",
            "           1       0.11      0.21      0.15     27394\n",
            "           2       0.06      0.62      0.10     15429\n",
            "           3       0.27      0.36      0.31     62833\n",
            "\n",
            "    accuracy                           0.29    410125\n",
            "   macro avg       0.30      0.36      0.24    410125\n",
            "weighted avg       0.63      0.29      0.35    410125\n",
            "\n"
          ],
          "name": "stdout"
        }
      ]
    }
  ]
}