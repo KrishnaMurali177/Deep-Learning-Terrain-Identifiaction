{
  "nbformat": 4,
  "nbformat_minor": 0,
  "metadata": {
    "colab": {
      "name": "Terrain_Identification.ipynb",
      "provenance": [],
      "collapsed_sections": []
    },
    "kernelspec": {
      "name": "python3",
      "display_name": "Python 3"
    }
  },
  "cells": [
    {
      "cell_type": "code",
      "metadata": {
        "id": "D5SToBaWyNH2",
        "outputId": "89d3265e-5886-466e-d4f9-5d43ac78cb09",
        "colab": {
          "base_uri": "https://localhost:8080/",
          "height": 425
        }
      },
      "source": [
        "pip install -U imbalanced-learn"
      ],
      "execution_count": 4,
      "outputs": [
        {
          "output_type": "stream",
          "text": [
            "Collecting imbalanced-learn\n",
            "\u001b[?25l  Downloading https://files.pythonhosted.org/packages/c8/81/8db4d87b03b998fda7c6f835d807c9ae4e3b141f978597b8d7f31600be15/imbalanced_learn-0.7.0-py3-none-any.whl (167kB)\n",
            "\r\u001b[K     |██                              | 10kB 15.5MB/s eta 0:00:01\r\u001b[K     |████                            | 20kB 1.9MB/s eta 0:00:01\r\u001b[K     |█████▉                          | 30kB 2.3MB/s eta 0:00:01\r\u001b[K     |███████▉                        | 40kB 2.6MB/s eta 0:00:01\r\u001b[K     |█████████▉                      | 51kB 2.4MB/s eta 0:00:01\r\u001b[K     |███████████▊                    | 61kB 2.7MB/s eta 0:00:01\r\u001b[K     |█████████████▊                  | 71kB 3.0MB/s eta 0:00:01\r\u001b[K     |███████████████▊                | 81kB 3.1MB/s eta 0:00:01\r\u001b[K     |█████████████████▋              | 92kB 3.0MB/s eta 0:00:01\r\u001b[K     |███████████████████▋            | 102kB 3.2MB/s eta 0:00:01\r\u001b[K     |█████████████████████▋          | 112kB 3.2MB/s eta 0:00:01\r\u001b[K     |███████████████████████▌        | 122kB 3.2MB/s eta 0:00:01\r\u001b[K     |█████████████████████████▌      | 133kB 3.2MB/s eta 0:00:01\r\u001b[K     |███████████████████████████▌    | 143kB 3.2MB/s eta 0:00:01\r\u001b[K     |█████████████████████████████▍  | 153kB 3.2MB/s eta 0:00:01\r\u001b[K     |███████████████████████████████▍| 163kB 3.2MB/s eta 0:00:01\r\u001b[K     |████████████████████████████████| 174kB 3.2MB/s \n",
            "\u001b[?25hRequirement already satisfied, skipping upgrade: numpy>=1.13.3 in /usr/local/lib/python3.6/dist-packages (from imbalanced-learn) (1.18.5)\n",
            "Requirement already satisfied, skipping upgrade: scipy>=0.19.1 in /usr/local/lib/python3.6/dist-packages (from imbalanced-learn) (1.4.1)\n",
            "Requirement already satisfied, skipping upgrade: joblib>=0.11 in /usr/local/lib/python3.6/dist-packages (from imbalanced-learn) (0.17.0)\n",
            "Collecting scikit-learn>=0.23\n",
            "\u001b[?25l  Downloading https://files.pythonhosted.org/packages/5c/a1/273def87037a7fb010512bbc5901c31cfddfca8080bc63b42b26e3cc55b3/scikit_learn-0.23.2-cp36-cp36m-manylinux1_x86_64.whl (6.8MB)\n",
            "\u001b[K     |████████████████████████████████| 6.8MB 4.6MB/s \n",
            "\u001b[?25hCollecting threadpoolctl>=2.0.0\n",
            "  Downloading https://files.pythonhosted.org/packages/f7/12/ec3f2e203afa394a149911729357aa48affc59c20e2c1c8297a60f33f133/threadpoolctl-2.1.0-py3-none-any.whl\n",
            "Installing collected packages: threadpoolctl, scikit-learn, imbalanced-learn\n",
            "  Found existing installation: scikit-learn 0.22.2.post1\n",
            "    Uninstalling scikit-learn-0.22.2.post1:\n",
            "      Successfully uninstalled scikit-learn-0.22.2.post1\n",
            "  Found existing installation: imbalanced-learn 0.4.3\n",
            "    Uninstalling imbalanced-learn-0.4.3:\n",
            "      Successfully uninstalled imbalanced-learn-0.4.3\n",
            "Successfully installed imbalanced-learn-0.7.0 scikit-learn-0.23.2 threadpoolctl-2.1.0\n"
          ],
          "name": "stdout"
        },
        {
          "output_type": "display_data",
          "data": {
            "application/vnd.colab-display-data+json": {
              "pip_warning": {
                "packages": [
                  "imblearn",
                  "sklearn"
                ]
              }
            }
          },
          "metadata": {
            "tags": []
          }
        }
      ]
    },
    {
      "cell_type": "code",
      "metadata": {
        "id": "hqQPm1v6J750"
      },
      "source": [
        "import collections\n",
        "import tensorflow as tf\n",
        "import matplotlib.pyplot as plt\n",
        "from keras.models import Sequential, load_model\n",
        "from keras.layers import Dense, Activation, Embedding, Dropout, TimeDistributed\n",
        "from keras.layers import LSTM, LSTM, SimpleRNN, GRU, Bidirectional, RepeatVector\n",
        "from keras.optimizers import Adam\n",
        "from keras.utils import to_categorical\n",
        "from keras.callbacks import ModelCheckpoint\n",
        "import numpy as np\n",
        "from keras.layers import Conv2D, MaxPooling2D, Flatten, Dense, Activation, BatchNormalization, Dropout\n",
        "\n",
        "from tensorflow.keras import regularizers\n",
        "\n",
        "from keras.optimizers import SGD, Adam, RMSprop\n",
        "from keras.callbacks import Callback\n",
        "from sklearn.metrics import confusion_matrix, f1_score, precision_score, recall_score"
      ],
      "execution_count": 1,
      "outputs": []
    },
    {
      "cell_type": "code",
      "metadata": {
        "id": "dus1jMgXRWS5"
      },
      "source": [
        "import glob\n",
        "import pandas as pd\n",
        "import math\n",
        "from imblearn.over_sampling import SMOTE, KMeansSMOTE\n",
        "from sklearn.model_selection import KFold\n",
        "from xgboost import XGBClassifier\n",
        "from sklearn.metrics import accuracy_score, f1_score"
      ],
      "execution_count": 2,
      "outputs": []
    },
    {
      "cell_type": "code",
      "metadata": {
        "id": "F2Gudi1vLEW9",
        "outputId": "492f0741-a1aa-42ab-b07e-0bfee522b713",
        "colab": {
          "base_uri": "https://localhost:8080/"
        }
      },
      "source": [
        "from google.colab import drive\n",
        "drive.mount('/content/drive')"
      ],
      "execution_count": 3,
      "outputs": [
        {
          "output_type": "stream",
          "text": [
            "Drive already mounted at /content/drive; to attempt to forcibly remount, call drive.mount(\"/content/drive\", force_remount=True).\n"
          ],
          "name": "stdout"
        }
      ]
    },
    {
      "cell_type": "code",
      "metadata": {
        "id": "K_YHvYPTqdzm"
      },
      "source": [
        "from keras import backend as K\n",
        "\n",
        "def recall_m(y_true, y_pred):\n",
        "    true_positives = K.sum(K.round(K.clip(y_true * y_pred, 0, 1)))\n",
        "    possible_positives = K.sum(K.round(K.clip(y_true, 0, 1)))\n",
        "    recall = true_positives / (possible_positives + K.epsilon())\n",
        "    return recall\n",
        "\n",
        "def precision_m(y_true, y_pred):\n",
        "    true_positives = K.sum(K.round(K.clip(y_true * y_pred, 0, 1)))\n",
        "    predicted_positives = K.sum(K.round(K.clip(y_pred, 0, 1)))\n",
        "    precision = true_positives / (predicted_positives + K.epsilon())\n",
        "    return precision\n",
        "\n",
        "def f1_m(y_true, y_pred):\n",
        "    precision = precision_m(y_true, y_pred)\n",
        "    recall = recall_m(y_true, y_pred)\n",
        "    return 2*((precision*recall)/(precision+recall+K.epsilon()))"
      ],
      "execution_count": 4,
      "outputs": []
    },
    {
      "cell_type": "code",
      "metadata": {
        "id": "9QjjoN8zRU8g"
      },
      "source": [
        "all_filenames = [i for i in glob.glob('/content/drive/My Drive/TrainingData/*.{}'.format('csv'))]"
      ],
      "execution_count": 5,
      "outputs": []
    },
    {
      "cell_type": "code",
      "metadata": {
        "id": "zi2g8IdWSMqL"
      },
      "source": [
        "df_x, df_x_time, df_y, df_y_time = [], [], [], []\n",
        "for f in all_filenames:\n",
        "    if f.endswith('x.csv'):\n",
        "      df = pd.read_csv(f, header=None)\n",
        "      df['subject'] = f.split('/')[-1].split('_')[1]\n",
        "      df['subject_ID'] = f.split('/')[-1].split('_')[2]\n",
        "      df_x.append(df)\n",
        "    if f.endswith('x_time.csv'):\n",
        "      df = pd.read_csv(f, header=None)\n",
        "      df_x_time.append(df)\n",
        "    if f.endswith('y.csv'):\n",
        "      df = pd.read_csv(f, header=None)\n",
        "      df['subject'] = f.split('/')[-1].split('_')[1]\n",
        "      df['subject_ID'] = f.split('/')[-1].split('_')[2]\n",
        "      df_y.append(df)\n",
        "    if f.endswith('y_time.csv'):\n",
        "      df = pd.read_csv(f, header=None)\n",
        "      df_y_time.append(df)\n",
        "    \n",
        "x = pd.concat(df_x, ignore_index=True)\n",
        "x.columns = ['x1', 'x2', 'x3', 'x4', 'x5', 'x6', 'subject', 'subject_ID']\n",
        "x_time = pd.concat(df_x_time, ignore_index=True)\n",
        "x_time.columns = ['x_time']\n",
        "y = pd.concat(df_y, ignore_index=True)\n",
        "y.columns = ['y', 'subject', 'subject_ID']\n",
        "y_time = pd.concat(df_y_time, ignore_index=True)\n",
        "y_time.columns = ['y_time']\n",
        "x['time'] = x_time['x_time']\n",
        "y['time'] = y_time['y_time']\n",
        "y['time'] = [round(x+0.005,3) for x in y['time']]"
      ],
      "execution_count": 6,
      "outputs": []
    },
    {
      "cell_type": "code",
      "metadata": {
        "id": "bvAvjkShp06Y"
      },
      "source": [
        "# x.drop(x[x['time'] == 0].index, inplace = True)"
      ],
      "execution_count": null,
      "outputs": []
    },
    {
      "cell_type": "code",
      "metadata": {
        "id": "c-SCWYF5TQnj"
      },
      "source": [
        "# x.drop(x[x['time'] == 0.025].index, inplace = True)"
      ],
      "execution_count": null,
      "outputs": []
    },
    {
      "cell_type": "code",
      "metadata": {
        "id": "Cm7VVYa44PTI"
      },
      "source": [
        "full_df = pd.merge(x,y, on=['time','subject', 'subject_ID'], how='left')"
      ],
      "execution_count": 7,
      "outputs": []
    },
    {
      "cell_type": "code",
      "metadata": {
        "id": "On-rqGHMsQRe",
        "outputId": "1d28f2dd-7e35-411a-a5ae-e479e0925319",
        "colab": {
          "base_uri": "https://localhost:8080/",
          "height": 669
        }
      },
      "source": [
        "full_df.head(20)"
      ],
      "execution_count": 8,
      "outputs": [
        {
          "output_type": "execute_result",
          "data": {
            "text/html": [
              "<div>\n",
              "<style scoped>\n",
              "    .dataframe tbody tr th:only-of-type {\n",
              "        vertical-align: middle;\n",
              "    }\n",
              "\n",
              "    .dataframe tbody tr th {\n",
              "        vertical-align: top;\n",
              "    }\n",
              "\n",
              "    .dataframe thead th {\n",
              "        text-align: right;\n",
              "    }\n",
              "</style>\n",
              "<table border=\"1\" class=\"dataframe\">\n",
              "  <thead>\n",
              "    <tr style=\"text-align: right;\">\n",
              "      <th></th>\n",
              "      <th>x1</th>\n",
              "      <th>x2</th>\n",
              "      <th>x3</th>\n",
              "      <th>x4</th>\n",
              "      <th>x5</th>\n",
              "      <th>x6</th>\n",
              "      <th>subject</th>\n",
              "      <th>subject_ID</th>\n",
              "      <th>time</th>\n",
              "      <th>y</th>\n",
              "    </tr>\n",
              "  </thead>\n",
              "  <tbody>\n",
              "    <tr>\n",
              "      <th>0</th>\n",
              "      <td>4.435275</td>\n",
              "      <td>8.196063</td>\n",
              "      <td>2.974488</td>\n",
              "      <td>0.014215</td>\n",
              "      <td>-0.039157</td>\n",
              "      <td>-0.016744</td>\n",
              "      <td>001</td>\n",
              "      <td>01</td>\n",
              "      <td>0.000</td>\n",
              "      <td>NaN</td>\n",
              "    </tr>\n",
              "    <tr>\n",
              "      <th>1</th>\n",
              "      <td>4.186920</td>\n",
              "      <td>8.344455</td>\n",
              "      <td>2.908057</td>\n",
              "      <td>0.005771</td>\n",
              "      <td>-0.004480</td>\n",
              "      <td>-0.003345</td>\n",
              "      <td>001</td>\n",
              "      <td>01</td>\n",
              "      <td>0.025</td>\n",
              "      <td>0.0</td>\n",
              "    </tr>\n",
              "    <tr>\n",
              "      <th>2</th>\n",
              "      <td>4.544637</td>\n",
              "      <td>8.408659</td>\n",
              "      <td>2.890000</td>\n",
              "      <td>0.007967</td>\n",
              "      <td>0.022412</td>\n",
              "      <td>0.001159</td>\n",
              "      <td>001</td>\n",
              "      <td>01</td>\n",
              "      <td>0.050</td>\n",
              "      <td>NaN</td>\n",
              "    </tr>\n",
              "    <tr>\n",
              "      <th>3</th>\n",
              "      <td>4.849308</td>\n",
              "      <td>8.411614</td>\n",
              "      <td>2.900692</td>\n",
              "      <td>0.027778</td>\n",
              "      <td>-0.010670</td>\n",
              "      <td>-0.014223</td>\n",
              "      <td>001</td>\n",
              "      <td>01</td>\n",
              "      <td>0.075</td>\n",
              "      <td>NaN</td>\n",
              "    </tr>\n",
              "    <tr>\n",
              "      <th>4</th>\n",
              "      <td>4.509190</td>\n",
              "      <td>8.118649</td>\n",
              "      <td>2.847298</td>\n",
              "      <td>0.021577</td>\n",
              "      <td>-0.045498</td>\n",
              "      <td>-0.021111</td>\n",
              "      <td>001</td>\n",
              "      <td>01</td>\n",
              "      <td>0.100</td>\n",
              "      <td>NaN</td>\n",
              "    </tr>\n",
              "    <tr>\n",
              "      <th>5</th>\n",
              "      <td>4.226515</td>\n",
              "      <td>8.273807</td>\n",
              "      <td>2.851742</td>\n",
              "      <td>0.012534</td>\n",
              "      <td>0.000445</td>\n",
              "      <td>-0.016830</td>\n",
              "      <td>001</td>\n",
              "      <td>01</td>\n",
              "      <td>0.125</td>\n",
              "      <td>0.0</td>\n",
              "    </tr>\n",
              "    <tr>\n",
              "      <th>6</th>\n",
              "      <td>4.532063</td>\n",
              "      <td>8.398341</td>\n",
              "      <td>2.856682</td>\n",
              "      <td>0.014484</td>\n",
              "      <td>0.028769</td>\n",
              "      <td>-0.011091</td>\n",
              "      <td>001</td>\n",
              "      <td>01</td>\n",
              "      <td>0.150</td>\n",
              "      <td>NaN</td>\n",
              "    </tr>\n",
              "    <tr>\n",
              "      <th>7</th>\n",
              "      <td>4.433669</td>\n",
              "      <td>8.294719</td>\n",
              "      <td>2.823521</td>\n",
              "      <td>0.016340</td>\n",
              "      <td>-0.029434</td>\n",
              "      <td>-0.008998</td>\n",
              "      <td>001</td>\n",
              "      <td>01</td>\n",
              "      <td>0.175</td>\n",
              "      <td>NaN</td>\n",
              "    </tr>\n",
              "    <tr>\n",
              "      <th>8</th>\n",
              "      <td>4.160676</td>\n",
              "      <td>8.260676</td>\n",
              "      <td>2.827568</td>\n",
              "      <td>0.011222</td>\n",
              "      <td>-0.016748</td>\n",
              "      <td>-0.006027</td>\n",
              "      <td>001</td>\n",
              "      <td>01</td>\n",
              "      <td>0.200</td>\n",
              "      <td>NaN</td>\n",
              "    </tr>\n",
              "    <tr>\n",
              "      <th>9</th>\n",
              "      <td>4.432763</td>\n",
              "      <td>8.272613</td>\n",
              "      <td>2.790050</td>\n",
              "      <td>-0.002715</td>\n",
              "      <td>0.023094</td>\n",
              "      <td>0.012222</td>\n",
              "      <td>001</td>\n",
              "      <td>01</td>\n",
              "      <td>0.225</td>\n",
              "      <td>0.0</td>\n",
              "    </tr>\n",
              "    <tr>\n",
              "      <th>10</th>\n",
              "      <td>4.511362</td>\n",
              "      <td>8.256774</td>\n",
              "      <td>2.820538</td>\n",
              "      <td>-0.002248</td>\n",
              "      <td>0.001547</td>\n",
              "      <td>0.011137</td>\n",
              "      <td>001</td>\n",
              "      <td>01</td>\n",
              "      <td>0.250</td>\n",
              "      <td>NaN</td>\n",
              "    </tr>\n",
              "    <tr>\n",
              "      <th>11</th>\n",
              "      <td>4.098018</td>\n",
              "      <td>8.154184</td>\n",
              "      <td>2.901101</td>\n",
              "      <td>-0.010418</td>\n",
              "      <td>-0.042853</td>\n",
              "      <td>0.005031</td>\n",
              "      <td>001</td>\n",
              "      <td>01</td>\n",
              "      <td>0.275</td>\n",
              "      <td>NaN</td>\n",
              "    </tr>\n",
              "    <tr>\n",
              "      <th>12</th>\n",
              "      <td>3.931769</td>\n",
              "      <td>8.203628</td>\n",
              "      <td>2.958186</td>\n",
              "      <td>-0.015232</td>\n",
              "      <td>-0.006177</td>\n",
              "      <td>0.016877</td>\n",
              "      <td>001</td>\n",
              "      <td>01</td>\n",
              "      <td>0.300</td>\n",
              "      <td>NaN</td>\n",
              "    </tr>\n",
              "    <tr>\n",
              "      <th>13</th>\n",
              "      <td>4.524325</td>\n",
              "      <td>8.446963</td>\n",
              "      <td>2.874356</td>\n",
              "      <td>-0.003438</td>\n",
              "      <td>0.036310</td>\n",
              "      <td>0.045451</td>\n",
              "      <td>001</td>\n",
              "      <td>01</td>\n",
              "      <td>0.325</td>\n",
              "      <td>0.0</td>\n",
              "    </tr>\n",
              "    <tr>\n",
              "      <th>14</th>\n",
              "      <td>4.615744</td>\n",
              "      <td>8.385348</td>\n",
              "      <td>2.782674</td>\n",
              "      <td>-0.002790</td>\n",
              "      <td>0.012677</td>\n",
              "      <td>0.054444</td>\n",
              "      <td>001</td>\n",
              "      <td>01</td>\n",
              "      <td>0.350</td>\n",
              "      <td>NaN</td>\n",
              "    </tr>\n",
              "    <tr>\n",
              "      <th>15</th>\n",
              "      <td>4.392814</td>\n",
              "      <td>8.239121</td>\n",
              "      <td>2.830176</td>\n",
              "      <td>0.001527</td>\n",
              "      <td>0.015576</td>\n",
              "      <td>0.052817</td>\n",
              "      <td>001</td>\n",
              "      <td>01</td>\n",
              "      <td>0.375</td>\n",
              "      <td>NaN</td>\n",
              "    </tr>\n",
              "    <tr>\n",
              "      <th>16</th>\n",
              "      <td>4.633221</td>\n",
              "      <td>8.197211</td>\n",
              "      <td>2.872404</td>\n",
              "      <td>-0.006495</td>\n",
              "      <td>0.039828</td>\n",
              "      <td>0.040343</td>\n",
              "      <td>001</td>\n",
              "      <td>01</td>\n",
              "      <td>0.400</td>\n",
              "      <td>NaN</td>\n",
              "    </tr>\n",
              "    <tr>\n",
              "      <th>17</th>\n",
              "      <td>4.788242</td>\n",
              "      <td>8.201208</td>\n",
              "      <td>2.805275</td>\n",
              "      <td>-0.009608</td>\n",
              "      <td>0.032156</td>\n",
              "      <td>0.025749</td>\n",
              "      <td>001</td>\n",
              "      <td>01</td>\n",
              "      <td>0.425</td>\n",
              "      <td>0.0</td>\n",
              "    </tr>\n",
              "    <tr>\n",
              "      <th>18</th>\n",
              "      <td>4.751849</td>\n",
              "      <td>8.220000</td>\n",
              "      <td>2.847035</td>\n",
              "      <td>-0.012330</td>\n",
              "      <td>0.018727</td>\n",
              "      <td>0.017562</td>\n",
              "      <td>001</td>\n",
              "      <td>01</td>\n",
              "      <td>0.450</td>\n",
              "      <td>NaN</td>\n",
              "    </tr>\n",
              "    <tr>\n",
              "      <th>19</th>\n",
              "      <td>4.612801</td>\n",
              "      <td>8.290000</td>\n",
              "      <td>2.845603</td>\n",
              "      <td>-0.004444</td>\n",
              "      <td>0.005675</td>\n",
              "      <td>0.003214</td>\n",
              "      <td>001</td>\n",
              "      <td>01</td>\n",
              "      <td>0.475</td>\n",
              "      <td>NaN</td>\n",
              "    </tr>\n",
              "  </tbody>\n",
              "</table>\n",
              "</div>"
            ],
            "text/plain": [
              "          x1        x2        x3        x4  ...  subject  subject_ID   time    y\n",
              "0   4.435275  8.196063  2.974488  0.014215  ...      001          01  0.000  NaN\n",
              "1   4.186920  8.344455  2.908057  0.005771  ...      001          01  0.025  0.0\n",
              "2   4.544637  8.408659  2.890000  0.007967  ...      001          01  0.050  NaN\n",
              "3   4.849308  8.411614  2.900692  0.027778  ...      001          01  0.075  NaN\n",
              "4   4.509190  8.118649  2.847298  0.021577  ...      001          01  0.100  NaN\n",
              "5   4.226515  8.273807  2.851742  0.012534  ...      001          01  0.125  0.0\n",
              "6   4.532063  8.398341  2.856682  0.014484  ...      001          01  0.150  NaN\n",
              "7   4.433669  8.294719  2.823521  0.016340  ...      001          01  0.175  NaN\n",
              "8   4.160676  8.260676  2.827568  0.011222  ...      001          01  0.200  NaN\n",
              "9   4.432763  8.272613  2.790050 -0.002715  ...      001          01  0.225  0.0\n",
              "10  4.511362  8.256774  2.820538 -0.002248  ...      001          01  0.250  NaN\n",
              "11  4.098018  8.154184  2.901101 -0.010418  ...      001          01  0.275  NaN\n",
              "12  3.931769  8.203628  2.958186 -0.015232  ...      001          01  0.300  NaN\n",
              "13  4.524325  8.446963  2.874356 -0.003438  ...      001          01  0.325  0.0\n",
              "14  4.615744  8.385348  2.782674 -0.002790  ...      001          01  0.350  NaN\n",
              "15  4.392814  8.239121  2.830176  0.001527  ...      001          01  0.375  NaN\n",
              "16  4.633221  8.197211  2.872404 -0.006495  ...      001          01  0.400  NaN\n",
              "17  4.788242  8.201208  2.805275 -0.009608  ...      001          01  0.425  0.0\n",
              "18  4.751849  8.220000  2.847035 -0.012330  ...      001          01  0.450  NaN\n",
              "19  4.612801  8.290000  2.845603 -0.004444  ...      001          01  0.475  NaN\n",
              "\n",
              "[20 rows x 10 columns]"
            ]
          },
          "metadata": {
            "tags": []
          },
          "execution_count": 8
        }
      ]
    },
    {
      "cell_type": "code",
      "metadata": {
        "id": "DW5UFatPl4LP"
      },
      "source": [
        "full_df['y'] = full_df['y'].interpolate(method='nearest')"
      ],
      "execution_count": 8,
      "outputs": []
    },
    {
      "cell_type": "code",
      "metadata": {
        "id": "ON3RL3C-s9mx",
        "outputId": "b9badcec-520d-4c4c-c1ef-77192678d185",
        "colab": {
          "base_uri": "https://localhost:8080/"
        }
      },
      "source": [
        "full_df.isna().sum()"
      ],
      "execution_count": 9,
      "outputs": [
        {
          "output_type": "execute_result",
          "data": {
            "text/plain": [
              "x1            0\n",
              "x2            0\n",
              "x3            0\n",
              "x4            0\n",
              "x5            0\n",
              "x6            0\n",
              "subject       0\n",
              "subject_ID    0\n",
              "time          0\n",
              "y             1\n",
              "dtype: int64"
            ]
          },
          "metadata": {
            "tags": []
          },
          "execution_count": 9
        }
      ]
    },
    {
      "cell_type": "code",
      "metadata": {
        "id": "PXIsn0KU6bn1"
      },
      "source": [
        "full_df.dropna(inplace=True)"
      ],
      "execution_count": 10,
      "outputs": []
    },
    {
      "cell_type": "code",
      "metadata": {
        "id": "koMjAntvTdeN"
      },
      "source": [
        "from numpy import array\n",
        "def split_sequences(sequences, n_steps):\n",
        "\tX, y = list(), list()\n",
        "\tend_flag = True\n",
        "\tfor i in range(len(sequences)):\n",
        "\t\t# find the end of this pattern\n",
        "\t\tend_ix = i + n_steps\n",
        "\t\t# check if we are beyond the dataset\n",
        "\t\tif end_ix > len(sequences):\n",
        "\t\t\tend_flag = False\n",
        "\t\t\tfor j in range(i, len(sequences)):\n",
        "\t\t\t\tseq_x = sequences[j:, :-1]\n",
        "\t\t\t\tif seq_x.shape[0] < n_steps:\n",
        "\t\t\t\t\t# TODO add zero padding\n",
        "\t\t\t\t\tadd_x = np.zeros((n_steps-seq_x.shape[0],6))\n",
        "\t\t\t\t\t# add_x = sequences[-(n_steps-seq_x.shape[0]):,:-1]\n",
        "\t\t\t\t\tseq_x = np.r_[seq_x, add_x]\n",
        "\t\t\t\t\tseq_y = sequences[j, -1]\n",
        "\t\t\t\tX.append(seq_x)\n",
        "\t\t\t\ty.append(seq_y)\n",
        "\t\t\tbreak\n",
        "    # gather input and output parts of the pattern\n",
        "\t\tif (end_flag):\n",
        "\t\t\tseq_x, seq_y = sequences[i:end_ix, :-1], sequences[end_ix-1, -1]\n",
        "\t\t\tX.append(seq_x)\n",
        "\t\t\ty.append(seq_y)\n",
        "\treturn array(X), array(y)"
      ],
      "execution_count": 11,
      "outputs": []
    },
    {
      "cell_type": "code",
      "metadata": {
        "id": "0fvC2JFguw0Q"
      },
      "source": [
        "final_X, final_y = list(), list()\n",
        "for name, group in full_df.groupby(['subject', 'subject_ID']):\n",
        "  df = group\n",
        "  in_seq1 = df['x1'].to_numpy().reshape((len(df['x1']), 1))\n",
        "  in_seq2 = df['x2'].to_numpy().reshape((len(df['x2']), 1))\n",
        "  in_seq3 = df['x3'].to_numpy().reshape((len(df['x3']), 1))\n",
        "  in_seq4 = df['x4'].to_numpy().reshape((len(df['x4']), 1))\n",
        "  in_seq5 = df['x5'].to_numpy().reshape((len(df['x5']), 1))\n",
        "  in_seq6 = df['x6'].to_numpy().reshape((len(df['x6']), 1))\n",
        "  out_seq = df['y'].to_numpy().reshape((len(df['y']), 1))\n",
        "  dataset = np.hstack((in_seq1, in_seq2, in_seq3, in_seq4, in_seq5, in_seq6, out_seq))\n",
        "  X, y = split_sequences(dataset, 40)\n",
        "  final_X.extend(X)\n",
        "  final_y.extend(y)\n",
        "X = array(final_X)\n",
        "y = array(final_y)"
      ],
      "execution_count": 12,
      "outputs": []
    },
    {
      "cell_type": "code",
      "metadata": {
        "id": "LyP2W0F-xI59"
      },
      "source": [
        "ind = np.argwhere(np.isnan(y)).flatten()"
      ],
      "execution_count": 14,
      "outputs": []
    },
    {
      "cell_type": "code",
      "metadata": {
        "id": "fxJtVDvGEp_G"
      },
      "source": [
        "allrows = np.array(range(len(X)))\n",
        "X_n = X[np.setdiff1d(allrows,ind)]"
      ],
      "execution_count": 15,
      "outputs": []
    },
    {
      "cell_type": "code",
      "metadata": {
        "id": "Phvbs3Vcf3qe"
      },
      "source": [
        "y = y[~np.isnan(y)]"
      ],
      "execution_count": 16,
      "outputs": []
    },
    {
      "cell_type": "code",
      "metadata": {
        "id": "zYIUaWLE4h-S",
        "outputId": "4dbed17b-11ff-4e97-ec03-880aee1db165",
        "colab": {
          "base_uri": "https://localhost:8080/"
        }
      },
      "source": [
        "X_n.shape"
      ],
      "execution_count": 17,
      "outputs": [
        {
          "output_type": "execute_result",
          "data": {
            "text/plain": [
              "(1367083, 40, 6)"
            ]
          },
          "metadata": {
            "tags": []
          },
          "execution_count": 17
        }
      ]
    },
    {
      "cell_type": "code",
      "metadata": {
        "id": "pPYK9wxIgB8i"
      },
      "source": [
        "y = y.reshape(-1,1)"
      ],
      "execution_count": 18,
      "outputs": []
    },
    {
      "cell_type": "code",
      "metadata": {
        "id": "ML021Z0_lEJL",
        "outputId": "e4bb6616-352a-46d8-fa8a-47eddcbacbe5",
        "colab": {
          "base_uri": "https://localhost:8080/"
        }
      },
      "source": [
        "y.shape"
      ],
      "execution_count": 19,
      "outputs": [
        {
          "output_type": "execute_result",
          "data": {
            "text/plain": [
              "(1367083, 1)"
            ]
          },
          "metadata": {
            "tags": []
          },
          "execution_count": 19
        }
      ]
    },
    {
      "cell_type": "code",
      "metadata": {
        "id": "vQd1-7jq5z7E"
      },
      "source": [
        "unique, counts = np.unique(y, return_counts=True)"
      ],
      "execution_count": 20,
      "outputs": []
    },
    {
      "cell_type": "code",
      "metadata": {
        "id": "4Lku4MAA6A9y",
        "outputId": "4c62cf23-9bb1-4daa-a37e-9dd535a5fc3d",
        "colab": {
          "base_uri": "https://localhost:8080/"
        }
      },
      "source": [
        "print(unique)\n",
        "print(counts)"
      ],
      "execution_count": 21,
      "outputs": [
        {
          "output_type": "stream",
          "text": [
            "[0. 1. 2. 3.]\n",
            "[1017904   81578   60243  207358]\n"
          ],
          "name": "stdout"
        }
      ]
    },
    {
      "cell_type": "code",
      "metadata": {
        "id": "SEC89v4s6CDr"
      },
      "source": [
        "# Garbage collection to free memory\n",
        "lst = [[full_df, df, final_X, final_y, X, df_x, df_x_time, df_y, df_y_time, df, in_seq1, in_seq2, in_seq3, in_seq4, in_seq5, in_seq6, out_seq, dataset]]\n",
        "del lst\n",
        "full_df=pd.DataFrame()\n",
        "df=pd.DataFrame()\n",
        "final_X = []\n",
        "final_y = []\n",
        "X = []\n",
        "df_x, df_x_time, df_y, df_y_time = [], [], [], []\n",
        "df = []\n",
        "in_seq1, in_seq2, in_seq3, in_seq4, in_seq5, in_seq6, out_seq, dataset = [], [], [], [], [], [], [], []"
      ],
      "execution_count": 22,
      "outputs": []
    },
    {
      "cell_type": "code",
      "metadata": {
        "id": "8ZiFVKN3YqsE",
        "outputId": "fff81d6b-6858-48b4-a4c0-3cb57cbf8792",
        "colab": {
          "base_uri": "https://localhost:8080/"
        }
      },
      "source": [
        "# RNN Model with LSTM\n",
        "model = Sequential()\n",
        "# model.add(Embedding(130, 128, input_length=num_steps))\n",
        "# model.add(Dropout(0.7))\n",
        "model.add(LSTM(64, input_shape=(1,240), recurrent_activation='swish', return_sequences=True))\n",
        "model.add(BatchNormalization())\n",
        "model.add(Bidirectional(LSTM(128, recurrent_activation='swish', return_sequences=True)))\n",
        "model.add(BatchNormalization())\n",
        "model.add(LSTM(64, recurrent_activation='swish', return_sequences=True))\n",
        "model.add(BatchNormalization())\n",
        "model.add(Dense(64, activation='swish'))\n",
        "model.add(Dense(4, activation='softmax'))\n",
        "model.compile(loss='categorical_crossentropy', optimizer=Adam(), metrics=['categorical_accuracy', f1_m], sample_weight_mode=\"temporal\")\n",
        "model.summary()"
      ],
      "execution_count": 84,
      "outputs": [
        {
          "output_type": "stream",
          "text": [
            "Model: \"sequential_3\"\n",
            "_________________________________________________________________\n",
            "Layer (type)                 Output Shape              Param #   \n",
            "=================================================================\n",
            "lstm_2 (LSTM)                (None, 1, 64)             78080     \n",
            "_________________________________________________________________\n",
            "batch_normalization_14 (Batc (None, 1, 64)             256       \n",
            "_________________________________________________________________\n",
            "bidirectional (Bidirectional (None, 1, 256)            197632    \n",
            "_________________________________________________________________\n",
            "batch_normalization_15 (Batc (None, 1, 256)            1024      \n",
            "_________________________________________________________________\n",
            "lstm_4 (LSTM)                (None, 1, 64)             82176     \n",
            "_________________________________________________________________\n",
            "batch_normalization_16 (Batc (None, 1, 64)             256       \n",
            "_________________________________________________________________\n",
            "dense_17 (Dense)             (None, 1, 64)             4160      \n",
            "_________________________________________________________________\n",
            "dense_18 (Dense)             (None, 1, 4)              260       \n",
            "=================================================================\n",
            "Total params: 363,844\n",
            "Trainable params: 363,076\n",
            "Non-trainable params: 768\n",
            "_________________________________________________________________\n"
          ],
          "name": "stdout"
        }
      ]
    },
    {
      "cell_type": "code",
      "metadata": {
        "id": "QMg7dg71tMwf",
        "outputId": "98cbd1c0-c80d-49f8-eee8-0d562b6c64fa",
        "colab": {
          "base_uri": "https://localhost:8080/"
        }
      },
      "source": [
        "model.output_shape"
      ],
      "execution_count": 85,
      "outputs": [
        {
          "output_type": "execute_result",
          "data": {
            "text/plain": [
              "(None, 1, 4)"
            ]
          },
          "metadata": {
            "tags": []
          },
          "execution_count": 85
        }
      ]
    },
    {
      "cell_type": "code",
      "metadata": {
        "id": "3OboSWStbr8l",
        "outputId": "ba9fad25-691c-4f94-a593-3fe185e785dd",
        "colab": {
          "base_uri": "https://localhost:8080/"
        }
      },
      "source": [
        "model.input_shape"
      ],
      "execution_count": 86,
      "outputs": [
        {
          "output_type": "execute_result",
          "data": {
            "text/plain": [
              "(None, 1, 240)"
            ]
          },
          "metadata": {
            "tags": []
          },
          "execution_count": 86
        }
      ]
    },
    {
      "cell_type": "code",
      "metadata": {
        "id": "uAdF-WvtGiU1",
        "outputId": "ebd7052e-f30d-4d85-ff68-9de99212d76f",
        "colab": {
          "base_uri": "https://localhost:8080/"
        }
      },
      "source": [
        "# CNN model\n",
        "model_CNN1 = Sequential()\n",
        "\n",
        "#Adding the input layer and first hidden layer\n",
        "model_CNN1.add(Dense(256, activation= 'swish', input_shape=(1,24)))\n",
        "# model_CNN1.add(Dropout(0.25))\n",
        "#Adding second hidden layer\n",
        "model_CNN1.add(Dense(512, activation= 'swish'))\n",
        "model_CNN1.add(BatchNormalization())\n",
        "# model_CNN1.add(Dropout(0.25))\n",
        "model_CNN1.add(Dense(256, activation= 'swish'))\n",
        "model_CNN1.add(BatchNormalization())\n",
        "model_CNN1.add(Dense(128, activation= 'swish'))\n",
        "model_CNN1.add(BatchNormalization())\n",
        "model_CNN1.add(Dense(64, activation= 'swish'))\n",
        "model_CNN1.add(BatchNormalization())\n",
        "#Adding the Output Layer\n",
        "model_CNN1.add(Dense(4, activation='softmax')) \n",
        "#Compiling\n",
        "model_CNN1.compile(optimizer='adam', loss='categorical_crossentropy', metrics=[f1_m, 'categorical_accuracy'])\n",
        "model_CNN1.summary()"
      ],
      "execution_count": 24,
      "outputs": [
        {
          "output_type": "stream",
          "text": [
            "Model: \"sequential\"\n",
            "_________________________________________________________________\n",
            "Layer (type)                 Output Shape              Param #   \n",
            "=================================================================\n",
            "dense (Dense)                (None, 1, 256)            6400      \n",
            "_________________________________________________________________\n",
            "dense_1 (Dense)              (None, 1, 512)            131584    \n",
            "_________________________________________________________________\n",
            "batch_normalization (BatchNo (None, 1, 512)            2048      \n",
            "_________________________________________________________________\n",
            "dense_2 (Dense)              (None, 1, 256)            131328    \n",
            "_________________________________________________________________\n",
            "batch_normalization_1 (Batch (None, 1, 256)            1024      \n",
            "_________________________________________________________________\n",
            "dense_3 (Dense)              (None, 1, 128)            32896     \n",
            "_________________________________________________________________\n",
            "batch_normalization_2 (Batch (None, 1, 128)            512       \n",
            "_________________________________________________________________\n",
            "dense_4 (Dense)              (None, 1, 64)             8256      \n",
            "_________________________________________________________________\n",
            "batch_normalization_3 (Batch (None, 1, 64)             256       \n",
            "_________________________________________________________________\n",
            "dense_5 (Dense)              (None, 1, 4)              260       \n",
            "=================================================================\n",
            "Total params: 314,564\n",
            "Trainable params: 312,644\n",
            "Non-trainable params: 1,920\n",
            "_________________________________________________________________\n"
          ],
          "name": "stdout"
        }
      ]
    },
    {
      "cell_type": "code",
      "metadata": {
        "id": "VeD8KP-f4Moc",
        "outputId": "44988b58-b4db-4f41-e0a2-533f913004df",
        "colab": {
          "base_uri": "https://localhost:8080/"
        }
      },
      "source": [
        "# CNN model\n",
        "model_CNN = Sequential()\n",
        "\n",
        "#Adding the input layer and first hidden layer\n",
        "model_CNN.add(Dense(256, activation= 'swish', input_shape=(1,240)))\n",
        "#Adding second hidden layer\n",
        "model_CNN.add(Dense(512, activation= 'swish'))\n",
        "model_CNN.add(BatchNormalization())\n",
        "model_CNN.add(Dense(512, activation= 'swish'))\n",
        "model_CNN.add(BatchNormalization())\n",
        "model_CNN.add(Dense(256, activation= 'swish'))\n",
        "model_CNN.add(BatchNormalization())\n",
        "model_CNN.add(Dense(128, activation= 'swish'))\n",
        "model_CNN.add(BatchNormalization())\n",
        "model_CNN.add(Dense(64, activation= 'swish'))\n",
        "model_CNN.add(BatchNormalization())\n",
        "model_CNN.add(Dense(32, activation= 'swish'))\n",
        "model_CNN.add(BatchNormalization())\n",
        "#Adding the Output Layer\n",
        "model_CNN.add(Dense(4, activation='softmax')) \n",
        "#Compiling\n",
        "model_CNN.compile(optimizer='adam', loss='categorical_crossentropy', metrics=['categorical_accuracy', f1_m], sample_weight_mode=\"temporal\")\n",
        "model_CNN.summary()"
      ],
      "execution_count": 68,
      "outputs": [
        {
          "output_type": "stream",
          "text": [
            "Model: \"sequential_1\"\n",
            "_________________________________________________________________\n",
            "Layer (type)                 Output Shape              Param #   \n",
            "=================================================================\n",
            "dense_7 (Dense)              (None, 1, 256)            61696     \n",
            "_________________________________________________________________\n",
            "dense_8 (Dense)              (None, 1, 512)            131584    \n",
            "_________________________________________________________________\n",
            "batch_normalization_5 (Batch (None, 1, 512)            2048      \n",
            "_________________________________________________________________\n",
            "dense_9 (Dense)              (None, 1, 512)            262656    \n",
            "_________________________________________________________________\n",
            "batch_normalization_6 (Batch (None, 1, 512)            2048      \n",
            "_________________________________________________________________\n",
            "dense_10 (Dense)             (None, 1, 256)            131328    \n",
            "_________________________________________________________________\n",
            "batch_normalization_7 (Batch (None, 1, 256)            1024      \n",
            "_________________________________________________________________\n",
            "dense_11 (Dense)             (None, 1, 128)            32896     \n",
            "_________________________________________________________________\n",
            "batch_normalization_8 (Batch (None, 1, 128)            512       \n",
            "_________________________________________________________________\n",
            "dense_12 (Dense)             (None, 1, 64)             8256      \n",
            "_________________________________________________________________\n",
            "batch_normalization_9 (Batch (None, 1, 64)             256       \n",
            "_________________________________________________________________\n",
            "dense_13 (Dense)             (None, 1, 32)             2080      \n",
            "_________________________________________________________________\n",
            "batch_normalization_10 (Batc (None, 1, 32)             128       \n",
            "_________________________________________________________________\n",
            "dense_14 (Dense)             (None, 1, 4)              132       \n",
            "=================================================================\n",
            "Total params: 636,644\n",
            "Trainable params: 633,636\n",
            "Non-trainable params: 3,008\n",
            "_________________________________________________________________\n"
          ],
          "name": "stdout"
        }
      ]
    },
    {
      "cell_type": "code",
      "metadata": {
        "id": "wPfOk4CX9OfQ",
        "outputId": "6f7716a6-c68d-4ff0-e566-c5cefca277ec",
        "colab": {
          "base_uri": "https://localhost:8080/"
        }
      },
      "source": [
        "model_CNN.input_shape"
      ],
      "execution_count": 24,
      "outputs": [
        {
          "output_type": "execute_result",
          "data": {
            "text/plain": [
              "(None, 1, 240)"
            ]
          },
          "metadata": {
            "tags": []
          },
          "execution_count": 24
        }
      ]
    },
    {
      "cell_type": "code",
      "metadata": {
        "id": "H16wV_2LJam1",
        "outputId": "31410c8b-21b6-48a7-bde2-c60847fefb75",
        "colab": {
          "base_uri": "https://localhost:8080/"
        }
      },
      "source": [
        "model_CNN.output_shape"
      ],
      "execution_count": 25,
      "outputs": [
        {
          "output_type": "execute_result",
          "data": {
            "text/plain": [
              "(None, 1, 4)"
            ]
          },
          "metadata": {
            "tags": []
          },
          "execution_count": 25
        }
      ]
    },
    {
      "cell_type": "code",
      "metadata": {
        "id": "BEz9JD1mK_Bn"
      },
      "source": [
        "from sklearn.model_selection import train_test_split\n",
        "X_train, X_test, y_train, y_test = train_test_split(X_n, y, test_size=0.3, random_state=177)"
      ],
      "execution_count": 26,
      "outputs": []
    },
    {
      "cell_type": "code",
      "metadata": {
        "id": "WPrs5YeOmtwl"
      },
      "source": [
        "# from sklearn.model_selection import train_test_split\n",
        "# X_train, X_test, y_train, y_test = train_test_split(full_df[['x1','x2','x3', 'x4', 'x5', 'x6']], full_df['y'], test_size=0.3, random_state=177)"
      ],
      "execution_count": null,
      "outputs": []
    },
    {
      "cell_type": "code",
      "metadata": {
        "id": "CpXFSnmHqfy4"
      },
      "source": [
        "# Scaling the data\n",
        "from sklearn.preprocessing import StandardScaler\n",
        "scaler = StandardScaler()\n",
        "X_train = scaler.fit_transform(X_train.reshape(-1,240))\n",
        "X_test = scaler.transform(X_test.reshape(-1,240))"
      ],
      "execution_count": 27,
      "outputs": []
    },
    {
      "cell_type": "code",
      "metadata": {
        "id": "1AwWSbEvNTGw"
      },
      "source": [
        "# Clearing out memory\n",
        "lst = [[X_n, y, x, x_time]]\n",
        "del lst\n",
        "X_n = []\n",
        "y = []\n",
        "x = []\n",
        "x_time = []"
      ],
      "execution_count": 28,
      "outputs": []
    },
    {
      "cell_type": "code",
      "metadata": {
        "id": "NWDvZEtD-un-",
        "outputId": "04eb8cdf-1d21-4414-d3a0-d3e9d6d456b2",
        "colab": {
          "base_uri": "https://localhost:8080/"
        }
      },
      "source": [
        "model_CNN.input_shape"
      ],
      "execution_count": 31,
      "outputs": [
        {
          "output_type": "execute_result",
          "data": {
            "text/plain": [
              "(None, 1, 240)"
            ]
          },
          "metadata": {
            "tags": []
          },
          "execution_count": 31
        }
      ]
    },
    {
      "cell_type": "code",
      "metadata": {
        "id": "qytNMdGsTgb1",
        "outputId": "ac124060-0230-45f9-8977-aef75386f65c",
        "colab": {
          "base_uri": "https://localhost:8080/"
        }
      },
      "source": [
        "model_CNN.output_shape"
      ],
      "execution_count": 32,
      "outputs": [
        {
          "output_type": "execute_result",
          "data": {
            "text/plain": [
              "(None, 1, 4)"
            ]
          },
          "metadata": {
            "tags": []
          },
          "execution_count": 32
        }
      ]
    },
    {
      "cell_type": "code",
      "metadata": {
        "id": "mQBoUCsG-ZXa",
        "outputId": "f3ea08d1-30fb-48da-a22c-c758fc1268af",
        "colab": {
          "base_uri": "https://localhost:8080/"
        }
      },
      "source": [
        "unique, counts = np.unique(y_train, return_counts=True)\n",
        "print(unique)\n",
        "print(counts)"
      ],
      "execution_count": 29,
      "outputs": [
        {
          "output_type": "stream",
          "text": [
            "[0. 1. 2. 3.]\n",
            "[712382  57263  42221 145092]\n"
          ],
          "name": "stdout"
        }
      ]
    },
    {
      "cell_type": "code",
      "metadata": {
        "id": "mlf18jxoxE6i"
      },
      "source": [
        "# Over Sampling Classes 1 and 2 using kmeansSMOTE\n",
        "oversample = KMeansSMOTE(sampling_strategy={1:100000, 2:100000}, cluster_balance_threshold=0.02, k_neighbors=3)"
      ],
      "execution_count": 30,
      "outputs": []
    },
    {
      "cell_type": "code",
      "metadata": {
        "id": "BYx4k202t-22"
      },
      "source": [
        "X_train = X_train.reshape(-1,240)"
      ],
      "execution_count": 31,
      "outputs": []
    },
    {
      "cell_type": "code",
      "metadata": {
        "id": "6NpNHWa_n3sw"
      },
      "source": [
        "X_train, y_train = oversample.fit_resample(X_train, y_train)"
      ],
      "execution_count": 32,
      "outputs": []
    },
    {
      "cell_type": "code",
      "metadata": {
        "id": "dMfZaqYlM8Cl",
        "outputId": "979c4e1e-c3aa-47d3-dacf-45456cf26b98",
        "colab": {
          "base_uri": "https://localhost:8080/"
        }
      },
      "source": [
        "unique, counts = np.unique(y_train, return_counts=True)\n",
        "print(unique)\n",
        "print(counts)"
      ],
      "execution_count": 33,
      "outputs": [
        {
          "output_type": "stream",
          "text": [
            "[0. 1. 2. 3.]\n",
            "[712382 100005 100003 145092]\n"
          ],
          "name": "stdout"
        }
      ]
    },
    {
      "cell_type": "code",
      "metadata": {
        "id": "qQdiyR9_ZwaY",
        "outputId": "844cfb33-2a16-48c8-9107-ffe5183aca4a",
        "colab": {
          "base_uri": "https://localhost:8080/"
        }
      },
      "source": [
        "len(y_train)"
      ],
      "execution_count": null,
      "outputs": [
        {
          "output_type": "execute_result",
          "data": {
            "text/plain": [
              "1257854"
            ]
          },
          "metadata": {
            "tags": []
          },
          "execution_count": 168
        }
      ]
    },
    {
      "cell_type": "code",
      "metadata": {
        "id": "lstU1DvBlSur"
      },
      "source": [
        "# Ading class weight parameter in CNN models\n",
        "class_weights = np.zeros((len(y_train), 4))\n",
        "class_weights[:, 0] += 1\n",
        "class_weights[:, 1] += 50\n",
        "class_weights[:, 2] += 45\n",
        "class_weights[:, 3] += 10"
      ],
      "execution_count": 34,
      "outputs": []
    },
    {
      "cell_type": "code",
      "metadata": {
        "id": "IYZAs-8gAavu"
      },
      "source": [
        "class_weights = class_weights.reshape(-1,1,4)"
      ],
      "execution_count": null,
      "outputs": []
    },
    {
      "cell_type": "code",
      "metadata": {
        "id": "fk6P_rLVBj4B",
        "outputId": "6f705999-cbd3-424e-b588-879b0986bd82",
        "colab": {
          "base_uri": "https://localhost:8080/"
        }
      },
      "source": [
        "class_weights.shape"
      ],
      "execution_count": null,
      "outputs": [
        {
          "output_type": "execute_result",
          "data": {
            "text/plain": [
              "(1058024, 4)"
            ]
          },
          "metadata": {
            "tags": []
          },
          "execution_count": 62
        }
      ]
    },
    {
      "cell_type": "code",
      "metadata": {
        "id": "hflXPDe9FHgP"
      },
      "source": [
        "unique, counts = np.unique(y_train, return_counts=True)"
      ],
      "execution_count": null,
      "outputs": []
    },
    {
      "cell_type": "code",
      "metadata": {
        "id": "u5jUiekOGQ4y",
        "outputId": "2cf1d90d-7698-4a39-c4e8-938d65a28369",
        "colab": {
          "base_uri": "https://localhost:8080/"
        }
      },
      "source": [
        "print(unique)\n",
        "print(counts)"
      ],
      "execution_count": null,
      "outputs": [
        {
          "output_type": "stream",
          "text": [
            "[0. 1.]\n",
            "[3772014 1257338]\n"
          ],
          "name": "stdout"
        }
      ]
    },
    {
      "cell_type": "code",
      "metadata": {
        "id": "EQOV_lvNkBfx"
      },
      "source": [
        "# Reshape inputs according to input shape\n",
        "X_train = X_train.reshape(-1,1,240)\n",
        "X_test = X_test.reshape(-1,1,240)"
      ],
      "execution_count": 35,
      "outputs": []
    },
    {
      "cell_type": "code",
      "metadata": {
        "id": "Lpi77GZ70uxS",
        "outputId": "f35bc19e-8b0a-4b45-cfe4-9bd3bc5acd19",
        "colab": {
          "base_uri": "https://localhost:8080/"
        }
      },
      "source": [
        "X_train.shape"
      ],
      "execution_count": 36,
      "outputs": [
        {
          "output_type": "execute_result",
          "data": {
            "text/plain": [
              "(1057482, 1, 240)"
            ]
          },
          "metadata": {
            "tags": []
          },
          "execution_count": 36
        }
      ]
    },
    {
      "cell_type": "code",
      "metadata": {
        "id": "EIDMmbba54YJ",
        "outputId": "0f83c609-68ed-4c36-83a6-f98469cac16c",
        "colab": {
          "base_uri": "https://localhost:8080/"
        }
      },
      "source": [
        "y_train.shape"
      ],
      "execution_count": 41,
      "outputs": [
        {
          "output_type": "execute_result",
          "data": {
            "text/plain": [
              "(1057482, 1, 4)"
            ]
          },
          "metadata": {
            "tags": []
          },
          "execution_count": 41
        }
      ]
    },
    {
      "cell_type": "code",
      "metadata": {
        "id": "q_bxvNVUE-yH",
        "outputId": "d8d0a308-d423-4387-e671-dca0d80882a9",
        "colab": {
          "base_uri": "https://localhost:8080/"
        }
      },
      "source": [
        "model_CNN.output_shape"
      ],
      "execution_count": 39,
      "outputs": [
        {
          "output_type": "execute_result",
          "data": {
            "text/plain": [
              "(None, 1, 4)"
            ]
          },
          "metadata": {
            "tags": []
          },
          "execution_count": 39
        }
      ]
    },
    {
      "cell_type": "code",
      "metadata": {
        "id": "N_HXHo03eaUN"
      },
      "source": [
        "# Reshape according to model output size\n",
        "y_train = to_categorical(y_train).reshape(-1,1,4)\n",
        "y_test = to_categorical(y_test).reshape(-1,1,4)"
      ],
      "execution_count": 40,
      "outputs": []
    },
    {
      "cell_type": "code",
      "metadata": {
        "id": "f37-gBgnOJPL"
      },
      "source": [
        "y_train = y_train.reshape(-1,1,4)\n",
        "y_test = y_test.reshape(-1,1,4)"
      ],
      "execution_count": null,
      "outputs": []
    },
    {
      "cell_type": "code",
      "metadata": {
        "id": "2iUjx1htEUVb"
      },
      "source": [
        "# Saving best model each time\n",
        "from keras.callbacks import ModelCheckpoint\n",
        "checkpoint = ModelCheckpoint('/content/drive/My Drive/FinalRNNextralayer711{epoch:08d}.h5', save_best_only=True) "
      ],
      "execution_count": 69,
      "outputs": []
    },
    {
      "cell_type": "code",
      "metadata": {
        "id": "xINhHmrR1yA4",
        "outputId": "008969a6-085b-4cc6-9771-af7b11203b4d",
        "colab": {
          "base_uri": "https://localhost:8080/"
        }
      },
      "source": [
        "RNN_ts40_weight = model.fit(X_train, y_train, epochs = 30, validation_data= (X_test, y_test), callbacks=[checkpoint], batch_size=400, sample_weight=class_weights)"
      ],
      "execution_count": null,
      "outputs": [
        {
          "output_type": "stream",
          "text": [
            "Epoch 1/30\n",
            "2644/2644 [==============================] - 107s 40ms/step - loss: 25.0129 - categorical_accuracy: 0.6750 - f1_m: 0.6592 - val_loss: 0.7814 - val_categorical_accuracy: 0.7391 - val_f1_m: 0.7329\n",
            "Epoch 2/30\n",
            "2644/2644 [==============================] - 101s 38ms/step - loss: 20.6972 - categorical_accuracy: 0.7198 - f1_m: 0.7142 - val_loss: 0.7201 - val_categorical_accuracy: 0.7537 - val_f1_m: 0.7492\n",
            "Epoch 3/30\n",
            "2644/2644 [==============================] - 103s 39ms/step - loss: 19.0925 - categorical_accuracy: 0.7417 - f1_m: 0.7377 - val_loss: 0.6925 - val_categorical_accuracy: 0.7613 - val_f1_m: 0.7573\n",
            "Epoch 4/30\n",
            "2644/2644 [==============================] - 102s 39ms/step - loss: 18.1030 - categorical_accuracy: 0.7558 - f1_m: 0.7524 - val_loss: 0.6626 - val_categorical_accuracy: 0.7728 - val_f1_m: 0.7704\n",
            "Epoch 5/30\n",
            "2644/2644 [==============================] - 102s 39ms/step - loss: 17.3884 - categorical_accuracy: 0.7657 - f1_m: 0.7630 - val_loss: 0.6533 - val_categorical_accuracy: 0.7734 - val_f1_m: 0.7709\n",
            "Epoch 6/30\n",
            "2644/2644 [==============================] - 102s 39ms/step - loss: 16.8431 - categorical_accuracy: 0.7729 - f1_m: 0.7704 - val_loss: 0.6506 - val_categorical_accuracy: 0.7732 - val_f1_m: 0.7703\n",
            "Epoch 7/30\n",
            "2644/2644 [==============================] - 103s 39ms/step - loss: 16.4199 - categorical_accuracy: 0.7788 - f1_m: 0.7766 - val_loss: 0.6398 - val_categorical_accuracy: 0.7772 - val_f1_m: 0.7753\n",
            "Epoch 8/30\n",
            "2644/2644 [==============================] - 103s 39ms/step - loss: 16.1009 - categorical_accuracy: 0.7832 - f1_m: 0.7810 - val_loss: 0.6368 - val_categorical_accuracy: 0.7781 - val_f1_m: 0.7759\n",
            "Epoch 9/30\n",
            "2644/2644 [==============================] - 101s 38ms/step - loss: 15.8054 - categorical_accuracy: 0.7871 - f1_m: 0.7851 - val_loss: 0.6295 - val_categorical_accuracy: 0.7807 - val_f1_m: 0.7786\n",
            "Epoch 10/30\n",
            "2644/2644 [==============================] - 104s 39ms/step - loss: 15.5424 - categorical_accuracy: 0.7905 - f1_m: 0.7886 - val_loss: 0.6226 - val_categorical_accuracy: 0.7840 - val_f1_m: 0.7825\n",
            "Epoch 11/30\n",
            "2644/2644 [==============================] - 106s 40ms/step - loss: 15.3007 - categorical_accuracy: 0.7938 - f1_m: 0.7921 - val_loss: 0.6257 - val_categorical_accuracy: 0.7819 - val_f1_m: 0.7797\n",
            "Epoch 12/30\n",
            "2643/2644 [============================>.] - ETA: 0s - loss: 15.1173 - categorical_accuracy: 0.7959 - f1_m: 0.7944"
          ],
          "name": "stdout"
        }
      ]
    },
    {
      "cell_type": "code",
      "metadata": {
        "id": "Uko29yqbNW2_",
        "outputId": "6845cefa-8083-47e6-fb6f-1e1a32419c2e",
        "colab": {
          "base_uri": "https://localhost:8080/"
        }
      },
      "source": [
        "CNN_40ts_extra = model_CNN.fit(X_train, y_train, epochs = 30, validation_data= (X_test, y_test), callbacks=[checkpoint], batch_size=400, sample_weight=class_weights)"
      ],
      "execution_count": 70,
      "outputs": [
        {
          "output_type": "stream",
          "text": [
            "Epoch 1/30\n",
            "2644/2644 [==============================] - 149s 57ms/step - loss: 20.4309 - categorical_accuracy: 0.7225 - f1_m: 0.7040 - val_loss: 0.6691 - val_categorical_accuracy: 0.7684 - val_f1_m: 0.7633\n",
            "Epoch 2/30\n",
            "2644/2644 [==============================] - 150s 57ms/step - loss: 16.6816 - categorical_accuracy: 0.7726 - f1_m: 0.7699 - val_loss: 0.6052 - val_categorical_accuracy: 0.7865 - val_f1_m: 0.7845\n",
            "Epoch 3/30\n",
            "2644/2644 [==============================] - 152s 57ms/step - loss: 14.8242 - categorical_accuracy: 0.7971 - f1_m: 0.7953 - val_loss: 0.5768 - val_categorical_accuracy: 0.7952 - val_f1_m: 0.7938\n",
            "Epoch 4/30\n",
            "2644/2644 [==============================] - 153s 58ms/step - loss: 13.5750 - categorical_accuracy: 0.8129 - f1_m: 0.8116 - val_loss: 0.5490 - val_categorical_accuracy: 0.8057 - val_f1_m: 0.8047\n",
            "Epoch 5/30\n",
            "2644/2644 [==============================] - 151s 57ms/step - loss: 12.6307 - categorical_accuracy: 0.8244 - f1_m: 0.8232 - val_loss: 0.5412 - val_categorical_accuracy: 0.8063 - val_f1_m: 0.8054\n",
            "Epoch 6/30\n",
            "2644/2644 [==============================] - 152s 57ms/step - loss: 11.8647 - categorical_accuracy: 0.8338 - f1_m: 0.8329 - val_loss: 0.5306 - val_categorical_accuracy: 0.8114 - val_f1_m: 0.8107\n",
            "Epoch 7/30\n",
            "2644/2644 [==============================] - 151s 57ms/step - loss: 11.2434 - categorical_accuracy: 0.8416 - f1_m: 0.8407 - val_loss: 0.5206 - val_categorical_accuracy: 0.8139 - val_f1_m: 0.8129\n",
            "Epoch 8/30\n",
            "2644/2644 [==============================] - 153s 58ms/step - loss: 10.7033 - categorical_accuracy: 0.8481 - f1_m: 0.8473 - val_loss: 0.5169 - val_categorical_accuracy: 0.8153 - val_f1_m: 0.8142\n",
            "Epoch 9/30\n",
            "2644/2644 [==============================] - 150s 57ms/step - loss: 10.2294 - categorical_accuracy: 0.8541 - f1_m: 0.8535 - val_loss: 0.5179 - val_categorical_accuracy: 0.8177 - val_f1_m: 0.8172\n",
            "Epoch 10/30\n",
            "2644/2644 [==============================] - 152s 58ms/step - loss: 9.8068 - categorical_accuracy: 0.8588 - f1_m: 0.8584 - val_loss: 0.5104 - val_categorical_accuracy: 0.8194 - val_f1_m: 0.8185\n",
            "Epoch 11/30\n",
            "2644/2644 [==============================] - 151s 57ms/step - loss: 9.4390 - categorical_accuracy: 0.8639 - f1_m: 0.8634 - val_loss: 0.5052 - val_categorical_accuracy: 0.8209 - val_f1_m: 0.8198\n",
            "Epoch 12/30\n",
            "2644/2644 [==============================] - 152s 57ms/step - loss: 9.0939 - categorical_accuracy: 0.8679 - f1_m: 0.8677 - val_loss: 0.5071 - val_categorical_accuracy: 0.8205 - val_f1_m: 0.8192\n",
            "Epoch 13/30\n",
            "2644/2644 [==============================] - 151s 57ms/step - loss: 8.7835 - categorical_accuracy: 0.8723 - f1_m: 0.8720 - val_loss: 0.5100 - val_categorical_accuracy: 0.8214 - val_f1_m: 0.8207\n",
            "Epoch 14/30\n",
            "2644/2644 [==============================] - 153s 58ms/step - loss: 8.4817 - categorical_accuracy: 0.8760 - f1_m: 0.8757 - val_loss: 0.5127 - val_categorical_accuracy: 0.8225 - val_f1_m: 0.8216\n",
            "Epoch 15/30\n",
            "2644/2644 [==============================] - 154s 58ms/step - loss: 8.2270 - categorical_accuracy: 0.8794 - f1_m: 0.8791 - val_loss: 0.5139 - val_categorical_accuracy: 0.8208 - val_f1_m: 0.8199\n",
            "Epoch 16/30\n",
            "2644/2644 [==============================] - 156s 59ms/step - loss: 7.9731 - categorical_accuracy: 0.8829 - f1_m: 0.8828 - val_loss: 0.5078 - val_categorical_accuracy: 0.8250 - val_f1_m: 0.8240\n",
            "Epoch 17/30\n",
            "2644/2644 [==============================] - 164s 62ms/step - loss: 7.7306 - categorical_accuracy: 0.8860 - f1_m: 0.8858 - val_loss: 0.5157 - val_categorical_accuracy: 0.8245 - val_f1_m: 0.8240\n",
            "Epoch 18/30\n",
            "2644/2644 [==============================] - 168s 64ms/step - loss: 7.5190 - categorical_accuracy: 0.8889 - f1_m: 0.8888 - val_loss: 0.5175 - val_categorical_accuracy: 0.8233 - val_f1_m: 0.8225\n",
            "Epoch 19/30\n",
            "2644/2644 [==============================] - 161s 61ms/step - loss: 7.2975 - categorical_accuracy: 0.8919 - f1_m: 0.8917 - val_loss: 0.5235 - val_categorical_accuracy: 0.8233 - val_f1_m: 0.8225\n",
            "Epoch 20/30\n",
            "2644/2644 [==============================] - 165s 62ms/step - loss: 7.1126 - categorical_accuracy: 0.8947 - f1_m: 0.8946 - val_loss: 0.5202 - val_categorical_accuracy: 0.8241 - val_f1_m: 0.8235\n",
            "Epoch 21/30\n",
            "2644/2644 [==============================] - 153s 58ms/step - loss: 6.9470 - categorical_accuracy: 0.8967 - f1_m: 0.8965 - val_loss: 0.5224 - val_categorical_accuracy: 0.8281 - val_f1_m: 0.8276\n",
            "Epoch 22/30\n",
            "2644/2644 [==============================] - 156s 59ms/step - loss: 6.7639 - categorical_accuracy: 0.8993 - f1_m: 0.8993 - val_loss: 0.5248 - val_categorical_accuracy: 0.8278 - val_f1_m: 0.8275\n",
            "Epoch 23/30\n",
            "2644/2644 [==============================] - 154s 58ms/step - loss: 6.6010 - categorical_accuracy: 0.9016 - f1_m: 0.9016 - val_loss: 0.5333 - val_categorical_accuracy: 0.8277 - val_f1_m: 0.8273\n",
            "Epoch 24/30\n",
            "2644/2644 [==============================] - 163s 62ms/step - loss: 6.4510 - categorical_accuracy: 0.9038 - f1_m: 0.9037 - val_loss: 0.5356 - val_categorical_accuracy: 0.8246 - val_f1_m: 0.8243\n",
            "Epoch 25/30\n",
            "2644/2644 [==============================] - 169s 64ms/step - loss: 6.3130 - categorical_accuracy: 0.9057 - f1_m: 0.9056 - val_loss: 0.5352 - val_categorical_accuracy: 0.8275 - val_f1_m: 0.8273\n",
            "Epoch 26/30\n",
            "2644/2644 [==============================] - 160s 61ms/step - loss: 6.1584 - categorical_accuracy: 0.9081 - f1_m: 0.9080 - val_loss: 0.5412 - val_categorical_accuracy: 0.8278 - val_f1_m: 0.8276\n",
            "Epoch 27/30\n",
            "2644/2644 [==============================] - 154s 58ms/step - loss: 6.0436 - categorical_accuracy: 0.9096 - f1_m: 0.9096 - val_loss: 0.5437 - val_categorical_accuracy: 0.8245 - val_f1_m: 0.8239\n",
            "Epoch 28/30\n",
            "2644/2644 [==============================] - 152s 57ms/step - loss: 5.9051 - categorical_accuracy: 0.9115 - f1_m: 0.9115 - val_loss: 0.5454 - val_categorical_accuracy: 0.8278 - val_f1_m: 0.8273\n",
            "Epoch 29/30\n",
            "2644/2644 [==============================] - 151s 57ms/step - loss: 5.7817 - categorical_accuracy: 0.9135 - f1_m: 0.9136 - val_loss: 0.5529 - val_categorical_accuracy: 0.8274 - val_f1_m: 0.8272\n",
            "Epoch 30/30\n",
            "2644/2644 [==============================] - 148s 56ms/step - loss: 5.6713 - categorical_accuracy: 0.9151 - f1_m: 0.9152 - val_loss: 0.5528 - val_categorical_accuracy: 0.8260 - val_f1_m: 0.8257\n"
          ],
          "name": "stdout"
        }
      ]
    },
    {
      "cell_type": "code",
      "metadata": {
        "id": "NCToo2qxlXo_",
        "outputId": "5a0d93a2-107c-465d-f3eb-5cdb4ad1fd93",
        "colab": {
          "base_uri": "https://localhost:8080/"
        }
      },
      "source": [
        "CNN_40ts_zp = model_CNN.fit(X_train, y_train, epochs = 30, validation_data= (X_test, y_test), callbacks=[checkpoint], batch_size=400, sample_weight=class_weights)"
      ],
      "execution_count": 43,
      "outputs": [
        {
          "output_type": "stream",
          "text": [
            "Epoch 1/30\n",
            "2644/2644 [==============================] - 92s 35ms/step - loss: 20.4821 - categorical_accuracy: 0.7227 - f1_m: 0.7048 - val_loss: 0.6647 - val_categorical_accuracy: 0.7703 - val_f1_m: 0.7662\n",
            "Epoch 2/30\n",
            "2644/2644 [==============================] - 93s 35ms/step - loss: 16.8113 - categorical_accuracy: 0.7720 - f1_m: 0.7690 - val_loss: 0.6191 - val_categorical_accuracy: 0.7822 - val_f1_m: 0.7795\n",
            "Epoch 3/30\n",
            "2644/2644 [==============================] - 92s 35ms/step - loss: 15.1567 - categorical_accuracy: 0.7933 - f1_m: 0.7913 - val_loss: 0.5895 - val_categorical_accuracy: 0.7899 - val_f1_m: 0.7881\n",
            "Epoch 4/30\n",
            "2644/2644 [==============================] - 93s 35ms/step - loss: 14.0825 - categorical_accuracy: 0.8072 - f1_m: 0.8056 - val_loss: 0.5719 - val_categorical_accuracy: 0.7974 - val_f1_m: 0.7959\n",
            "Epoch 5/30\n",
            "2644/2644 [==============================] - 92s 35ms/step - loss: 13.2983 - categorical_accuracy: 0.8172 - f1_m: 0.8159 - val_loss: 0.5621 - val_categorical_accuracy: 0.8010 - val_f1_m: 0.7998\n",
            "Epoch 6/30\n",
            "2644/2644 [==============================] - 92s 35ms/step - loss: 12.6882 - categorical_accuracy: 0.8245 - f1_m: 0.8233 - val_loss: 0.5532 - val_categorical_accuracy: 0.8045 - val_f1_m: 0.8032\n",
            "Epoch 7/30\n",
            "2644/2644 [==============================] - 93s 35ms/step - loss: 12.1755 - categorical_accuracy: 0.8311 - f1_m: 0.8300 - val_loss: 0.5493 - val_categorical_accuracy: 0.8043 - val_f1_m: 0.8030\n",
            "Epoch 8/30\n",
            "2644/2644 [==============================] - 92s 35ms/step - loss: 11.7283 - categorical_accuracy: 0.8364 - f1_m: 0.8354 - val_loss: 0.5399 - val_categorical_accuracy: 0.8086 - val_f1_m: 0.8074\n",
            "Epoch 9/30\n",
            "2644/2644 [==============================] - 94s 35ms/step - loss: 11.3280 - categorical_accuracy: 0.8411 - f1_m: 0.8402 - val_loss: 0.5355 - val_categorical_accuracy: 0.8124 - val_f1_m: 0.8111\n",
            "Epoch 10/30\n",
            "2644/2644 [==============================] - 93s 35ms/step - loss: 11.0052 - categorical_accuracy: 0.8452 - f1_m: 0.8444 - val_loss: 0.5413 - val_categorical_accuracy: 0.8097 - val_f1_m: 0.8083\n",
            "Epoch 11/30\n",
            "2644/2644 [==============================] - 93s 35ms/step - loss: 10.6857 - categorical_accuracy: 0.8493 - f1_m: 0.8486 - val_loss: 0.5380 - val_categorical_accuracy: 0.8108 - val_f1_m: 0.8097\n",
            "Epoch 12/30\n",
            "2644/2644 [==============================] - 93s 35ms/step - loss: 10.4063 - categorical_accuracy: 0.8525 - f1_m: 0.8518 - val_loss: 0.5320 - val_categorical_accuracy: 0.8139 - val_f1_m: 0.8129\n",
            "Epoch 13/30\n",
            "2644/2644 [==============================] - 94s 36ms/step - loss: 10.1519 - categorical_accuracy: 0.8557 - f1_m: 0.8551 - val_loss: 0.5351 - val_categorical_accuracy: 0.8131 - val_f1_m: 0.8119\n",
            "Epoch 14/30\n",
            "2644/2644 [==============================] - 94s 35ms/step - loss: 9.9307 - categorical_accuracy: 0.8583 - f1_m: 0.8577 - val_loss: 0.5315 - val_categorical_accuracy: 0.8151 - val_f1_m: 0.8143\n",
            "Epoch 15/30\n",
            "2644/2644 [==============================] - 96s 36ms/step - loss: 9.6939 - categorical_accuracy: 0.8615 - f1_m: 0.8609 - val_loss: 0.5329 - val_categorical_accuracy: 0.8160 - val_f1_m: 0.8149\n",
            "Epoch 16/30\n",
            "2644/2644 [==============================] - 94s 35ms/step - loss: 9.4878 - categorical_accuracy: 0.8640 - f1_m: 0.8635 - val_loss: 0.5360 - val_categorical_accuracy: 0.8153 - val_f1_m: 0.8146\n",
            "Epoch 17/30\n",
            "2644/2644 [==============================] - 94s 36ms/step - loss: 9.3041 - categorical_accuracy: 0.8663 - f1_m: 0.8657 - val_loss: 0.5361 - val_categorical_accuracy: 0.8146 - val_f1_m: 0.8138\n",
            "Epoch 18/30\n",
            "2644/2644 [==============================] - 93s 35ms/step - loss: 9.1560 - categorical_accuracy: 0.8684 - f1_m: 0.8679 - val_loss: 0.5371 - val_categorical_accuracy: 0.8138 - val_f1_m: 0.8124\n",
            "Epoch 19/30\n",
            "2644/2644 [==============================] - 94s 36ms/step - loss: 8.9730 - categorical_accuracy: 0.8704 - f1_m: 0.8700 - val_loss: 0.5357 - val_categorical_accuracy: 0.8148 - val_f1_m: 0.8135\n",
            "Epoch 20/30\n",
            "2644/2644 [==============================] - 94s 36ms/step - loss: 8.8172 - categorical_accuracy: 0.8726 - f1_m: 0.8722 - val_loss: 0.5371 - val_categorical_accuracy: 0.8165 - val_f1_m: 0.8156\n",
            "Epoch 21/30\n",
            "2644/2644 [==============================] - 95s 36ms/step - loss: 8.6744 - categorical_accuracy: 0.8744 - f1_m: 0.8740 - val_loss: 0.5427 - val_categorical_accuracy: 0.8150 - val_f1_m: 0.8141\n",
            "Epoch 22/30\n",
            "2644/2644 [==============================] - 95s 36ms/step - loss: 8.5271 - categorical_accuracy: 0.8764 - f1_m: 0.8761 - val_loss: 0.5426 - val_categorical_accuracy: 0.8154 - val_f1_m: 0.8148\n",
            "Epoch 23/30\n",
            "2644/2644 [==============================] - 94s 36ms/step - loss: 8.3900 - categorical_accuracy: 0.8783 - f1_m: 0.8779 - val_loss: 0.5517 - val_categorical_accuracy: 0.8145 - val_f1_m: 0.8136\n",
            "Epoch 24/30\n",
            "2644/2644 [==============================] - 95s 36ms/step - loss: 8.2545 - categorical_accuracy: 0.8798 - f1_m: 0.8796 - val_loss: 0.5478 - val_categorical_accuracy: 0.8146 - val_f1_m: 0.8137\n",
            "Epoch 25/30\n",
            "2644/2644 [==============================] - 94s 35ms/step - loss: 8.1310 - categorical_accuracy: 0.8817 - f1_m: 0.8813 - val_loss: 0.5524 - val_categorical_accuracy: 0.8168 - val_f1_m: 0.8159\n",
            "Epoch 26/30\n",
            "2644/2644 [==============================] - 94s 36ms/step - loss: 8.0239 - categorical_accuracy: 0.8830 - f1_m: 0.8827 - val_loss: 0.5508 - val_categorical_accuracy: 0.8140 - val_f1_m: 0.8130\n",
            "Epoch 27/30\n",
            "2644/2644 [==============================] - 94s 35ms/step - loss: 7.9071 - categorical_accuracy: 0.8846 - f1_m: 0.8843 - val_loss: 0.5534 - val_categorical_accuracy: 0.8170 - val_f1_m: 0.8163\n",
            "Epoch 28/30\n",
            "2644/2644 [==============================] - 95s 36ms/step - loss: 7.7973 - categorical_accuracy: 0.8863 - f1_m: 0.8860 - val_loss: 0.5593 - val_categorical_accuracy: 0.8137 - val_f1_m: 0.8128\n",
            "Epoch 29/30\n",
            "2644/2644 [==============================] - 94s 36ms/step - loss: 7.6896 - categorical_accuracy: 0.8875 - f1_m: 0.8873 - val_loss: 0.5654 - val_categorical_accuracy: 0.8131 - val_f1_m: 0.8122\n",
            "Epoch 30/30\n",
            "2644/2644 [==============================] - 94s 35ms/step - loss: 7.5958 - categorical_accuracy: 0.8890 - f1_m: 0.8888 - val_loss: 0.5649 - val_categorical_accuracy: 0.8161 - val_f1_m: 0.8154\n"
          ],
          "name": "stdout"
        }
      ]
    },
    {
      "cell_type": "code",
      "metadata": {
        "id": "-LIuuIcCMbr4",
        "outputId": "1036b2c5-5f72-485a-b4e3-f6976569c8c2",
        "colab": {
          "base_uri": "https://localhost:8080/"
        }
      },
      "source": [
        "model_CNN.output_shape"
      ],
      "execution_count": null,
      "outputs": [
        {
          "output_type": "execute_result",
          "data": {
            "text/plain": [
              "(None, 1, 4)"
            ]
          },
          "metadata": {
            "tags": []
          },
          "execution_count": 379
        }
      ]
    },
    {
      "cell_type": "code",
      "metadata": {
        "id": "0AO3Ltwhtjly"
      },
      "source": [
        "# Load model if needed\n",
        "from keras.models import load_model\n",
        "CNN_model = load_model('/content/drive/My Drive/CNNdnkmfull41100000023.h5', custom_objects={'f1_m': f1_m})"
      ],
      "execution_count": null,
      "outputs": []
    },
    {
      "cell_type": "code",
      "metadata": {
        "id": "rOxxTEorgtfe"
      },
      "source": [
        "# Function to split test data into proper inputs\n",
        "def split_test_sequences(sequences, n_steps):\n",
        "  X = list()\n",
        "  end_flag = True \n",
        "  for i in range(0,len(sequences)):\n",
        "    # find the end of this pattern\n",
        "    end_ix = i + n_steps\n",
        "    # check if we are beyond the dataset\n",
        "    if end_ix > len(sequences):\n",
        "      end_flag = False\n",
        "      for j in range(i, len(sequences)):  \n",
        "        seq_x = sequences[j:, :]\n",
        "        if seq_x.shape[0] < n_steps:\n",
        "          add_x = np.zeros((n_steps-seq_x.shape[0],6))\n",
        "          seq_x = np.r_[seq_x, add_x]\n",
        "        X.append(seq_x)\n",
        "      break\n",
        "    # gather input and output parts of the pattern\n",
        "    if (end_flag):\n",
        "      seq_x = sequences[i:end_ix, :]\n",
        "      X.append(seq_x)\n",
        "  return array(X)"
      ],
      "execution_count": 45,
      "outputs": []
    },
    {
      "cell_type": "code",
      "metadata": {
        "id": "pEVgu9wIB9_q",
        "outputId": "1be4c6b8-874d-476c-c8d1-cc83ad320d12",
        "colab": {
          "base_uri": "https://localhost:8080/"
        }
      },
      "source": [
        "model_CNN.input_shape"
      ],
      "execution_count": null,
      "outputs": [
        {
          "output_type": "execute_result",
          "data": {
            "text/plain": [
              "(None, 1, 60)"
            ]
          },
          "metadata": {
            "tags": []
          },
          "execution_count": 88
        }
      ]
    },
    {
      "cell_type": "code",
      "metadata": {
        "id": "D8kd-3NmNoHG"
      },
      "source": [
        "# Code block to transform the test data into inputs and join with y_time to get the prediction at that specific y_time\n",
        "test_filenames = [i for i in glob.glob('/content/drive/My Drive/TestData/*.{}'.format('csv'))]\n",
        "df_x, df_x_time, df_y_time = [], [], []\n",
        "for f in test_filenames:\n",
        "  if '009' in f:\n",
        "    if f.endswith('x.csv'):\n",
        "      df = pd.read_csv(f, header=None)\n",
        "      df['subject'] = f.split('/')[-1].split('_')[1]\n",
        "      df['subject_ID'] = f.split('/')[-1].split('_')[2]\n",
        "      df_x.append(df)\n",
        "    if f.endswith('x_time.csv'):\n",
        "      df = pd.read_csv(f, header=None)\n",
        "      df_x_time.append(df)\n",
        "    if f.endswith('y_time.csv'):\n",
        "      df = pd.read_csv(f, header=None)\n",
        "      df['subject'] = f.split('/')[-1].split('_')[1]\n",
        "      df['subject_ID'] = f.split('/')[-1].split('_')[2]\n",
        "      df_y_time.append(df)\n",
        "    \n",
        "test_x = pd.concat(df_x, ignore_index=True)\n",
        "test_x.columns = ['x1', 'x2', 'x3', 'x4', 'x5', 'x6', 'subject', 'subject_ID']\n",
        "test_x_time = pd.concat(df_x_time, ignore_index=True)\n",
        "test_x_time.columns = ['x_time']\n",
        "test_y_time = pd.concat(df_y_time, ignore_index=True)\n",
        "test_y_time.columns = ['time', 'subject', 'subject_ID']\n",
        "test_x['time'] = test_x_time['x_time']\n",
        "test_y_time['time'] = [round(x + 0.005,3) for x in test_y_time['time']]\n",
        "final_test = pd.merge(test_x, test_y_time, on=['time', 'subject', 'subject_ID'], how='left')\n",
        "in_seq1 = final_test['x1'].to_numpy().reshape((len(final_test['x1']), 1))\n",
        "in_seq2 = final_test['x2'].to_numpy().reshape((len(final_test['x2']), 1))\n",
        "in_seq3 = final_test['x3'].to_numpy().reshape((len(final_test['x3']), 1))\n",
        "in_seq4 = final_test['x4'].to_numpy().reshape((len(final_test['x4']), 1))\n",
        "in_seq5 = final_test['x5'].to_numpy().reshape((len(final_test['x5']), 1))\n",
        "in_seq6 = final_test['x6'].to_numpy().reshape((len(final_test['x6']), 1))\n",
        "dataset = np.hstack((in_seq1, in_seq2, in_seq3, in_seq4, in_seq5, in_seq6))\n",
        "test_x = split_test_sequences(dataset, 40)\n",
        "# scaler = StandardScaler()\n",
        "test_x = scaler.transform(test_x.reshape(-1,240))\n",
        "test = test_x.reshape(-1,1,240)\n",
        "y_pred = model_CNN.predict(test)\n",
        "y_pred = np.argmax(y_pred.reshape(-1,4), axis=1)\n",
        "final_test['y_pred'] = y_pred\n",
        "pred = pd.merge(final_test, test_y_time, on=['time', 'subject', 'subject_ID'], how='inner')['y_pred']\n",
        "pred.to_csv(\"subject_009_01__y_prediction.csv\", index=False, header=False)\n",
        "# np.savetxt(\"subject_009_01__y_prediction.csv\", y_pred, delimiter=\",\")"
      ],
      "execution_count": 75,
      "outputs": []
    },
    {
      "cell_type": "code",
      "metadata": {
        "id": "5BkP2upGVNFa",
        "outputId": "bb6d8bf5-4390-4256-bb09-a620bc557a6c",
        "colab": {
          "base_uri": "https://localhost:8080/"
        }
      },
      "source": [
        "pred.shape"
      ],
      "execution_count": 57,
      "outputs": [
        {
          "output_type": "execute_result",
          "data": {
            "text/plain": [
              "(11330,)"
            ]
          },
          "metadata": {
            "tags": []
          },
          "execution_count": 57
        }
      ]
    },
    {
      "cell_type": "code",
      "metadata": {
        "id": "Ktb40ZSNlP7B"
      },
      "source": [
        "import matplotlib.pyplot as plt\n",
        "\n",
        "# Function to plot accuracy and loss graphs\n",
        "def plot_history(history):\n",
        "\t  # plot loss\n",
        "    plt.title('Loss')\n",
        "    plt.plot(history.history['loss'], color='blue', label='train')\n",
        "    plt.plot(history.history['val_loss'], color='red', label='test')\n",
        "    plt.ylabel('Loss')\n",
        "    plt.xlabel('Epoch')\n",
        "    plt.legend(['Train', 'Validation'])\n",
        "    plt.show()\n",
        "    \n",
        "    # plot accuracy\n",
        "    plt.title('Accuracy')\n",
        "    plt.plot(history.history['categorical_accuracy'], color='blue', label='train')\n",
        "    plt.plot(history.history['val_categorical_accuracy'], color='red', label='test')\n",
        "    plt.ylabel('Accuracy')\n",
        "    plt.xlabel('Epoch')\n",
        "    plt.legend(['Train', 'Validation'])\n",
        "    plt.show()"
      ],
      "execution_count": 76,
      "outputs": []
    },
    {
      "cell_type": "code",
      "metadata": {
        "id": "epqPE4byfxB6",
        "outputId": "0ee5f562-1e4b-4f52-dfeb-0ace793bd20a",
        "colab": {
          "base_uri": "https://localhost:8080/",
          "height": 573
        }
      },
      "source": [
        "plot_history(RNN_ts40_weight)"
      ],
      "execution_count": 88,
      "outputs": [
        {
          "output_type": "display_data",
          "data": {
            "image/png": "[encoded data removed]",
            "text/plain": [
              "<Figure size 432x288 with 1 Axes>"
            ]
          },
          "metadata": {
            "tags": [],
            "needs_background": "light"
          }
        },
        {
          "output_type": "display_data",
          "data": {
            "image/png": "[encoded data removed]",
            "text/plain": [
              "<Figure size 432x288 with 1 Axes>"
            ]
          },
          "metadata": {
            "tags": [],
            "needs_background": "light"
          }
        }
      ]
    },
    {
      "cell_type": "code",
      "metadata": {
        "id": "29w2NxAfp-vV",
        "outputId": "28900759-f8db-4b7b-9f64-a1eeeb86c11b",
        "colab": {
          "base_uri": "https://localhost:8080/",
          "height": 296
        }
      },
      "source": [
        "# Plotting f1 metric\n",
        "plt.plot(CNN_40ts_extra.history['f1_m'], color='blue', label='train')\n",
        "plt.plot(CNN_40ts_extra.history['val_f1_m'], color='red', label='test')\n",
        "plt.ylabel('F1 Scores')\n",
        "plt.xlabel('Epoch')\n",
        "plt.legend(['Train', 'Validation'])"
      ],
      "execution_count": 79,
      "outputs": [
        {
          "output_type": "execute_result",
          "data": {
            "text/plain": [
              "<matplotlib.legend.Legend at 0x7fd23333a198>"
            ]
          },
          "metadata": {
            "tags": []
          },
          "execution_count": 79
        },
        {
          "output_type": "display_data",
          "data": {
            "image/png": "[encoded data removed]",
            "text/plain": [
              "<Figure size 432x288 with 1 Axes>"
            ]
          },
          "metadata": {
            "tags": [],
            "needs_background": "light"
          }
        }
      ]
    },
    {
      "cell_type": "code",
      "metadata": {
        "id": "ipYyBrJ5-UKT",
        "outputId": "8b51e799-bb72-489f-f913-2c15b2805ccd",
        "colab": {
          "base_uri": "https://localhost:8080/"
        }
      },
      "source": [
        "# Classification report for the model on the test data we split using test_train_split\n",
        "from sklearn.metrics import classification_report\n",
        "y_p = model_CNN.predict(X_test)\n",
        "y_p = np.argmax(y_p.reshape(-1,4), axis=1)\n",
        "y_test_n = np.argmax(y_test.reshape(-1,4), axis=1)\n",
        "print(classification_report(y_test_n, y_p))"
      ],
      "execution_count": 71,
      "outputs": [
        {
          "output_type": "stream",
          "text": [
            "              precision    recall  f1-score   support\n",
            "\n",
            "           0       0.87      0.92      0.89    305522\n",
            "           1       0.62      0.55      0.58     24315\n",
            "           2       0.58      0.44      0.50     18022\n",
            "           3       0.71      0.61      0.66     62266\n",
            "\n",
            "    accuracy                           0.83    410125\n",
            "   macro avg       0.69      0.63      0.66    410125\n",
            "weighted avg       0.82      0.83      0.82    410125\n",
            "\n"
          ],
          "name": "stdout"
        }
      ]
    },
    {
      "cell_type": "code",
      "metadata": {
        "id": "cBofQgLUkpIc",
        "outputId": "58ef8aa9-8e37-4732-b2d6-9337a95592e9",
        "colab": {
          "base_uri": "https://localhost:8080/"
        }
      },
      "source": [
        "from sklearn.metrics import classification_report\n",
        "y_p = model_CNN.predict(X_test)\n",
        "y_p = np.argmax(y_p.reshape(-1,4), axis=1)\n",
        "y_test_n = np.argmax(y_test.reshape(-1,4), axis=1)\n",
        "print(classification_report(y_test_n, y_p))"
      ],
      "execution_count": 44,
      "outputs": [
        {
          "output_type": "stream",
          "text": [
            "              precision    recall  f1-score   support\n",
            "\n",
            "           0       0.85      0.92      0.89    305522\n",
            "           1       0.64      0.47      0.54     24315\n",
            "           2       0.56      0.38      0.46     18022\n",
            "           3       0.70      0.56      0.62     62266\n",
            "\n",
            "    accuracy                           0.82    410125\n",
            "   macro avg       0.69      0.58      0.63    410125\n",
            "weighted avg       0.80      0.82      0.81    410125\n",
            "\n"
          ],
          "name": "stdout"
        }
      ]
    },
    {
      "cell_type": "code",
      "metadata": {
        "id": "k61wqr-3AAEW",
        "outputId": "f5a6563f-90d4-4a43-9825-a0cd9add050b",
        "colab": {
          "base_uri": "https://localhost:8080/"
        }
      },
      "source": [
        "from sklearn.metrics import classification_report\n",
        "y_p = model_CNN.predict(X_test)\n",
        "y_p = np.argmax(y_p.reshape(-1,4), axis=1)\n",
        "y_test_n = np.argmax(y_test.reshape(-1,4), axis=1)\n",
        "print(classification_report(y_test_n, y_p))"
      ],
      "execution_count": null,
      "outputs": [
        {
          "output_type": "stream",
          "text": [
            "              precision    recall  f1-score   support\n",
            "\n",
            "           0       0.85      0.90      0.87    305160\n",
            "           1       0.58      0.42      0.48     24476\n",
            "           2       0.49      0.36      0.42     18343\n",
            "           3       0.64      0.54      0.59     62146\n",
            "\n",
            "    accuracy                           0.80    410125\n",
            "   macro avg       0.64      0.56      0.59    410125\n",
            "weighted avg       0.78      0.80      0.79    410125\n",
            "\n"
          ],
          "name": "stdout"
        }
      ]
    },
    {
      "cell_type": "code",
      "metadata": {
        "id": "9jV-GGKHlBPU",
        "outputId": "3678dab4-33a4-4f27-b2b9-8a1895a1bd41",
        "colab": {
          "base_uri": "https://localhost:8080/"
        }
      },
      "source": [
        "y_test_n = np.argmax(y_test.reshape(-1,4), axis=1)\n",
        "print(classification_report(y_test_n, y_p))"
      ],
      "execution_count": null,
      "outputs": [
        {
          "output_type": "stream",
          "text": [
            "              precision    recall  f1-score   support\n",
            "\n",
            "           0       0.79      0.92      0.85    304469\n",
            "           1       0.38      0.29      0.33     27394\n",
            "           2       0.35      0.20      0.25     15429\n",
            "           3       0.62      0.27      0.38     62833\n",
            "\n",
            "    accuracy                           0.75    410125\n",
            "   macro avg       0.54      0.42      0.45    410125\n",
            "weighted avg       0.72      0.75      0.72    410125\n",
            "\n"
          ],
          "name": "stdout"
        }
      ]
    },
    {
      "cell_type": "code",
      "metadata": {
        "id": "Qe9A-ai5ub4U",
        "outputId": "1b21fe34-24bb-4a7b-8b27-c92abf773bb0",
        "colab": {
          "base_uri": "https://localhost:8080/"
        }
      },
      "source": [
        "from sklearn.metrics import classification_report\n",
        "y_p = model.predict(X_test)\n",
        "y_p = np.argmax(y_p.reshape(-1,4), axis=1)\n",
        "y_test_n = np.argmax(y_test.reshape(-1,4), axis=1)\n",
        "print(classification_report(y_test_n, y_p))"
      ],
      "execution_count": 89,
      "outputs": [
        {
          "output_type": "stream",
          "text": [
            "              precision    recall  f1-score   support\n",
            "\n",
            "           0       0.82      0.94      0.87    305522\n",
            "           1       0.56      0.35      0.43     24315\n",
            "           2       0.54      0.26      0.35     18022\n",
            "           3       0.71      0.42      0.53     62266\n",
            "\n",
            "    accuracy                           0.79    410125\n",
            "   macro avg       0.66      0.49      0.55    410125\n",
            "weighted avg       0.78      0.79      0.77    410125\n",
            "\n"
          ],
          "name": "stdout"
        }
      ]
    }
  ]
}